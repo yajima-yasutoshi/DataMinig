{
  "nbformat": 4,
  "nbformat_minor": 0,
  "metadata": {
    "colab": {
      "provenance": [],
      "collapsed_sections": [
        "BpxjJtaORl_q"
      ],
      "mount_file_id": "1WNNnvmPplSNwzB8tSBhebwxEWXNR1ryn",
      "authorship_tag": "ABX9TyMjcE9QABbTDqmZVhBP/euh",
      "include_colab_link": true
    },
    "kernelspec": {
      "name": "python3",
      "display_name": "Python 3"
    },
    "language_info": {
      "name": "python"
    }
  },
  "cells": [
    {
      "cell_type": "markdown",
      "metadata": {
        "id": "view-in-github",
        "colab_type": "text"
      },
      "source": [
        "<a href=\"https://colab.research.google.com/github/yajima-yasutoshi/DataMinig/blob/main/20231108/%E3%82%AF%E3%83%A9%E3%82%B9%E3%82%BF%E3%83%AA%E3%83%B3%E3%82%B0.ipynb\" target=\"_parent\"><img src=\"https://colab.research.google.com/assets/colab-badge.svg\" alt=\"Open In Colab\"/></a>"
      ]
    },
    {
      "cell_type": "markdown",
      "source": [
        "# データマイニング第7回（2023/11/8）"
      ],
      "metadata": {
        "id": "g8YJ3oojiqNa"
      }
    },
    {
      "cell_type": "markdown",
      "source": [
        "#本日の講義の目的\n",
        "\n",
        "クラスタリング手法に関する説明を行う\n",
        "\n",
        "## 本日の講義の資料\n",
        "\n",
        "以下のサイトに保存してある「利用回数.xlsx」をダウンロード使う。\n",
        "\n",
        "https://github.com/yajima-yasutoshi/DataMinig/tree/main/20231108\n",
        "\n"
      ],
      "metadata": {
        "id": "wUezl4MyB_v3"
      }
    },
    {
      "cell_type": "markdown",
      "source": [
        "# 準備"
      ],
      "metadata": {
        "id": "8zFBC9q961jw"
      }
    },
    {
      "cell_type": "code",
      "source": [
        "# インストール\n",
        "!pip install japanize-matplotlib"
      ],
      "metadata": {
        "id": "g9TNYrU66eru"
      },
      "execution_count": null,
      "outputs": []
    },
    {
      "cell_type": "markdown",
      "source": [
        "## 必要なライブラリーのインポート"
      ],
      "metadata": {
        "id": "ZcX_E1F-64Qu"
      }
    },
    {
      "cell_type": "code",
      "source": [
        "# 必要なライブラリのインポート\n",
        "import pandas as pd\n",
        "import numpy as np\n",
        "import matplotlib.pyplot as plt\n",
        "import japanize_matplotlib\n",
        "import seaborn as sns"
      ],
      "metadata": {
        "id": "yyL6VVt3KRLI"
      },
      "execution_count": null,
      "outputs": []
    },
    {
      "cell_type": "markdown",
      "source": [
        "# クラスタリングとは\n"
      ],
      "metadata": {
        "id": "t5gAJm8O5W7-"
      }
    },
    {
      "cell_type": "markdown",
      "source": [
        "まず、以下のサイトより「利用回数.xlsx」をダウンロードし、Google Colab に読み込みを行う。\n",
        "\n",
        "https://github.com/yajima-yasutoshi/DataMinig/tree/main/20231108"
      ],
      "metadata": {
        "id": "6DL-YSEBBJ2h"
      }
    },
    {
      "cell_type": "code",
      "source": [
        "# 読み込むファイルを指定する\n",
        "file_path = '/content/drive/MyDrive/周南公立大学/講義/データマイニング/データ/利用回数.xlsx'\n",
        "df = pd.read_excel(file_path)"
      ],
      "metadata": {
        "id": "E650gU8OiZPS"
      },
      "execution_count": null,
      "outputs": []
    },
    {
      "cell_type": "code",
      "source": [
        "df.info()"
      ],
      "metadata": {
        "id": "RUubs_1jBgqQ"
      },
      "execution_count": null,
      "outputs": []
    },
    {
      "cell_type": "markdown",
      "source": [
        "サンプルとして用いるデータは、顧客毎に**年齢**とあるサービスの**利用回数**が記録されているものである。"
      ],
      "metadata": {
        "id": "XzSDdEWli606"
      }
    },
    {
      "cell_type": "code",
      "source": [
        "df.head()"
      ],
      "metadata": {
        "id": "S6ROb70wityo"
      },
      "execution_count": null,
      "outputs": []
    },
    {
      "cell_type": "markdown",
      "source": [
        "年齢と利用回数の関係を散布図で可視化する。"
      ],
      "metadata": {
        "id": "CdpfIdUJ5qQw"
      }
    },
    {
      "cell_type": "code",
      "source": [
        "sns.scatterplot(x='年齢', y='利用回数', data=df)\n",
        "plt.title('散布図')\n",
        "plt.show()"
      ],
      "metadata": {
        "id": "lChaM9cHjFp9"
      },
      "execution_count": null,
      "outputs": []
    },
    {
      "cell_type": "markdown",
      "source": [
        "上の散布図から、\n",
        " * 年齢が高く利用回数の多い利用者\n",
        " * 年齢が低く利用回数の多い利用者\n",
        " * 年齢が低く利用回数の少ない利用者\n",
        "\n",
        "に傾向が分かれていることが観察できる。\n",
        "\n",
        "傾向が似通っているレコードを自動的に分類する方法が\n",
        "**「クラスタリング」**である。\n",
        "\n",
        "スーパーやドラッグストア、コンビニなどの小売店などでは、\n",
        "顧客の属性や購買行動のデータを元にして、\n",
        "傾向が似ている顧客をいくつかのグループに分類し、\n",
        "どのような顧客が良く利用しているのか、\n",
        "どのような商品を購入する顧客がいるのか、\n",
        "など、顧客の行動を理解することで販促や商品開発などを行っている。"
      ],
      "metadata": {
        "id": "v9yixNAB5zzo"
      }
    },
    {
      "cell_type": "markdown",
      "source": [
        "参考事例：\n",
        "https://www.nikkei.com/article/DGXZQOUC132X30T10C22A9000000/"
      ],
      "metadata": {
        "id": "boviUu5wxpyA"
      }
    },
    {
      "cell_type": "markdown",
      "source": [
        "## クラスタリングの実行手順"
      ],
      "metadata": {
        "id": "oICpTuJ2Lpho"
      }
    },
    {
      "cell_type": "markdown",
      "source": [
        "### データを標準化する。\n",
        " クラスタリングを実行する前にデータを**標準化**し、\n",
        " データの大きさを平均 0、分散 1 に変換する必要がある。"
      ],
      "metadata": {
        "id": "1trcdk5dQ0gU"
      }
    },
    {
      "cell_type": "code",
      "source": [
        "fig, (ax1, ax2) = plt.subplots( 1, 2 , figsize=(10,4))\n",
        "sns.histplot( df['年齢'], bins=10, kde=False, ax=ax1)\n",
        "sns.histplot( df['利用回数'], bins=10, kde=False, ax=ax2)\n",
        "plt.show()"
      ],
      "metadata": {
        "id": "HVq6-K2W1aVm"
      },
      "execution_count": null,
      "outputs": []
    },
    {
      "cell_type": "code",
      "source": [
        "df['年齢'].var()"
      ],
      "metadata": {
        "id": "G68AeqxC3AlS"
      },
      "execution_count": null,
      "outputs": []
    },
    {
      "cell_type": "code",
      "source": [
        "df['利用回数'].var()"
      ],
      "metadata": {
        "id": "S25A3Qmj3MGa"
      },
      "execution_count": null,
      "outputs": []
    },
    {
      "cell_type": "markdown",
      "source": [
        "このように、項目によって数値の大きさが異なる場合には標準化が不可欠である。"
      ],
      "metadata": {
        "id": "x2FmDlsb7U2U"
      }
    },
    {
      "cell_type": "markdown",
      "source": [
        "var()以外にもデータ分析で使う主な関数には以下のものがある。\n",
        "\n",
        "関数  | 意味\n",
        "--    |   --\n",
        "sum()    | 合計\n",
        "mean()   | 平均\n",
        "**var()**    | **分散**\n",
        "std()    | 標準偏差\n",
        "median() | 中央値\n",
        "min()    | 最小値\n",
        "max()    | 最大値\n",
        "quantile(0.25)  | 四分位点"
      ],
      "metadata": {
        "id": "6NGKHacLrATE"
      }
    },
    {
      "cell_type": "markdown",
      "source": [
        "### 分散と標準偏差\n",
        "\n",
        "標準偏差を二乗すると分散となる。例えば、以下のように確認できる。"
      ],
      "metadata": {
        "id": "Sf_DuMcWEy0S"
      }
    },
    {
      "cell_type": "code",
      "source": [
        "df['利用回数'].std() * df['利用回数'].std()"
      ],
      "metadata": {
        "id": "Hp0949QyEicW"
      },
      "execution_count": null,
      "outputs": []
    },
    {
      "cell_type": "markdown",
      "source": [
        "## Pythonでの前処理"
      ],
      "metadata": {
        "id": "HU0SvWiXFKM9"
      }
    },
    {
      "cell_type": "code",
      "source": [
        "# 標準化に必要なライブラリーのインポート\n",
        "from sklearn.preprocessing import StandardScaler"
      ],
      "metadata": {
        "id": "iDmxBg-XIhrJ"
      },
      "execution_count": null,
      "outputs": []
    },
    {
      "cell_type": "code",
      "source": [
        "# 標準化の対象となる項目を変数 X にセットする\n",
        "X = df[['年齢', '利用回数']]\n",
        "\n",
        "# 準備の準備\n",
        "scaler = StandardScaler()\n",
        "\n",
        "# 標準化の実施\n",
        "# 標準化後のデータを再びXにセットする\n",
        "X = scaler.fit_transform(X)"
      ],
      "metadata": {
        "id": "_um17A_zmWCG"
      },
      "execution_count": null,
      "outputs": []
    },
    {
      "cell_type": "code",
      "source": [
        "# 標準化の確認\n",
        "X = pd.DataFrame( X, columns=['x1', 'x2'])\n",
        "\n",
        "fig, (ax1, ax2) = plt.subplots( 1, 2 , figsize=(10,4))\n",
        "\n",
        "ax1.set_title(\"変換後\")\n",
        "#sns.histplot(X[:,0], ax=ax1)\n",
        "sns.scatterplot(data=X, x='x1', y='x2', ax=ax1)\n",
        "\n",
        "ax2.set_title(\"変換前\")\n",
        "#sns.histplot(df['年齢'], ax=ax2)\n",
        "sns.scatterplot(data=df, x='年齢', y='利用回数', ax=ax2 )"
      ],
      "metadata": {
        "id": "YMfY61M1HN4G"
      },
      "execution_count": null,
      "outputs": []
    },
    {
      "cell_type": "markdown",
      "source": [
        "### 標準化の確認"
      ],
      "metadata": {
        "id": "UeHZYFYwnnSP"
      }
    },
    {
      "cell_type": "code",
      "source": [
        "# 元のデータの平均を計算\n",
        "df['年齢'].mean()"
      ],
      "metadata": {
        "id": "sLRb5oHrnsPW"
      },
      "execution_count": null,
      "outputs": []
    },
    {
      "cell_type": "code",
      "source": [
        "# 元のデータの分散を計算\n",
        "df['年齢'].var()"
      ],
      "metadata": {
        "id": "pdTxCgOxocvc"
      },
      "execution_count": null,
      "outputs": []
    },
    {
      "cell_type": "code",
      "source": [
        "# 標準化後のデータの平均\n",
        "X['x1'].mean()"
      ],
      "metadata": {
        "id": "y5BmbOvJot2k"
      },
      "execution_count": null,
      "outputs": []
    },
    {
      "cell_type": "code",
      "source": [
        "# 標準化後のデータの分散を計算\n",
        "X['x1'].var()"
      ],
      "metadata": {
        "id": "oyU5IOGen9wb"
      },
      "execution_count": null,
      "outputs": []
    },
    {
      "cell_type": "markdown",
      "source": [
        "## クラスタリングの実行"
      ],
      "metadata": {
        "id": "vTR9Uh1hRW6B"
      }
    },
    {
      "cell_type": "markdown",
      "source": [
        "本講義では、クラスタリングを行う代表的な手法であるK-means法を扱う。\n",
        "\n",
        "データ分析ライブラリーの sklearn に含まれている**KMeans**を用いる。\n",
        "詳しい使い方は以下のリンクを参照\n",
        "\n",
        "https://scikit-learn.org/stable/modules/generated/sklearn.cluster.KMeans.html\n"
      ],
      "metadata": {
        "id": "lzoQWo4E3XPl"
      }
    },
    {
      "cell_type": "code",
      "source": [
        "# クラスタリングに必要なライブラリーのインポート\n",
        "from sklearn.cluster import KMeans\n",
        "\n",
        "# 標準化に必要なライブラリーのインポート\n",
        "from sklearn.preprocessing import StandardScaler\n",
        "\n",
        "# data という変数に読み込む\n",
        "df = pd.read_excel(file_path)\n",
        "\n",
        "# クラスタリング分析に用いる項目を選ぶ\n",
        "col = ['年齢', '利用回数']\n",
        "\n",
        "# 選んだ項目を変数 X にセットする\n",
        "X = df[col]\n",
        "\n",
        "# 準備の準備\n",
        "scaler = StandardScaler()\n",
        "\n",
        "# 標準化後のデータを再びXにセットする\n",
        "X = scaler.fit_transform(X)\n",
        "\n",
        "# 最適なクラスタ数を3であると仮定\n",
        "best_n_clusters = 3\n",
        "\n",
        "kmeans = KMeans(n_clusters=best_n_clusters, init='k-means++', max_iter=500, n_init='auto')\n",
        "kmeans.fit(X)"
      ],
      "metadata": {
        "id": "jJJmRUMqLmuP"
      },
      "execution_count": null,
      "outputs": []
    },
    {
      "cell_type": "markdown",
      "source": [
        " kmeans.labels_ にクラスタリングの結果が格納されているので、それをdfに追加する。"
      ],
      "metadata": {
        "id": "w_ZsIEiiq9kQ"
      }
    },
    {
      "cell_type": "code",
      "source": [
        "# クラスタラベルをデータフレームに追加\n",
        "df['cluster'] = kmeans.labels_"
      ],
      "metadata": {
        "id": "uElN7zyyrJVo"
      },
      "execution_count": null,
      "outputs": []
    },
    {
      "cell_type": "code",
      "source": [
        "df.head()"
      ],
      "metadata": {
        "id": "tDvvaC0ppgCB"
      },
      "execution_count": null,
      "outputs": []
    },
    {
      "cell_type": "code",
      "source": [
        "# 結果の可視化（seabornを使用）\n",
        "sns.scatterplot(x='年齢', y='利用回数', hue='cluster', data=df, palette='Set1')\n",
        "plt.show()"
      ],
      "metadata": {
        "id": "BWpJXCB47zTe"
      },
      "execution_count": null,
      "outputs": []
    },
    {
      "cell_type": "code",
      "source": [
        "# クラスタで分類して年齢と利用回数の平均を求める\n",
        "# クラスタ中心と呼ぶ\n",
        "df.groupby('cluster')[['年齢','利用回数']].mean()"
      ],
      "metadata": {
        "id": "PxHAf9fDJCpb"
      },
      "execution_count": null,
      "outputs": []
    },
    {
      "cell_type": "code",
      "source": [
        "c = df.groupby('cluster')[['年齢','利用回数']].mean().reset_index()\n",
        "sns.scatterplot(x='年齢', y='利用回数', hue='cluster', data=df, palette='Set1')\n",
        "sns.scatterplot(x='年齢', y='利用回数', data=c, color='k', s=100)"
      ],
      "metadata": {
        "id": "3k3FPW4ttaag"
      },
      "execution_count": null,
      "outputs": []
    },
    {
      "cell_type": "code",
      "source": [
        "# クラスタ毎にクラスタ中心から各データへの距離の二乗の和\n",
        "kmeans.inertia_"
      ],
      "metadata": {
        "id": "V4JfxuKXW21V"
      },
      "execution_count": null,
      "outputs": []
    },
    {
      "cell_type": "markdown",
      "source": [
        "## クラスタ数を変えて可視化する"
      ],
      "metadata": {
        "id": "bRJKRBSk_frC"
      }
    },
    {
      "cell_type": "code",
      "source": [
        "# クラスタ数を 2 にして実行する\n",
        "best_n_clusters = 2\n",
        "\n",
        "kmeans = KMeans(n_clusters=best_n_clusters, init='k-means++', max_iter=500, n_init='auto')\n",
        "kmeans.fit(X)\n",
        "df['cluster'] = kmeans.labels_\n",
        "\n",
        "# 図示する\n",
        "c = df.groupby('cluster')[['年齢','利用回数']].mean().reset_index()\n",
        "sns.scatterplot(x='年齢', y='利用回数', hue='cluster', data=df, palette='Set1')\n",
        "sns.scatterplot(x='年齢', y='利用回数', data=c, color='k', s=100)"
      ],
      "metadata": {
        "id": "D8HgB6iwuZeW"
      },
      "execution_count": null,
      "outputs": []
    },
    {
      "cell_type": "code",
      "source": [
        "# クラスタ毎にクラスタ中心から各データへの距離の二乗の和\n",
        "kmeans.inertia_"
      ],
      "metadata": {
        "id": "JueAjTgru1qD"
      },
      "execution_count": null,
      "outputs": []
    },
    {
      "cell_type": "markdown",
      "source": [
        "## エルボー法\n",
        "\n",
        "クラスタ数を決める方法として、エルボー法が使われる。\n",
        "\n",
        "クラスタ数を変化させながら、クラスタ中心からの距離の二乗の和を計算しグラフ化する。\n",
        "グラフの減少度合いが変化し始めるところを、最適なクラスター数として採用する。\n",
        "\n",
        "こういった作業はAIの開発では一般的で、**「ハイパーパラメータチューニング」**と呼ばれる。"
      ],
      "metadata": {
        "id": "sX87VFAg6vth"
      }
    },
    {
      "cell_type": "code",
      "source": [
        "# Elbow Methodによるハイパーパラメータチューニング\n",
        "inertia = []\n",
        "for i in range(1, 11):\n",
        "    kmeans = KMeans(n_clusters=i, init='k-means++', max_iter=300, n_init='auto')\n",
        "    kmeans.fit(X)\n",
        "    inertia.append(kmeans.inertia_)"
      ],
      "metadata": {
        "id": "Tb5Jdh7I7P4d"
      },
      "execution_count": null,
      "outputs": []
    },
    {
      "cell_type": "code",
      "source": [
        "# グリッド線を表示するスタイルに変更する\n",
        "sns.set_style('whitegrid')\n",
        "\n",
        "# エルボー図のプロット\n",
        "elbow = pd.DataFrame( inertia, columns = ['Inertia'])\n",
        "elbow['Num of clusters'] = range(1,11)\n",
        "sns.lineplot(data = elbow, x='Num of clusters', y= 'Inertia')"
      ],
      "metadata": {
        "id": "Nh8AsjOYYvtK"
      },
      "execution_count": null,
      "outputs": []
    },
    {
      "cell_type": "markdown",
      "source": [
        "# Wineデータをつかった例"
      ],
      "metadata": {
        "id": "BpxjJtaORl_q"
      }
    },
    {
      "cell_type": "code",
      "source": [
        "from sklearn.datasets import load_wine\n",
        "# データの読み込み\n",
        "wine = load_wine()\n",
        "df = pd.DataFrame(wine.data, columns=wine.feature_names)"
      ],
      "metadata": {
        "id": "T3rUNpTkRmtL"
      },
      "execution_count": null,
      "outputs": []
    },
    {
      "cell_type": "code",
      "source": [
        "df.info()"
      ],
      "metadata": {
        "id": "poF1vlELR_AD"
      },
      "execution_count": null,
      "outputs": []
    },
    {
      "cell_type": "markdown",
      "source": [
        "## 利用するデータ概要\n",
        "\n",
        "Wineデータセットは、イタリアの同じ地域で栽培された3種類のワインに\n",
        "含まれる成分を測定したデータ。\n",
        "13の項目がある。\n",
        "\n",
        "| 項目                          | 説明                                       |\n",
        "|---------------------------------|--------------------------------------------|\n",
        "| Alcohol（アルコール）           | ワインに含まれるアルコールの量。           |\n",
        "| Malic Acid（リンゴ酸）          | ワインに含まれるリンゴ酸の量。             |\n",
        "| Ash（灰分）                     | ワインの灰分の量。                         |\n",
        "| Alcalinity of Ash（灰分のアルカリ度） | 灰分のアルカリ度。                   |\n",
        "| Magnesium（マグネシウム）       | ワインに含まれるマグネシウムの量。         |\n",
        "| Total Phenols（総フェノール）   | ワインに含まれるフェノール類の総量。       |\n",
        "| Flavanoids（フラバノイド）      | ワインに含まれるフラバノイドの量。         |\n",
        "| Nonflavanoid Phenols（非フラバノイドフェノール） | ワインに含まれる非フラバノイドフェノールの量。 |\n",
        "| Proanthocyanins（プロアントシアニン） | ワインに含まれるプロアントシアニンの量。 |\n",
        "| Color Intensity（色の強度）     | ワインの色の強度。                         |\n",
        "| Hue（色相）                     | ワインの色相。                             |\n",
        "| OD280/OD315 of Diluted Wines（希釈ワインのOD280/OD315） | 希釈されたワインのOD280/OD315の比率。 |\n",
        "| Proline（プロリン）             | ワインに含まれるプロリンの量。             |"
      ],
      "metadata": {
        "id": "dLKZsXKXRmtL"
      }
    },
    {
      "cell_type": "code",
      "source": [
        "# 相関行列を計算\n",
        "correlation_matrix = df.corr().abs()\n",
        "# sns.heatmap(correlation_matrix, cmap= sns.color_palette('coolwarm', 10), annot=True,fmt='.2f', vmin = -1, vmax = 1)\n",
        "\n",
        "# 相関が0.5以上の変数を取得\n",
        "high_corr_var = {}\n",
        "for i in range(len(correlation_matrix.columns)):\n",
        "    for j in range(i):\n",
        "        if abs(correlation_matrix.iloc[i, j]) >= 0.5:\n",
        "            colname = correlation_matrix.columns[i]\n",
        "            high_corr_var[colname] = abs(correlation_matrix.iloc[i, j])\n",
        "\n",
        "# 相関性の高い変数を削除\n",
        "df.drop(columns=high_corr_var.keys(), inplace=True)\n",
        "\n",
        "# 結果の表示\n",
        "print(\"Remaining columns after removing highly correlated variables:\")\n",
        "print(df.columns)\n",
        "df.info()"
      ],
      "metadata": {
        "id": "J4OtrtNsRmtM"
      },
      "execution_count": null,
      "outputs": []
    },
    {
      "cell_type": "markdown",
      "source": [
        "簡単にするため以下の項目限定して分析する。\n",
        "\n",
        "| 項目                          | 説明                                       |\n",
        "|---------------------------------|--------------------------------------------|\n",
        "| Alcohol（アルコール）           | ワインに含まれるアルコールの量。           |\n",
        "| Malic Acid（リンゴ酸）          | ワインに含まれるリンゴ酸の量。             |\n",
        "| Ash（灰分）                     | ワインの灰分の量。                         |\n",
        "| Alcalinity of Ash（灰分のアルカリ度） | 灰分のアルカリ度。                   |\n",
        "| Magnesium（マグネシウム）       | ワインに含まれるマグネシウムの量。         |\n",
        "| Total Phenols（総フェノール）   | ワインに含まれるフェノール類の総量。       |\n"
      ],
      "metadata": {
        "id": "4vceJk9QURQj"
      }
    },
    {
      "cell_type": "code",
      "source": [
        "df = df[['alcohol', 'malic_acid', 'ash', 'alcalinity_of_ash', 'magnesium','total_phenols']]\n",
        "df.info()"
      ],
      "metadata": {
        "id": "LbDiLhS28h3p"
      },
      "execution_count": null,
      "outputs": []
    },
    {
      "cell_type": "code",
      "source": [
        "sns.pairplot( data = df)"
      ],
      "metadata": {
        "id": "N0cXfPejU_GA"
      },
      "execution_count": null,
      "outputs": []
    },
    {
      "cell_type": "code",
      "source": [
        "# 標準化に必要なライブラリーのインポート\n",
        "from sklearn.preprocessing import StandardScaler\n",
        "# 前処理（データの正規化）\n",
        "X = df\n",
        "scaler = StandardScaler()\n",
        "X = scaler.fit_transform(X)"
      ],
      "metadata": {
        "id": "MjaSXtwnRmtM"
      },
      "execution_count": null,
      "outputs": []
    },
    {
      "cell_type": "code",
      "source": [
        "# クラスタリングに必要なライブラリーのインポート\n",
        "from sklearn.cluster import KMeans\n",
        "\n",
        "\n",
        "# Elbow Methodによるハイパーパラメータチューニング\n",
        "inertia = []\n",
        "for i in range(1, 11):\n",
        "    kmeans = KMeans(n_clusters=i, init='k-means++', max_iter=500, n_init='auto')\n",
        "    kmeans.fit(X)\n",
        "    inertia.append(kmeans.inertia_)"
      ],
      "metadata": {
        "id": "QgdELubuRmtM"
      },
      "execution_count": null,
      "outputs": []
    },
    {
      "cell_type": "code",
      "source": [
        "# グリッド線を表示する場合は以下を行う\n",
        "sns.set_style('whitegrid')\n",
        "\n",
        "# エルボー図のプロット\n",
        "elbow = pd.DataFrame( inertia, columns = ['Inertia'])\n",
        "elbow['Num of clusters'] = range(1,11)\n",
        "sns.lineplot(data = elbow, x='Num of clusters', y= 'Inertia')"
      ],
      "metadata": {
        "id": "nCBVyMWgS0Hm"
      },
      "execution_count": null,
      "outputs": []
    },
    {
      "cell_type": "code",
      "source": [
        "# 最適なクラスタ数でKMeansクラスタリング（この例では、エルボーが3であると仮定）\n",
        "best_n_clusters = 3  # エルボー図から選択\n",
        "kmeans = KMeans(n_clusters=best_n_clusters, init='k-means++', max_iter=300, n_init='auto')\n",
        "kmeans.fit(X)\n",
        "\n",
        "# クラスタラベルをデータフレームに追加\n",
        "df['cluster'] = kmeans.labels_\n",
        "\n",
        "# 各クラスタの特徴を調査（平均値、標準偏差など）\n",
        "cluster_summary = df.groupby('cluster').agg(['mean']).reset_index()\n",
        "\n",
        "# 結果の表示\n",
        "cluster_summary\n"
      ],
      "metadata": {
        "id": "rfawcSRoRmtM"
      },
      "execution_count": null,
      "outputs": []
    },
    {
      "cell_type": "code",
      "source": [
        "# 結果の可視化（seabornを使用）\n",
        "sns.scatterplot(x='alcohol', y='total_phenols', hue='cluster', data=df, palette='Set1')\n",
        "plt.title('Clustering Results with Wine Data')\n",
        "plt.show()"
      ],
      "metadata": {
        "id": "CKJqagt5RmtM"
      },
      "execution_count": null,
      "outputs": []
    },
    {
      "cell_type": "code",
      "source": [
        "sns.pairplot( data = df, hue='cluster', palette='Set1')"
      ],
      "metadata": {
        "id": "WqYIHSzMRmtM"
      },
      "execution_count": null,
      "outputs": []
    },
    {
      "cell_type": "code",
      "source": [],
      "metadata": {
        "id": "Vi3p1MuwRloP"
      },
      "execution_count": null,
      "outputs": []
    }
  ]
}