{
  "nbformat": 4,
  "nbformat_minor": 0,
  "metadata": {
    "colab": {
      "provenance": [],
      "mount_file_id": "1eKJwZpQopgL7sPrB4xDZngZEWFmokr5u",
      "authorship_tag": "ABX9TyOorPyu0pSy1cVRz0pFIwkm",
      "include_colab_link": true
    },
    "kernelspec": {
      "name": "python3",
      "display_name": "Python 3"
    },
    "language_info": {
      "name": "python"
    }
  },
  "cells": [
    {
      "cell_type": "markdown",
      "metadata": {
        "id": "view-in-github",
        "colab_type": "text"
      },
      "source": [
        "<a href=\"https://colab.research.google.com/github/yajima-yasutoshi/DataMinig/blob/main/20231018/%E5%9F%BA%E7%A4%8E%E9%9B%86%E8%A8%882.ipynb\" target=\"_parent\"><img src=\"https://colab.research.google.com/assets/colab-badge.svg\" alt=\"Open In Colab\"/></a>"
      ]
    },
    {
      "cell_type": "markdown",
      "source": [
        "# データマイニング第4回（2023/10/18）"
      ],
      "metadata": {
        "id": "g8YJ3oojiqNa"
      }
    },
    {
      "cell_type": "markdown",
      "source": [
        "#データ分析の流れ\n",
        "\n",
        "データ分析の基本的なステップ\n",
        "1. 目的設定\n",
        "1. データ収集\n",
        "1. データの前処理\n",
        "1. データ探索\n",
        "1. モデル構築\n",
        "1. レポート\n",
        "\n"
      ],
      "metadata": {
        "id": "fWw7KjRQVEFk"
      }
    },
    {
      "cell_type": "markdown",
      "source": [
        "# 本日の講義の資料\n",
        "\n",
        "以下のサイトに保存してある。\n",
        "\n",
        "https://github.com/yajima-yasutoshi/DataMinig/tree/main/20231018"
      ],
      "metadata": {
        "id": "xtSHx8-Xwvzl"
      }
    },
    {
      "cell_type": "markdown",
      "source": [
        "#準備\n",
        "データ分析に必要なPythonライブラリー（モジュール）のインストールと読み込みを施します。\n",
        "\n",
        "\n",
        "*   numpy：数値計算\n",
        "*   pandas：主にデータ加工\n",
        "*   matplotlib：グラフを作成\n",
        "*   japanize_matplotlib：日本語を表示\n",
        "*   seaborn：グラフ作成\n",
        "\n"
      ],
      "metadata": {
        "id": "IPTN-WrP7iux"
      }
    },
    {
      "cell_type": "code",
      "source": [
        "!pip install japanize-matplotlib"
      ],
      "metadata": {
        "id": "TXJ4eLnaaS74"
      },
      "execution_count": null,
      "outputs": []
    },
    {
      "cell_type": "code",
      "execution_count": 2,
      "metadata": {
        "id": "rV9mAe6M6wQX"
      },
      "outputs": [],
      "source": [
        "import numpy as np\n",
        "import pandas as pd\n",
        "# from sklearn.preprocessing import LabelEncoder\n",
        "import matplotlib.pyplot as plt\n",
        "import japanize_matplotlib\n",
        "import seaborn as sns"
      ]
    },
    {
      "cell_type": "markdown",
      "source": [
        "# 前回説明した部分"
      ],
      "metadata": {
        "id": "0i5IH8iL80Gn"
      }
    },
    {
      "cell_type": "markdown",
      "source": [
        "### ドライブのマウント\n",
        "1. Colabにて、左端のフォルダーのアイコンをクリックし、ファイルメニューを開く。\n",
        "\n",
        "1. マウントアイコンをクリックし Google Driveをマウントする。\n",
        "\n",
        "1. drive の中の「MyDrive」が Google Drive のマイドライブとなる。\n",
        "\n",
        "### ファイルのGoogle Drive へのアップロード\n",
        "1. Google Drive で適当なフォルダーを作成\n",
        "2. PCのファイルをドラッグ＆ドロップでアップロードする。  \n",
        "あるいは、Google Driveで右クリックでメニューを開き、ファイルのアップロードを選択してもアップロードが可能である。\n",
        "\n",
        "### Colabで操作\n",
        "1. Driveメニューで目的のファイルにマウスを合わせ、ファイル名の右にある縦3つの「・」部分をクリックして「パスをコピー」を選択する。\n",
        "\n",
        "1. 以下のPythonコードの 3行目を先ほどコピーしたパスに変更する。ctrl+v でペーストされる。"
      ],
      "metadata": {
        "id": "_ESz2a7YlPIP"
      }
    },
    {
      "cell_type": "markdown",
      "source": [
        "# データをファイルから読み込む"
      ],
      "metadata": {
        "id": "1qbshOJilmnM"
      }
    },
    {
      "cell_type": "markdown",
      "source": [
        "## 本日の講義で使うデータの説明"
      ],
      "metadata": {
        "id": "hzx6m3x8n9Nd"
      }
    },
    {
      "cell_type": "markdown",
      "source": [
        "データの定義 (各列の説明)\n",
        "\n",
        "\n",
        "列名 | 型 | 説明\n",
        "--   | -- | --\n",
        "顧客ID | 数値（整数） |\n",
        "性別\t | カテゴリ型 |\n",
        "年齢\t | 数値（整数）|\n",
        "職業\t | カテゴリ型|\n",
        "年収\t | 数値（整数）|\n",
        "スマホの所有\t| カテゴリ型 |\n",
        "スマホ利用時間\t| 数値（実数）| 1日の平均使用時間\n",
        "Aの利用回数\t|  数値（整数）|\n",
        "Bの利用回数 |  数値（整数） |\n"
      ],
      "metadata": {
        "id": "4C4u1s2uoJQp"
      }
    },
    {
      "cell_type": "markdown",
      "source": [
        "## データのダウンロード\n",
        "\n",
        "以下のサイト  \n",
        "\n",
        "https://github.com/yajima-yasutoshi/DataMinig/tree/main/20231011\n",
        "\n",
        "にアクセスし、エクセルファイル（customer_data.xlsx）をPCにダウンロードする。"
      ],
      "metadata": {
        "id": "p9PmCg4E75Et"
      }
    },
    {
      "cell_type": "markdown",
      "source": [
        "## 環境の準備（先週の講義で説明した部分）"
      ],
      "metadata": {
        "id": "I-by-GIhwk6f"
      }
    },
    {
      "cell_type": "markdown",
      "source": [
        "\n",
        "### ドライブのマウント\n",
        "1. Colabにて、左端のフォルダーのアイコンをクリックし、ファイルメニューを開く。\n",
        "\n",
        "1. マウントアイコンをクリックし Google Driveをマウントする。\n",
        "\n",
        "1. drive の中の「MyDrive」が Google Drive のマイドライブとなる。\n",
        "\n",
        "### ファイルのGoogle Drive へのアップロード\n",
        "1. Google Drive で適当なフォルダーを作成\n",
        "2. PCのファイルをドラッグ＆ドロップでアップロードする。  \n",
        "あるいは、Google Driveで右クリックでメニューを開き、ファイルのアップロードを選択してもアップロードが可能である。\n",
        "\n",
        "### Colabで操作\n",
        "1. Driveメニューで目的のファイルにマウスを合わせ、ファイル名の右にある縦3つの「・」部分をクリックして「パスをコピー」を選択する。\n",
        "\n",
        "1. コードセルの中での ctrl+v でファイルパスがペーストされる。"
      ],
      "metadata": {
        "id": "u_qUB0Q0mUen"
      }
    },
    {
      "cell_type": "markdown",
      "source": [
        "## ファイルを読み込むための Pythonプログラム\n",
        "\n",
        "エクセルファイルをPython環境に読み込むためにPandasの\n",
        "read_excel()というメソッドを使う"
      ],
      "metadata": {
        "id": "IkrtcYWCl7HE"
      }
    },
    {
      "cell_type": "code",
      "source": [
        "# 読み込むファイルを指定する\n",
        "file_path = '/content/drive/MyDrive/周南公立大学/講義/データマイニング/データ/customer_data.xlsx'\n",
        "\n",
        "# data という変数に読み込む\n",
        "data = pd.read_excel(file_path)"
      ],
      "metadata": {
        "id": "ySt6i_RuGmgS"
      },
      "execution_count": 3,
      "outputs": []
    },
    {
      "cell_type": "markdown",
      "source": [
        "## 行数と列数表示"
      ],
      "metadata": {
        "id": "2Qd9OLCNnlwK"
      }
    },
    {
      "cell_type": "code",
      "source": [
        "print( data.shape )"
      ],
      "metadata": {
        "id": "6WPtHYI09r95"
      },
      "execution_count": null,
      "outputs": []
    },
    {
      "cell_type": "markdown",
      "source": [
        "# データを表示\n",
        "変数に読み込んデータの内容を表示させる\n"
      ],
      "metadata": {
        "id": "N9DLRD3dZWwc"
      }
    },
    {
      "cell_type": "code",
      "source": [
        "# データの最初の10行を表示する\n",
        "data.head(10)"
      ],
      "metadata": {
        "id": "Dj_AjG6wG-y6"
      },
      "execution_count": null,
      "outputs": []
    },
    {
      "cell_type": "markdown",
      "source": [
        "NaNと表示されているのは数値が入力されいないという意味で,\n",
        " **欠損値**\n",
        " と呼ぶ。\n"
      ],
      "metadata": {
        "id": "0jkJxTu907pz"
      }
    },
    {
      "cell_type": "code",
      "source": [
        "# 最後の 5 行を表示する\n",
        "data.tail()"
      ],
      "metadata": {
        "id": "dr6M8wEZ7vO1"
      },
      "execution_count": null,
      "outputs": []
    },
    {
      "cell_type": "markdown",
      "source": [
        "#データの概要を確認する\n",
        "\n",
        "\n",
        "*   レコード数\n",
        "*   カラム（項目）数\n",
        "*   各カラムの属性\n",
        "\n"
      ],
      "metadata": {
        "id": "q3ND_vu2YntZ"
      }
    },
    {
      "cell_type": "code",
      "source": [
        "#データの全体概要を表示\n",
        "data.info()"
      ],
      "metadata": {
        "id": "2UCphamJbWLC"
      },
      "execution_count": null,
      "outputs": []
    },
    {
      "cell_type": "markdown",
      "source": [
        "### 基本的な統計量の表示\n",
        "\n",
        "数値型の列に対しては、統計量として以下の数値を確認することができる。\n",
        "* データ個数\n",
        "* 平均\n",
        "* 標準偏差\n",
        "* 最小値\n",
        "* 第一四分位数\n",
        "* 第二四分位数\n",
        "* 第三四分位数\n",
        "* 最大値\n",
        "\n",
        "また、カテゴリ型のデータに対しては、\n",
        "* データ個数\n",
        "* ユニーク数\n",
        "* 最頻値\n",
        "* 最頻値のデータ数"
      ],
      "metadata": {
        "id": "xpmvLJx6zRlK"
      }
    },
    {
      "cell_type": "code",
      "source": [
        "# 数値型の変数だけが表示される\n",
        "data.describe()"
      ],
      "metadata": {
        "id": "AC4rvGa6leXN"
      },
      "execution_count": null,
      "outputs": []
    },
    {
      "cell_type": "code",
      "source": [
        "# カテゴリ型\n",
        "data.describe(include='object')"
      ],
      "metadata": {
        "id": "gv9pM4QnM-Kq"
      },
      "execution_count": null,
      "outputs": []
    },
    {
      "cell_type": "markdown",
      "source": [
        "# データクレンジング"
      ],
      "metadata": {
        "id": "CreP1jSacq8r"
      }
    },
    {
      "cell_type": "markdown",
      "source": [
        "## 欠損値の処理"
      ],
      "metadata": {
        "id": "_cSLaGurlzM9"
      }
    },
    {
      "cell_type": "code",
      "source": [
        "# 欠損値の個数を調べる\n",
        "# data という変数に読み込む\n",
        "# data = pd.read_excel(file_path)\n",
        "data.isnull().sum()"
      ],
      "metadata": {
        "id": "9_4PV8_1clHj"
      },
      "execution_count": null,
      "outputs": []
    },
    {
      "cell_type": "markdown",
      "source": [
        "### 欠損値のあるレコードを削除"
      ],
      "metadata": {
        "id": "_3y2D5sAAUsv"
      }
    },
    {
      "cell_type": "code",
      "source": [
        "data_dropped = data.dropna()\n",
        "\n",
        "#data.dropna(inplace=True)\n",
        "\n",
        "print(data_dropped.isnull().sum())\n",
        "data_dropped.info()"
      ],
      "metadata": {
        "id": "ajIYvMdSnMzp"
      },
      "execution_count": null,
      "outputs": []
    },
    {
      "cell_type": "markdown",
      "source": [
        "変数 data は値が変化しない（元の状態）"
      ],
      "metadata": {
        "id": "txfV6aYK2jLF"
      }
    },
    {
      "cell_type": "code",
      "source": [
        "data.info()"
      ],
      "metadata": {
        "id": "0YKaPhEv2B0W"
      },
      "execution_count": null,
      "outputs": []
    },
    {
      "cell_type": "code",
      "source": [
        "# Or drop them entirely (use sparingly)\n",
        "\n",
        "# data という変数に読み込む\n",
        "data = pd.read_excel(file_path)\n",
        "# print( data.isnull().sum() )\n",
        "data.dropna(inplace=True)\n",
        "print( data.isnull().sum() )\n"
      ],
      "metadata": {
        "id": "Hg4uGWIb8Nhd"
      },
      "execution_count": null,
      "outputs": []
    },
    {
      "cell_type": "code",
      "source": [
        "data.info()"
      ],
      "metadata": {
        "id": "IAeXyPULatws"
      },
      "execution_count": null,
      "outputs": []
    },
    {
      "cell_type": "markdown",
      "source": [
        "### 数値で置き換える場合"
      ],
      "metadata": {
        "id": "mAt7NlnQAheK"
      }
    },
    {
      "cell_type": "code",
      "source": [
        "# data = pd.read_excel(file_path)\n",
        "# スマホ利用時間の欠損値を平均値で補完\n",
        "data['スマホ利用時間'].fillna(data['スマホ利用時間'].mean(), inplace=True)\n",
        "\n",
        "# 年収の欠損値を0で補完\n",
        "data['年収'].fillna(0, inplace=True)\n"
      ],
      "metadata": {
        "id": "DpreyAwVAAAB"
      },
      "execution_count": 15,
      "outputs": []
    },
    {
      "cell_type": "markdown",
      "source": [
        "## 異常値の削除"
      ],
      "metadata": {
        "id": "hphV6PgMqoyQ"
      }
    },
    {
      "cell_type": "code",
      "source": [
        "# 年齢が90歳以上のレコードのインデックスを取得\n",
        "indices_to_drop = data[data['年齢'] >= 90].index\n",
        "\n",
        "# 指定したインデックスのレコードを削除\n",
        "# data.drop(indices_to_drop, inplace=True)\n",
        "data_dropped = data.drop(indices_to_drop)\n",
        "data_dropped.info()"
      ],
      "metadata": {
        "id": "Cegs4kFWqwoT"
      },
      "execution_count": null,
      "outputs": []
    },
    {
      "cell_type": "markdown",
      "source": [
        "## 重複レコードの削除"
      ],
      "metadata": {
        "id": "mwovNNXn-2sl"
      }
    },
    {
      "cell_type": "code",
      "source": [
        "# data = pd.read_excel(file_path)\n",
        "data.tail()"
      ],
      "metadata": {
        "id": "7JDmMnPE-8B9"
      },
      "execution_count": null,
      "outputs": []
    },
    {
      "cell_type": "code",
      "source": [
        "data.drop_duplicates(inplace=True)\n",
        "data.tail()"
      ],
      "metadata": {
        "id": "5WMQfbwn_B-e"
      },
      "execution_count": null,
      "outputs": []
    },
    {
      "cell_type": "markdown",
      "source": [
        "# 基礎集計\n"
      ],
      "metadata": {
        "id": "q8jXrXFkPiaf"
      }
    },
    {
      "cell_type": "markdown",
      "source": [
        "## 並べ替え（ソート）"
      ],
      "metadata": {
        "id": "qUXrtNpMSfre"
      }
    },
    {
      "cell_type": "code",
      "source": [
        "# 年齢の小さい順に並べる\n",
        "# 並べ替えの対象となる列名を指定する。\n",
        "# シングルクオーテーション(')が必要。\n",
        "data.sort_values('年齢')"
      ],
      "metadata": {
        "id": "uEsQG7gtSo76"
      },
      "execution_count": null,
      "outputs": []
    },
    {
      "cell_type": "code",
      "source": [
        "# 大きい順に並べる場合は、ascending=False を追加する。\n",
        "data.sort_values('年齢', ascending=False)"
      ],
      "metadata": {
        "id": "kUg_yYz_TCOw"
      },
      "execution_count": null,
      "outputs": []
    },
    {
      "cell_type": "code",
      "source": [
        "# by = '列名' としてもよい\n",
        "data.sort_values(by = '年齢', ascending=False)"
      ],
      "metadata": {
        "id": "ecUSG0oV5txe"
      },
      "execution_count": null,
      "outputs": []
    },
    {
      "cell_type": "code",
      "source": [
        "# 並べ替え、先頭の10行を表示する場合\n",
        "data.sort_values('年齢', ascending=False).head(10)"
      ],
      "metadata": {
        "id": "A-dYCNl0TLc5"
      },
      "execution_count": null,
      "outputs": []
    },
    {
      "cell_type": "code",
      "source": [
        "# 2つのソートを行う場合。\n",
        "# まず、年齢で並べ、同じ年齢の場合は、顧客IDで並べる場合。\n",
        "data.sort_values(['年齢','顧客ID'],).head(10)"
      ],
      "metadata": {
        "id": "JZfwQLP97adI"
      },
      "execution_count": null,
      "outputs": []
    },
    {
      "cell_type": "code",
      "source": [
        "# 2つのソートを行う場合。\n",
        "# まず、年齢で並べ、同じ年齢の場合は、顧客IDで並べる場合。\n",
        "# 年齢は大きなものから、顧客IDは小さなものとする場合は。\n",
        "data.sort_values(['年齢','顧客ID'], ascending=[False, True]).head(10)"
      ],
      "metadata": {
        "id": "8leO6B3tT6i5"
      },
      "execution_count": null,
      "outputs": []
    },
    {
      "cell_type": "markdown",
      "source": [
        "##カウント"
      ],
      "metadata": {
        "id": "k7iIY2ujfHMU"
      }
    },
    {
      "cell_type": "code",
      "source": [
        "# 再度データを変数 data に読み込む\n",
        "data = pd.read_excel(file_path)"
      ],
      "metadata": {
        "id": "Q2aIIaBcQhKt"
      },
      "execution_count": 25,
      "outputs": []
    },
    {
      "cell_type": "code",
      "source": [
        "# カテゴリ型の項目に対して、値の種類を調べる\n",
        "data['職業'].unique()"
      ],
      "metadata": {
        "id": "hYQEalHnQuvz"
      },
      "execution_count": null,
      "outputs": []
    },
    {
      "cell_type": "code",
      "source": [
        "# 値毎のレコード件数を表示させる。\n",
        "# 欠損値が含まれないので注意\n",
        "data['職業'].value_counts()\n",
        "\n",
        "# 他の列も確認する場合\n",
        "# print() は無でもOK\n",
        "# print( data['性別'].value_counts())\n",
        "# print( data['スマホの所有'].value_counts())"
      ],
      "metadata": {
        "id": "BlwDibjWQevG"
      },
      "execution_count": null,
      "outputs": []
    },
    {
      "cell_type": "code",
      "source": [
        "# 欠損値も含める場合\n",
        "data['職業'].value_counts(dropna=False)"
      ],
      "metadata": {
        "id": "4amWl2wn9X10"
      },
      "execution_count": null,
      "outputs": []
    },
    {
      "cell_type": "code",
      "source": [
        "data['職業'].value_counts(dropna=False).sort_values(ascending=False)\n",
        "# data['職業'].value_counts().sort_values()\n",
        "# data['職業'].value_counts().sort_values(ascending=False).head()"
      ],
      "metadata": {
        "id": "6SHO7wPA2sdg"
      },
      "execution_count": null,
      "outputs": []
    },
    {
      "cell_type": "markdown",
      "source": [
        "## 集計"
      ],
      "metadata": {
        "id": "S-OY-Bo9dGrP"
      }
    },
    {
      "cell_type": "markdown",
      "source": [
        "### 基本的な統計量の算出"
      ],
      "metadata": {
        "id": "A-VTJuZqN2PT"
      }
    },
    {
      "cell_type": "code",
      "source": [
        "# 特定の列の平均\n",
        "m = data['スマホ利用時間'].mean()\n",
        "print(m)"
      ],
      "metadata": {
        "id": "Fa5kE9-tOC-J"
      },
      "execution_count": null,
      "outputs": []
    },
    {
      "cell_type": "markdown",
      "source": [
        "data['スマホ利用時間'].mean() の mean()の部分は以下の関数に変更ができる\n",
        "\n",
        "関数 | 意味\n",
        "--   | --\n",
        "mean() | 平均\n",
        "median() | 中央値\n",
        "min() | 最小値\n",
        "max()\t| 最大値\n",
        "nunique() | カテゴリ型の値の個数\n",
        "quantile(0.25) | 第一四分位（25%）\n",
        "quantile(0.75) | 第三四分位（75%）"
      ],
      "metadata": {
        "id": "cXotAI9VNuHI"
      }
    },
    {
      "cell_type": "code",
      "source": [
        "data['職業'].nunique()"
      ],
      "metadata": {
        "id": "9it1uF5kcb-W"
      },
      "execution_count": null,
      "outputs": []
    },
    {
      "cell_type": "code",
      "source": [
        "data['年収'].median()"
      ],
      "metadata": {
        "id": "FxhL41PHUilI"
      },
      "execution_count": null,
      "outputs": []
    },
    {
      "cell_type": "code",
      "source": [
        "data['年収'].quantile(0.25)"
      ],
      "metadata": {
        "id": "ML59mQdi6ZiT"
      },
      "execution_count": null,
      "outputs": []
    },
    {
      "cell_type": "markdown",
      "source": [
        "### カテゴリ変数に対する操作"
      ],
      "metadata": {
        "id": "Z-Rbv4Zpsx9n"
      }
    },
    {
      "cell_type": "code",
      "source": [
        "# 種類毎にレコード数を確認する方法\n",
        "data['職業'].value_counts()\n",
        "# 欠損値含めてカウントする場合\n",
        "#data['職業'].value_counts(dropna=False)"
      ],
      "metadata": {
        "id": "useZHH3yqte6"
      },
      "execution_count": null,
      "outputs": []
    },
    {
      "cell_type": "markdown",
      "source": [
        "### 最頻値\n",
        "カテゴリ型のデータでもっとも多く出現しているものを**最頻値**と呼ぶ。\n",
        "職業であれば「その他」が最頻値となる。"
      ],
      "metadata": {
        "id": "CI6sTnJRsQxb"
      }
    },
    {
      "cell_type": "code",
      "source": [
        "data['職業'].mode()"
      ],
      "metadata": {
        "id": "rA68FdEB--ih"
      },
      "execution_count": null,
      "outputs": []
    },
    {
      "cell_type": "code",
      "source": [
        "result =  data['性別'].mode()\n",
        "result[0]\n",
        "\n",
        "# 以下のようにしても良い\n",
        "# data['性別'].mode() [0]"
      ],
      "metadata": {
        "id": "h_OC0tA_6iia"
      },
      "execution_count": null,
      "outputs": []
    },
    {
      "cell_type": "code",
      "source": [
        "# 最頻値が複数ある場合の例\n",
        "# サンプルデータを作成\n",
        "df = pd.DataFrame({\n",
        "    'A': ['a', 'b', 'b', 'c', 'd', 'c']\n",
        "})\n",
        "df.head(6)"
      ],
      "metadata": {
        "id": "GH_hOzGENmlE"
      },
      "execution_count": null,
      "outputs": []
    },
    {
      "cell_type": "markdown",
      "source": [
        "上のデータでは、最頻値が2つあり b, c 両方が最頻値である。\n",
        "このような場合は、最頻値が２つ表示される"
      ],
      "metadata": {
        "id": "Jmp0zZJDe-Kl"
      }
    },
    {
      "cell_type": "code",
      "source": [
        "# mode を計算\n",
        "result = df['A'].mode()\n",
        "print(result)\n",
        "\n",
        "# len(result)\n",
        "# print( result[0] )\n",
        "# print( result[1])"
      ],
      "metadata": {
        "id": "L8Q41ZvveZ5n"
      },
      "execution_count": null,
      "outputs": []
    },
    {
      "cell_type": "markdown",
      "source": [
        "### 複雑な集計"
      ],
      "metadata": {
        "id": "j0rngCZUtB_k"
      }
    },
    {
      "cell_type": "markdown",
      "source": [
        "分類して集計することができる。\n",
        "\n",
        "例えば、性別で分類して年齢の平均を求める、といったことが可能である。\n",
        "\n",
        "\n",
        "以下の3項目を指定する必要がある。\n",
        "\n",
        "*   分類項目：カテゴリ属性から選択する\n",
        "*   集計項目：数値属性\n",
        "*   集計方法：集計方法には、平均、中央値、最小、最大が使える。\n",
        "\n",
        "例えば、性別で分類して年齢を平均する場合には、\n",
        "\n",
        "*   分類項目 → 性別\n",
        "*   集計項目 → 年齢\n",
        "*   集計方法 → 平均\n",
        "\n",
        "とする。"
      ],
      "metadata": {
        "id": "xzOOXmLI6B0C"
      }
    },
    {
      "cell_type": "code",
      "source": [
        "# 性別で分類して年齢の平均を求める。\n",
        "data.groupby('性別')['年齢'].mean()"
      ],
      "metadata": {
        "id": "BvHQCW8hIcox"
      },
      "execution_count": null,
      "outputs": []
    },
    {
      "cell_type": "code",
      "source": [
        "# 集計の結果を別のデータフレーム（変数名は new_data ）にする場合は、reset_index() を最後に着ける\n",
        "new_data = data.groupby('性別')['年齢'].mean().reset_index()\n",
        "new_data"
      ],
      "metadata": {
        "id": "NcTIGJKg4vcG"
      },
      "execution_count": null,
      "outputs": []
    },
    {
      "cell_type": "code",
      "source": [
        "# 列名を変更したいのであれば、以下のように行う\n",
        "a.rename(columns={'年齢': '平均年齢'})"
      ],
      "metadata": {
        "id": "WFlW5TchFGPJ"
      },
      "execution_count": null,
      "outputs": []
    },
    {
      "cell_type": "code",
      "source": [
        "selected_data = data[['性別', '年齢', '年収', 'Aの利用回数', 'Bの利用回数']]\n",
        "\n",
        "# 性別ごとに全ての項目の平均を計算することも可能\n",
        "selected_data.groupby('性別').mean()\n"
      ],
      "metadata": {
        "id": "fCy7ovlVRhze"
      },
      "execution_count": null,
      "outputs": []
    },
    {
      "cell_type": "code",
      "source": [
        "selected_data = data[['性別', '職業', '年齢', '年収', 'Aの利用回数', 'Bの利用回数']]\n",
        "selected_data.groupby('性別').median()\n",
        "# 職業の項目は数値型ではないので、メッセージが表示される。"
      ],
      "metadata": {
        "id": "lMoxSz-Wo1he"
      },
      "execution_count": null,
      "outputs": []
    },
    {
      "cell_type": "markdown",
      "source": [
        "2つ以上の属性を組み合わせて集計することもできる"
      ],
      "metadata": {
        "id": "EKWFKPKXKPqa"
      }
    },
    {
      "cell_type": "code",
      "source": [
        "data.groupby(['性別','職業']).mean()"
      ],
      "metadata": {
        "id": "EOXXgTCOpoZx"
      },
      "execution_count": null,
      "outputs": []
    },
    {
      "cell_type": "markdown",
      "source": [
        "集計方法も複数指定が可能である。最小値、最大値、平均を計算する方法は以下の通り"
      ],
      "metadata": {
        "id": "sMM9b7OEKZQQ"
      }
    },
    {
      "cell_type": "code",
      "source": [
        "df = data.groupby(['性別','職業'])['年齢'].agg(['min', 'max', 'mean']).reset_index()\n",
        "df"
      ],
      "metadata": {
        "id": "LzDo3-Lnoe2L"
      },
      "execution_count": null,
      "outputs": []
    },
    {
      "cell_type": "markdown",
      "source": [
        "列名を変更すして、分かり易いデータフレームとする"
      ],
      "metadata": {
        "id": "nDOJZj3HWlKT"
      }
    },
    {
      "cell_type": "code",
      "source": [
        "ddf = df.rename(columns={'min': '平均最小', 'max':'年齢最大', 'mean':'年齢平均'})\n",
        "ddf"
      ],
      "metadata": {
        "id": "vUSPRimdINCz"
      },
      "execution_count": null,
      "outputs": []
    },
    {
      "cell_type": "markdown",
      "source": [
        "---\n",
        "---\n",
        "\n"
      ],
      "metadata": {
        "id": "9QxkeaCPWNJN"
      }
    },
    {
      "cell_type": "markdown",
      "source": [
        "---\n",
        "---\n",
        "\n",
        "# ヒストグラムの表示"
      ],
      "metadata": {
        "id": "4n4LMO3to7a3"
      }
    },
    {
      "cell_type": "code",
      "source": [
        "import matplotlib.pyplot as plt\n",
        "import japanize_matplotlib\n",
        "import seaborn as sns\n",
        "\n",
        "data = pd.read_excel(file_path)\n",
        "# 年齢のデータを取得\n",
        "ages = data['年齢']\n",
        "\n",
        "# ヒストグラムを描画\n",
        "sns.histplot(ages, bins=20, kde=False)\n",
        "plt.title('年齢の分布')\n",
        "plt.xlabel('年齢')\n",
        "plt.ylabel('人数')\n",
        "plt.show()"
      ],
      "metadata": {
        "id": "9LEqpwuUo5Sb"
      },
      "execution_count": null,
      "outputs": []
    },
    {
      "cell_type": "code",
      "source": [
        "# 年齢が80歳以上のレコードのインデックスを取得\n",
        "indices_to_drop = data[data['年齢'] >= 80].index\n",
        "\n",
        "# 指定したインデックスのレコードを削除\n",
        "data.drop(indices_to_drop, inplace=True)\n"
      ],
      "metadata": {
        "id": "M_TcvBoEpmuJ"
      },
      "execution_count": 47,
      "outputs": []
    },
    {
      "cell_type": "code",
      "source": [
        "# 年齢のデータを取得\n",
        "ages = data['年齢']\n",
        "\n",
        "# ヒストグラムを描画\n",
        "sns.histplot(ages, bins=20, kde=False)\n",
        "plt.title('年齢の分布')\n",
        "plt.xlabel('年齢')\n",
        "plt.ylabel('人数')\n",
        "plt.show()"
      ],
      "metadata": {
        "id": "GYYWO1FaqO3x"
      },
      "execution_count": null,
      "outputs": []
    },
    {
      "cell_type": "markdown",
      "source": [
        "# 散布図の表示"
      ],
      "metadata": {
        "id": "Sb1FRB6UcD7L"
      }
    },
    {
      "cell_type": "code",
      "source": [
        "# Plot scatter plot for Age vs Income using seaborn\n",
        "sns.scatterplot(data=data, x='年齢', y='年収', hue='性別', palette={'男性': 'blue', '女性': 'red'})\n",
        "plt.title('Scatter Plot of Age vs Income')\n",
        "plt.show()"
      ],
      "metadata": {
        "id": "J_qnxMP2bp2u"
      },
      "execution_count": null,
      "outputs": []
    },
    {
      "cell_type": "markdown",
      "source": [
        "# 散布図行列表示"
      ],
      "metadata": {
        "id": "yijzDJ3pw22m"
      }
    },
    {
      "cell_type": "code",
      "source": [
        "\n",
        "# Let's bring in the scripting interface\n",
        "import matplotlib.pyplot as plt\n",
        "import japanize_matplotlib\n",
        "import seaborn as sns\n",
        "# sns.set(font='IPAexGothic')\n",
        "\n",
        "# sns.pairplot( data )\n",
        "# sns.pairplot( data.iloc[:,0:7] )\n",
        "sns.pairplot( data.iloc[:,0:7], hue='性別', palette={'男性': 'blue', '女性': 'red'})\n",
        "plt.show()"
      ],
      "metadata": {
        "id": "ZJK5j5ZBZWWd"
      },
      "execution_count": null,
      "outputs": []
    },
    {
      "cell_type": "markdown",
      "source": [
        "# その他"
      ],
      "metadata": {
        "id": "46D8hgQ3cWBz"
      }
    },
    {
      "cell_type": "code",
      "source": [
        "from sklearn.datasets import load_breast_cancer\n",
        "breast_cancer = load_breast_cancer()\n",
        "\n",
        "breast_cancer_data = pd.DataFrame(breast_cancer.data, columns=breast_cancer.feature_names)\n",
        "Y = pd.Series(breast_cancer.target)\n",
        "breast_cancer_data['target'] = Y"
      ],
      "metadata": {
        "id": "7KH3Eyd97-HV"
      },
      "execution_count": 51,
      "outputs": []
    }
  ]
}