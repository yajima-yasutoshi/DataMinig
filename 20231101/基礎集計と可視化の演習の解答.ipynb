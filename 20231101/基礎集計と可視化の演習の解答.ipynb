{
  "nbformat": 4,
  "nbformat_minor": 0,
  "metadata": {
    "colab": {
      "provenance": [],
      "mount_file_id": "102ydjr56g98tV9MAPLnAXVV-7vwXsctK",
      "authorship_tag": "ABX9TyOkpdOVw9kLKiRIzXy3aIYp",
      "include_colab_link": true
    },
    "kernelspec": {
      "name": "python3",
      "display_name": "Python 3"
    },
    "language_info": {
      "name": "python"
    }
  },
  "cells": [
    {
      "cell_type": "markdown",
      "metadata": {
        "id": "view-in-github",
        "colab_type": "text"
      },
      "source": [
        "<a href=\"https://colab.research.google.com/github/yajima-yasutoshi/DataMinig/blob/main/20231101/%E5%9F%BA%E7%A4%8E%E9%9B%86%E8%A8%88%E3%81%A8%E5%8F%AF%E8%A6%96%E5%8C%96%E3%81%AE%E6%BC%94%E7%BF%92%E3%81%AE%E8%A7%A3%E7%AD%94.ipynb\" target=\"_parent\"><img src=\"https://colab.research.google.com/assets/colab-badge.svg\" alt=\"Open In Colab\"/></a>"
      ]
    },
    {
      "cell_type": "markdown",
      "source": [
        "# データマイニング第6回（2023/11/1）"
      ],
      "metadata": {
        "id": "g8YJ3oojiqNa"
      }
    },
    {
      "cell_type": "markdown",
      "source": [
        "#本日の講義の目的\n",
        "\n",
        "\n",
        "\n"
      ],
      "metadata": {
        "id": "wUezl4MyB_v3"
      }
    },
    {
      "cell_type": "markdown",
      "source": [
        "前回までの講義内容を復習し、基礎集計と可視化を実施してみる"
      ],
      "metadata": {
        "id": "CzgPc24ruNdh"
      }
    },
    {
      "cell_type": "markdown",
      "source": [
        "## 準備"
      ],
      "metadata": {
        "id": "Gvss-4F9uiSZ"
      }
    },
    {
      "cell_type": "code",
      "source": [
        "!pip install japanize-matplotlib"
      ],
      "metadata": {
        "id": "ByjO1vH2a4uQ"
      },
      "execution_count": null,
      "outputs": []
    },
    {
      "cell_type": "code",
      "source": [
        "# 必要なライブラリのインポート\n",
        "import numpy as np\n",
        "import pandas as pd\n",
        "import matplotlib.pyplot as plt\n",
        "import japanize_matplotlib\n",
        "import seaborn as sns"
      ],
      "metadata": {
        "id": "Ldr9xOqiQjUp"
      },
      "execution_count": null,
      "outputs": []
    },
    {
      "cell_type": "markdown",
      "source": [
        "\n",
        "\n",
        "---\n",
        "\n",
        "\n",
        "\n",
        "---\n",
        "\n"
      ],
      "metadata": {
        "id": "W4E8b_Cn2Fal"
      }
    },
    {
      "cell_type": "markdown",
      "source": [
        "# Booksデータベース"
      ],
      "metadata": {
        "id": "MB_pOKHC17m6"
      }
    },
    {
      "cell_type": "markdown",
      "source": [
        "## データの読み込み\n",
        "* データをダウンロード\n",
        "\n",
        "    以下のアドレスより、book.csv をPCにダウンロードする。\n",
        "\n",
        "    https://github.com/yajima-yasutoshi/DataMinig/tree/main/20231101\n",
        "[リンクテキスト](https://)\n",
        "* Google Drive のマウントの確認\n",
        "\n",
        "* データ（ books.csv ）を Google Drive の適当なフォルダーにアップロード"
      ],
      "metadata": {
        "id": "xbZ3Hc6BZ75I"
      }
    },
    {
      "cell_type": "markdown",
      "source": [
        "Booksデータベースには、世界各国で\n",
        "\n",
        "データの説明\n",
        "\n",
        "項目                  | 説明\n",
        "--                      | --\n",
        " bookID             |  本のID番号\n",
        " title              |  本のタイトル\n",
        " authors            |  本の著者\n",
        " average_rating     |  平均評価\n",
        " isbn               |  ISBN番号\n",
        " isbn13             |  ISBN番号\n",
        " language_code      |  言語\n",
        " num_pages          |  ページ数\n",
        " ratings_count      |  評価の数\n",
        " text_reviews_count |  レビュー文章が記載された数\n",
        " publication_date   |  出版日  \n",
        " publisher          |  出版社"
      ],
      "metadata": {
        "id": "3uKF4TAV6tUN"
      }
    },
    {
      "cell_type": "code",
      "source": [
        "# データフレームへの読み込み\n",
        "file_name = '/content/drive/MyDrive/周南公立大学/講義/データマイニング/データ/books.csv'\n",
        "# 一部に読み込めないレコードがあるので、error_bad_lines=False を指定している\n",
        "df = pd.read_csv(file_name, error_bad_lines=False)\n",
        "df.rename(columns={'  num_pages': 'num_pages'}, inplace=True)"
      ],
      "metadata": {
        "id": "i5knmVs1aRg5"
      },
      "execution_count": null,
      "outputs": []
    },
    {
      "cell_type": "markdown",
      "source": [
        "## データの確認"
      ],
      "metadata": {
        "id": "-DFl-ZaqfKUW"
      }
    },
    {
      "cell_type": "code",
      "source": [
        "df.head()"
      ],
      "metadata": {
        "id": "X3gt0Am11iN4"
      },
      "execution_count": null,
      "outputs": []
    },
    {
      "cell_type": "markdown",
      "source": [
        "データのレコードの数と列の個数を調べる。"
      ],
      "metadata": {
        "id": "3f-QwFFh-8lh"
      }
    },
    {
      "cell_type": "code",
      "source": [
        "df.shape"
      ],
      "metadata": {
        "id": "E4lgd29Fu1j2"
      },
      "execution_count": null,
      "outputs": []
    },
    {
      "cell_type": "markdown",
      "source": [
        "列の型を調と欠損値の有無を確認する"
      ],
      "metadata": {
        "id": "yBqPZBlS_JRi"
      }
    },
    {
      "cell_type": "code",
      "source": [
        "df.info()"
      ],
      "metadata": {
        "id": "sjLdln8OQlDQ"
      },
      "execution_count": null,
      "outputs": []
    },
    {
      "cell_type": "markdown",
      "source": [
        "上の結果から、それぞれの項目変数の型、また欠損値が無いことが分かる。\n",
        "\n",
        "### 型の見分け方\n",
        "\n",
        "型 | Dtype\n",
        "-- | --\n",
        "数値型 | int??, float??,\n",
        "カテゴリ型 | object\n"
      ],
      "metadata": {
        "id": "vx1gun7Br2wk"
      }
    },
    {
      "cell_type": "markdown",
      "source": [
        "データに登録されている本の平均評価（average_rating）の中央値は何点か。\n",
        "\n",
        "データに登録されている本のページ数（num_pages）の平均値は何ページか。\n"
      ],
      "metadata": {
        "id": "FxDZ5L8_1c7J"
      }
    },
    {
      "cell_type": "markdown",
      "source": [
        "## 各項目の調査\n",
        "\n",
        "\n",
        "\n",
        "*   数値型：最大、最小、平均、中央値など\n",
        "*   カテゴリ型：カテゴリ数、最頻値など\n",
        "\n"
      ],
      "metadata": {
        "id": "Kpxzbn9e_mpV"
      }
    },
    {
      "cell_type": "code",
      "source": [
        "df.describe()"
      ],
      "metadata": {
        "id": "AhijRFlAhrdZ"
      },
      "execution_count": null,
      "outputs": []
    },
    {
      "cell_type": "code",
      "source": [
        "df.describe(include='object')"
      ],
      "metadata": {
        "id": "_aU_3uEWrdgL"
      },
      "execution_count": null,
      "outputs": []
    },
    {
      "cell_type": "markdown",
      "source": [
        "## データの理解"
      ],
      "metadata": {
        "id": "oGkPa-adAEgW"
      }
    },
    {
      "cell_type": "markdown",
      "source": [
        "最も多く本が登録されている著者は誰か"
      ],
      "metadata": {
        "id": "s8JeyHxy15nc"
      }
    },
    {
      "cell_type": "code",
      "source": [
        "df['authors'].mode()"
      ],
      "metadata": {
        "id": "g2bX6uimvxmJ"
      },
      "execution_count": null,
      "outputs": []
    },
    {
      "cell_type": "code",
      "source": [
        "df['authors'].value_counts().sort_values(ascending=False).head(4)"
      ],
      "metadata": {
        "id": "-QV0rYNWsoHq"
      },
      "execution_count": null,
      "outputs": []
    },
    {
      "cell_type": "markdown",
      "source": [
        "ページ数の分布"
      ],
      "metadata": {
        "id": "ao3LKvkI6Jqu"
      }
    },
    {
      "cell_type": "code",
      "source": [
        "sns.histplot(df['num_pages'], bins=50)"
      ],
      "metadata": {
        "id": "NA4oEXeI6NxD"
      },
      "execution_count": null,
      "outputs": []
    },
    {
      "cell_type": "markdown",
      "source": [
        "最もページ数（num_pages）の最も多い本は何か。"
      ],
      "metadata": {
        "id": "8eG3Hl5H1wB5"
      }
    },
    {
      "cell_type": "code",
      "source": [
        "df.sort_values(by = 'num_pages', ascending=False).head(3)"
      ],
      "metadata": {
        "id": "TP3FAHz7x4Z2"
      },
      "execution_count": null,
      "outputs": []
    },
    {
      "cell_type": "markdown",
      "source": [
        "average_ratings の分布\n"
      ],
      "metadata": {
        "id": "yjN_pfIT6tk3"
      }
    },
    {
      "cell_type": "code",
      "source": [
        "sns.histplot(df['average_rating']) #, binwidth=0.1)"
      ],
      "metadata": {
        "id": "swguPVkn6wTG"
      },
      "execution_count": null,
      "outputs": []
    },
    {
      "cell_type": "markdown",
      "source": [
        "著者の中で、ページ数（num_pages）の平均が最も多い著者は誰か？"
      ],
      "metadata": {
        "id": "SPCKHsKt2A1s"
      }
    },
    {
      "cell_type": "code",
      "source": [
        "df.groupby('authors')['num_pages'].mean().sort_values(ascending=False)"
      ],
      "metadata": {
        "id": "1l7GxI3xnQDm"
      },
      "execution_count": null,
      "outputs": []
    },
    {
      "cell_type": "markdown",
      "source": [
        "booksデータベースで、language_code が spa の本は何冊あるか。"
      ],
      "metadata": {
        "id": "8G95_kAi2GrN"
      }
    },
    {
      "cell_type": "code",
      "source": [
        "df['language_code'].value_counts()"
      ],
      "metadata": {
        "id": "32vCEl5y2MDS"
      },
      "execution_count": null,
      "outputs": []
    },
    {
      "cell_type": "code",
      "source": [
        "df[ df['language_code'] == 'spa' ].shape"
      ],
      "metadata": {
        "id": "eWrgSuZF0czM"
      },
      "execution_count": null,
      "outputs": []
    },
    {
      "cell_type": "markdown",
      "source": [
        "出版社 （publisher）の中で、ページ数の平均が最も多い出版社はどれか。"
      ],
      "metadata": {
        "id": "wvcH0aJVDIBx"
      }
    },
    {
      "cell_type": "code",
      "source": [
        "df.groupby('publisher')['num_pages'].mean().sort_values(ascending=False)\n",
        "# Group the data by publisher and compute the average number of pages for each publisher\n",
        "# average_pages_per_publisher = df.groupby('publisher')['num_pages'].mean().reset_index()\n",
        "# average_pages_per_publisher"
      ],
      "metadata": {
        "id": "WxpDVLGRMeSg"
      },
      "execution_count": null,
      "outputs": []
    },
    {
      "cell_type": "markdown",
      "source": [
        "出版社（publisher） 毎に ratings_count の合計を計算する。このとき、合計が最も多い publisher はどれか。"
      ],
      "metadata": {
        "id": "ScwZccEL2WZn"
      }
    },
    {
      "cell_type": "code",
      "source": [
        "df.groupby('publisher')['ratings_count'].sum().sort_values(ascending=False)"
      ],
      "metadata": {
        "id": "TkmiUgoW-0nZ"
      },
      "execution_count": null,
      "outputs": []
    },
    {
      "cell_type": "markdown",
      "source": [
        "ratings_count の合計の多い出版社 Top5を可視化してみる。"
      ],
      "metadata": {
        "id": "WgmJwZ1JFATU"
      }
    },
    {
      "cell_type": "code",
      "source": [
        "ratings_count_per_publisher_top5 = df.groupby('publisher')['ratings_count'].sum().sort_values(ascending=False).head(5).reset_index()"
      ],
      "metadata": {
        "id": "ruaB4PyL3Sjx"
      },
      "execution_count": null,
      "outputs": []
    },
    {
      "cell_type": "code",
      "source": [
        "ratings_count_per_publisher_top5"
      ],
      "metadata": {
        "id": "AkWV8PA24O1L"
      },
      "execution_count": null,
      "outputs": []
    },
    {
      "cell_type": "code",
      "source": [
        "sns.barplot(x='ratings_count', y='publisher', data=ratings_count_per_publisher_top5)\n",
        "plt.title('レーティング数の合計')\n",
        "plt.xlabel('回数')\n",
        "plt.ylabel('出版社')"
      ],
      "metadata": {
        "id": "UOwLgg1HPLHG"
      },
      "execution_count": null,
      "outputs": []
    },
    {
      "cell_type": "markdown",
      "source": [
        "language_code が jpn の本に限定した場合、ページ数の平均が最も多い出版社（publisher）はどれか。"
      ],
      "metadata": {
        "id": "XYj2aTBW2NQb"
      }
    },
    {
      "cell_type": "code",
      "source": [
        "df[ df['language_code'] == 'jpn' ].groupby('publisher')['num_pages'].mean().sort_values(ascending=False)\n",
        "#df[ df['language_code'] == 'jpn' ].groupby('publisher')['num_pages'].agg(['count', 'mean'])"
      ],
      "metadata": {
        "id": "KU4h42sBE0OK"
      },
      "execution_count": null,
      "outputs": []
    },
    {
      "cell_type": "markdown",
      "source": [
        "\n",
        "---\n",
        "---"
      ],
      "metadata": {
        "id": "bBA7RoQKt-ei"
      }
    },
    {
      "cell_type": "markdown",
      "source": [
        "# Titanic データの説明\n",
        "\n",
        "1912年に起きたTitanic号の沈没事故に関するデータを使い、今までの講義内容を復習する。\n",
        "\n",
        "今回利用するデータは seaborn パッケージに含まれているサンプルデータである。"
      ],
      "metadata": {
        "id": "v27MZKTcQaCk"
      }
    },
    {
      "cell_type": "code",
      "source": [
        "# データの読み込み\n",
        "df = sns.load_dataset('titanic')\n",
        "df.info()"
      ],
      "metadata": {
        "id": "ky3EaxjIr00K"
      },
      "execution_count": null,
      "outputs": []
    },
    {
      "cell_type": "markdown",
      "source": [
        "\n",
        "今回利用するデータの概要は以下の通り。\n",
        "\n",
        "項目 | 説明\n",
        "-- | --\n",
        "survived | 生存したかどうか（0 = No, 1 = Yes）\n",
        "pclass   | 乗客のクラス（1 = 1st, 2 = 2nd, 3 = 3rd）\n",
        "sex      | 性別（male, female）\n",
        "age      | 年齢\n",
        "sibsp  | タイタニック号に乗っていた兄弟姉妹/配偶者の数\n",
        "parch | タイタニック号に乗っていた親/子供の数\n",
        "fare | 乗船料金\n",
        "embarked |  乗船した港（C = Cherbourg, Q = Queenstown, S = Southampton）\n",
        "class | 乗客のクラスを文字列で（'First', 'Second', 'Third'）\n",
        "who | 乗客のタイプ（'man', 'woman', 'child'）\n",
        "adult_male |  成人男性かどうか（True, False）\n",
        "deck |  乗客がいたデッキ（A, B, C, D, E, F, G, NaN）\n",
        "embark_town |  乗船した町の名前（'Southampton', 'Cherbourg', 'Queenstown', NaN）\n",
        "alive |  生存したかどうかを文字列で入力（'yes', 'no'）\n",
        "alone | 一人で乗船したかどうか（True, False）\n",
        "\n",
        "なお、欠損値: age、embarked などの特定の列に欠損値が存在する。\n"
      ],
      "metadata": {
        "id": "wcAiiB2ZaSRO"
      }
    },
    {
      "cell_type": "code",
      "source": [
        "df.head()"
      ],
      "metadata": {
        "id": "TTGVpsLkoMmK"
      },
      "execution_count": null,
      "outputs": []
    },
    {
      "cell_type": "code",
      "source": [
        "df.shape"
      ],
      "metadata": {
        "id": "DtTC9sR4b7f4"
      },
      "execution_count": null,
      "outputs": []
    },
    {
      "cell_type": "code",
      "source": [
        "df.isnull().sum()"
      ],
      "metadata": {
        "id": "OfFasVNCoukz"
      },
      "execution_count": null,
      "outputs": []
    },
    {
      "cell_type": "code",
      "source": [
        "df.describe()"
      ],
      "metadata": {
        "id": "1WYVQCgep8Bl"
      },
      "execution_count": null,
      "outputs": []
    },
    {
      "cell_type": "code",
      "source": [
        "# データの前処理\n",
        "df['age'].fillna(df['age'].median(), inplace=True)  # 'age'列の欠損値を中央値で埋める\n",
        "df['embarked'].fillna(df['embarked'].mode()[0], inplace=True)  # 'embarked'列の欠損値を最頻値で埋める"
      ],
      "metadata": {
        "id": "UkQuAlswUdRQ"
      },
      "execution_count": null,
      "outputs": []
    },
    {
      "cell_type": "code",
      "source": [
        "# 基礎集計\n",
        "survival_count = df['survived'].value_counts()  # 生存者と死亡者の数を集計\n",
        "survival_rate_by_gender = df.groupby('sex')['survived'].mean()  # 性別ごとの生存率を集計"
      ],
      "metadata": {
        "id": "2x2-HaWkUniT"
      },
      "execution_count": null,
      "outputs": []
    },
    {
      "cell_type": "code",
      "execution_count": null,
      "metadata": {
        "id": "16HK9riMO-u2"
      },
      "outputs": [],
      "source": [
        "# データの可視化（Seaborn使用）\n",
        "sns.countplot(x='survived', data=df)  # 生存者と死亡者の数を棒グラフで表示\n",
        "plt.show()\n",
        "\n",
        "sns.barplot(x='sex', y='survived', data=df)  # 性別ごとの生存率を棒グラフで表示\n",
        "plt.show()\n",
        "\n",
        "sns.boxplot(x='survived', y='age', data=df)  # 年齢と生存率の関係を箱ひげ図で表示\n",
        "plt.show()\n"
      ]
    },
    {
      "cell_type": "code",
      "source": [
        "sns.countplot(x='survived', data=df)  # 生存者と死亡者の数を棒グラフで表示"
      ],
      "metadata": {
        "id": "ZfHSyr9yqvuM"
      },
      "execution_count": null,
      "outputs": []
    },
    {
      "cell_type": "code",
      "source": [],
      "metadata": {
        "id": "IQHPOvbaqwf7"
      },
      "execution_count": null,
      "outputs": []
    },
    {
      "cell_type": "code",
      "source": [
        "sns.barplot(x='survived', data=df)"
      ],
      "metadata": {
        "id": "qcWXaJ0yryxE"
      },
      "execution_count": null,
      "outputs": []
    },
    {
      "cell_type": "code",
      "source": [],
      "metadata": {
        "id": "NVz_srrTrzcD"
      },
      "execution_count": null,
      "outputs": []
    }
  ]
}