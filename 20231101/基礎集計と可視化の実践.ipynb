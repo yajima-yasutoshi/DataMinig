{
  "nbformat": 4,
  "nbformat_minor": 0,
  "metadata": {
    "colab": {
      "provenance": [],
      "mount_file_id": "102ydjr56g98tV9MAPLnAXVV-7vwXsctK",
      "authorship_tag": "ABX9TyPD+/TzkJFJr+O5focOA8dn",
      "include_colab_link": true
    },
    "kernelspec": {
      "name": "python3",
      "display_name": "Python 3"
    },
    "language_info": {
      "name": "python"
    }
  },
  "cells": [
    {
      "cell_type": "markdown",
      "metadata": {
        "id": "view-in-github",
        "colab_type": "text"
      },
      "source": [
        "<a href=\"https://colab.research.google.com/github/yajima-yasutoshi/DataMinig/blob/main/20231101/%E5%9F%BA%E7%A4%8E%E9%9B%86%E8%A8%88%E3%81%A8%E5%8F%AF%E8%A6%96%E5%8C%96%E3%81%AE%E5%AE%9F%E8%B7%B5.ipynb\" target=\"_parent\"><img src=\"https://colab.research.google.com/assets/colab-badge.svg\" alt=\"Open In Colab\"/></a>"
      ]
    },
    {
      "cell_type": "markdown",
      "source": [
        "# データマイニング第6回（2023/11/1）"
      ],
      "metadata": {
        "id": "g8YJ3oojiqNa"
      }
    },
    {
      "cell_type": "markdown",
      "source": [
        "#本日の講義の目的\n",
        "\n",
        "\n",
        "\n"
      ],
      "metadata": {
        "id": "wUezl4MyB_v3"
      }
    },
    {
      "cell_type": "markdown",
      "source": [
        "前回までの講義内容を復習し、基礎集計と可視化を実施してみる"
      ],
      "metadata": {
        "id": "CzgPc24ruNdh"
      }
    },
    {
      "cell_type": "markdown",
      "source": [
        "## 準備"
      ],
      "metadata": {
        "id": "Gvss-4F9uiSZ"
      }
    },
    {
      "cell_type": "code",
      "source": [
        "!pip install japanize-matplotlib"
      ],
      "metadata": {
        "id": "ByjO1vH2a4uQ"
      },
      "execution_count": null,
      "outputs": []
    },
    {
      "cell_type": "code",
      "source": [
        "# 必要なライブラリのインポート\n",
        "import numpy as np\n",
        "import pandas as pd\n",
        "import matplotlib.pyplot as plt\n",
        "import japanize_matplotlib\n",
        "import seaborn as sns"
      ],
      "metadata": {
        "id": "Ldr9xOqiQjUp"
      },
      "execution_count": null,
      "outputs": []
    },
    {
      "cell_type": "markdown",
      "source": [
        "\n",
        "\n",
        "---\n",
        "\n",
        "\n",
        "\n",
        "---\n",
        "\n"
      ],
      "metadata": {
        "id": "W4E8b_Cn2Fal"
      }
    },
    {
      "cell_type": "markdown",
      "source": [
        "# Booksデータベース"
      ],
      "metadata": {
        "id": "MB_pOKHC17m6"
      }
    },
    {
      "cell_type": "markdown",
      "source": [
        "## データの読み込み\n",
        "* データをダウンロード\n",
        "\n",
        "    以下のアドレスより、book.csv をPCにダウンロードする。\n",
        "\n",
        "    https://github.com/yajima-yasutoshi/DataMinig/tree/main/20231101\n",
        "\n",
        "* Google Drive のマウントの確認\n",
        "\n",
        "* データ（ books.csv ）を Google Drive の適当なフォルダーにアップロード"
      ],
      "metadata": {
        "id": "xbZ3Hc6BZ75I"
      }
    },
    {
      "cell_type": "code",
      "source": [
        "# データフレームへの読み込み\n",
        "file_name = '/content/drive/MyDrive/周南公立大学/講義/データマイニング/データ/books.csv'\n",
        "# 一部に読み込めないレコードがあるので、error_bad_lines=False を指定している\n",
        "df = pd.read_csv(file_name, error_bad_lines=False)\n",
        "df.rename(columns={'  num_pages': 'num_pages'}, inplace=True)"
      ],
      "metadata": {
        "id": "i5knmVs1aRg5"
      },
      "execution_count": null,
      "outputs": []
    },
    {
      "cell_type": "markdown",
      "source": [
        "## データの確認"
      ],
      "metadata": {
        "id": "-DFl-ZaqfKUW"
      }
    },
    {
      "cell_type": "code",
      "source": [
        "df.shape"
      ],
      "metadata": {
        "id": "E4lgd29Fu1j2",
        "colab": {
          "base_uri": "https://localhost:8080/"
        },
        "outputId": "db04e9c4-60d1-46eb-99c4-1a56f91ef717"
      },
      "execution_count": null,
      "outputs": [
        {
          "output_type": "execute_result",
          "data": {
            "text/plain": [
              "(11123, 12)"
            ]
          },
          "metadata": {},
          "execution_count": 8
        }
      ]
    },
    {
      "cell_type": "code",
      "source": [
        "df.info()"
      ],
      "metadata": {
        "id": "sjLdln8OQlDQ",
        "colab": {
          "base_uri": "https://localhost:8080/"
        },
        "outputId": "76faa407-5b5b-4c9f-fbdb-cc4d706bdb33"
      },
      "execution_count": null,
      "outputs": [
        {
          "output_type": "stream",
          "name": "stdout",
          "text": [
            "<class 'pandas.core.frame.DataFrame'>\n",
            "RangeIndex: 11123 entries, 0 to 11122\n",
            "Data columns (total 12 columns):\n",
            " #   Column              Non-Null Count  Dtype  \n",
            "---  ------              --------------  -----  \n",
            " 0   bookID              11123 non-null  int64  \n",
            " 1   title               11123 non-null  object \n",
            " 2   authors             11123 non-null  object \n",
            " 3   average_rating      11123 non-null  float64\n",
            " 4   isbn                11123 non-null  object \n",
            " 5   isbn13              11123 non-null  int64  \n",
            " 6   language_code       11123 non-null  object \n",
            " 7   num_pages           11123 non-null  int64  \n",
            " 8   ratings_count       11123 non-null  int64  \n",
            " 9   text_reviews_count  11123 non-null  int64  \n",
            " 10  publication_date    11123 non-null  object \n",
            " 11  publisher           11123 non-null  object \n",
            "dtypes: float64(1), int64(5), object(6)\n",
            "memory usage: 1.0+ MB\n"
          ]
        }
      ]
    },
    {
      "cell_type": "markdown",
      "source": [
        "データの説明\n",
        "\n",
        "特徴量                  | 説明\n",
        "--                      | --\n",
        " bookID             |  本のID番号\n",
        " title              |  本のタイトル\n",
        " authors            |  本の著者\n",
        " average_rating     |  平均評価\n",
        " isbn               |  ISBN番号\n",
        " isbn13             |  ISBN番号\n",
        " language_code      |  言語\n",
        " num_pages          |  ページ数\n",
        " ratings_count      |  評価の数\n",
        " text_reviews_count |  レビュー文章が記載された数\n",
        " publication_date   |  出版日  \n",
        " publisher          |  出版社"
      ],
      "metadata": {
        "id": "3uKF4TAV6tUN"
      }
    },
    {
      "cell_type": "markdown",
      "source": [
        "\n",
        "---\n",
        "---"
      ],
      "metadata": {
        "id": "bBA7RoQKt-ei"
      }
    },
    {
      "cell_type": "markdown",
      "source": [
        "# Titanic データの説明\n",
        "\n",
        "1912年に起きたTitanic号の沈没事故に関するデータを使い、今までの講義内容を復習する。\n",
        "\n",
        "今回利用するデータは seaborn パッケージに含まれているサンプルデータである。"
      ],
      "metadata": {
        "id": "v27MZKTcQaCk"
      }
    },
    {
      "cell_type": "code",
      "source": [
        "# データの読み込み\n",
        "df = sns.load_dataset('titanic')\n",
        "df.info()"
      ],
      "metadata": {
        "id": "ky3EaxjIr00K",
        "colab": {
          "base_uri": "https://localhost:8080/"
        },
        "outputId": "a171afb1-bcf7-4db5-f536-a0ad6b8b4a9f"
      },
      "execution_count": null,
      "outputs": [
        {
          "output_type": "stream",
          "name": "stdout",
          "text": [
            "<class 'pandas.core.frame.DataFrame'>\n",
            "RangeIndex: 891 entries, 0 to 890\n",
            "Data columns (total 15 columns):\n",
            " #   Column       Non-Null Count  Dtype   \n",
            "---  ------       --------------  -----   \n",
            " 0   survived     891 non-null    int64   \n",
            " 1   pclass       891 non-null    int64   \n",
            " 2   sex          891 non-null    object  \n",
            " 3   age          714 non-null    float64 \n",
            " 4   sibsp        891 non-null    int64   \n",
            " 5   parch        891 non-null    int64   \n",
            " 6   fare         891 non-null    float64 \n",
            " 7   embarked     889 non-null    object  \n",
            " 8   class        891 non-null    category\n",
            " 9   who          891 non-null    object  \n",
            " 10  adult_male   891 non-null    bool    \n",
            " 11  deck         203 non-null    category\n",
            " 12  embark_town  889 non-null    object  \n",
            " 13  alive        891 non-null    object  \n",
            " 14  alone        891 non-null    bool    \n",
            "dtypes: bool(2), category(2), float64(2), int64(4), object(5)\n",
            "memory usage: 80.7+ KB\n"
          ]
        }
      ]
    },
    {
      "cell_type": "markdown",
      "source": [
        "\n",
        "今回利用するデータの概要は以下の通り。\n",
        "\n",
        "項目 | 説明\n",
        "-- | --\n",
        "survived | 生存したかどうか（0 = No, 1 = Yes）\n",
        "pclass   | 乗客のクラス（1 = 1st, 2 = 2nd, 3 = 3rd）\n",
        "sex      | 性別（male, female）\n",
        "age      | 年齢\n",
        "sibsp  | タイタニック号に乗っていた兄弟姉妹/配偶者の数\n",
        "parch | タイタニック号に乗っていた親/子供の数\n",
        "fare | 乗船料金\n",
        "embarked |  乗船した港（C = Cherbourg, Q = Queenstown, S = Southampton）\n",
        "class | 乗客のクラスを文字列で（'First', 'Second', 'Third'）\n",
        "who | 乗客のタイプ（'man', 'woman', 'child'）\n",
        "adult_male |  成人男性かどうか（True, False）\n",
        "deck |  乗客がいたデッキ（A, B, C, D, E, F, G, NaN）\n",
        "embark_town |  乗船した町の名前（'Southampton', 'Cherbourg', 'Queenstown', NaN）\n",
        "alive |  生存したかどうかを文字列で入力（'yes', 'no'）\n",
        "alone | 一人で乗船したかどうか（True, False）\n",
        "\n",
        "なお、欠損値: age、embarked などの特定の列に欠損値が存在する。\n"
      ],
      "metadata": {
        "id": "wcAiiB2ZaSRO"
      }
    },
    {
      "cell_type": "code",
      "source": [],
      "metadata": {
        "id": "NVz_srrTrzcD"
      },
      "execution_count": null,
      "outputs": []
    }
  ]
}