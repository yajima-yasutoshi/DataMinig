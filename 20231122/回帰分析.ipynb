{
  "nbformat": 4,
  "nbformat_minor": 0,
  "metadata": {
    "colab": {
      "provenance": [],
      "mount_file_id": "15AgSnLPcetgAjjgdaQYXnOUtkpydV3DG",
      "authorship_tag": "ABX9TyM8jTuhDSxXyALXu4l1TEY0",
      "include_colab_link": true
    },
    "kernelspec": {
      "name": "python3",
      "display_name": "Python 3"
    },
    "language_info": {
      "name": "python"
    }
  },
  "cells": [
    {
      "cell_type": "markdown",
      "metadata": {
        "id": "view-in-github",
        "colab_type": "text"
      },
      "source": [
        "<a href=\"https://colab.research.google.com/github/yajima-yasutoshi/DataMinig/blob/main/20231122/%E5%9B%9E%E5%B8%B0%E5%88%86%E6%9E%90.ipynb\" target=\"_parent\"><img src=\"https://colab.research.google.com/assets/colab-badge.svg\" alt=\"Open In Colab\"/></a>"
      ]
    },
    {
      "cell_type": "markdown",
      "source": [
        "# データマイニング第9回（2023/11/22）"
      ],
      "metadata": {
        "id": "g8YJ3oojiqNa"
      }
    },
    {
      "cell_type": "markdown",
      "source": [
        "#本日の講義の目的\n",
        "\n",
        "回帰分析に関する説明を行う。\n",
        "\n"
      ],
      "metadata": {
        "id": "eBh7mKf_VASL"
      }
    },
    {
      "cell_type": "markdown",
      "source": [
        "## 準備"
      ],
      "metadata": {
        "id": "bOEAyS-EVASM"
      }
    },
    {
      "cell_type": "code",
      "source": [
        "# インストール\n",
        "!pip install japanize-matplotlib"
      ],
      "metadata": {
        "id": "S814ueYW90y7",
        "colab": {
          "base_uri": "https://localhost:8080/"
        },
        "outputId": "d99d3f26-085c-43db-cc07-7204af1fd14e"
      },
      "execution_count": 1,
      "outputs": [
        {
          "output_type": "stream",
          "name": "stdout",
          "text": [
            "Collecting japanize-matplotlib\n",
            "  Downloading japanize-matplotlib-1.1.3.tar.gz (4.1 MB)\n",
            "\u001b[2K     \u001b[90m━━━━━━━━━━━━━━━━━━━━━━━━━━━━━━━━━━━━━━━━\u001b[0m \u001b[32m4.1/4.1 MB\u001b[0m \u001b[31m9.5 MB/s\u001b[0m eta \u001b[36m0:00:00\u001b[0m\n",
            "\u001b[?25h  Preparing metadata (setup.py) ... \u001b[?25l\u001b[?25hdone\n",
            "Requirement already satisfied: matplotlib in /usr/local/lib/python3.10/dist-packages (from japanize-matplotlib) (3.7.1)\n",
            "Requirement already satisfied: contourpy>=1.0.1 in /usr/local/lib/python3.10/dist-packages (from matplotlib->japanize-matplotlib) (1.1.1)\n",
            "Requirement already satisfied: cycler>=0.10 in /usr/local/lib/python3.10/dist-packages (from matplotlib->japanize-matplotlib) (0.12.1)\n",
            "Requirement already satisfied: fonttools>=4.22.0 in /usr/local/lib/python3.10/dist-packages (from matplotlib->japanize-matplotlib) (4.43.1)\n",
            "Requirement already satisfied: kiwisolver>=1.0.1 in /usr/local/lib/python3.10/dist-packages (from matplotlib->japanize-matplotlib) (1.4.5)\n",
            "Requirement already satisfied: numpy>=1.20 in /usr/local/lib/python3.10/dist-packages (from matplotlib->japanize-matplotlib) (1.23.5)\n",
            "Requirement already satisfied: packaging>=20.0 in /usr/local/lib/python3.10/dist-packages (from matplotlib->japanize-matplotlib) (23.2)\n",
            "Requirement already satisfied: pillow>=6.2.0 in /usr/local/lib/python3.10/dist-packages (from matplotlib->japanize-matplotlib) (9.4.0)\n",
            "Requirement already satisfied: pyparsing>=2.3.1 in /usr/local/lib/python3.10/dist-packages (from matplotlib->japanize-matplotlib) (3.1.1)\n",
            "Requirement already satisfied: python-dateutil>=2.7 in /usr/local/lib/python3.10/dist-packages (from matplotlib->japanize-matplotlib) (2.8.2)\n",
            "Requirement already satisfied: six>=1.5 in /usr/local/lib/python3.10/dist-packages (from python-dateutil>=2.7->matplotlib->japanize-matplotlib) (1.16.0)\n",
            "Building wheels for collected packages: japanize-matplotlib\n",
            "  Building wheel for japanize-matplotlib (setup.py) ... \u001b[?25l\u001b[?25hdone\n",
            "  Created wheel for japanize-matplotlib: filename=japanize_matplotlib-1.1.3-py3-none-any.whl size=4120257 sha256=6c6166d5cb371dc62428a8e850b32d234b451773beaed89c2b51331f326872d9\n",
            "  Stored in directory: /root/.cache/pip/wheels/61/7a/6b/df1f79be9c59862525070e157e62b08eab8ece27c1b68fbb94\n",
            "Successfully built japanize-matplotlib\n",
            "Installing collected packages: japanize-matplotlib\n",
            "Successfully installed japanize-matplotlib-1.1.3\n"
          ]
        }
      ]
    },
    {
      "cell_type": "code",
      "source": [
        "import numpy as np\n",
        "import pandas as pd\n",
        "import matplotlib.pyplot as plt\n",
        "import japanize_matplotlib\n",
        "import seaborn as sns"
      ],
      "metadata": {
        "id": "wE9YyeruMMCd"
      },
      "execution_count": 2,
      "outputs": []
    },
    {
      "cell_type": "code",
      "source": [
        "# 読み込むファイルを指定する\n",
        "file_path = '/content/drive/MyDrive/周南公立大学/講義/データマイニング/データ/回帰.xlsx'\n",
        "\n",
        "# 今回は、df という変数に読み込むことにする\n",
        "df = pd.read_excel(file_path)\n",
        "df"
      ],
      "metadata": {
        "id": "s1MdRJN986Lf",
        "colab": {
          "base_uri": "https://localhost:8080/",
          "height": 363
        },
        "outputId": "7720d2d6-498a-4a7d-dbce-db7c7bcb9010"
      },
      "execution_count": 3,
      "outputs": [
        {
          "output_type": "execute_result",
          "data": {
            "text/plain": [
              "          日付  最高気温  来店人数\n",
              "0 2023-05-10  24.1   690\n",
              "1 2023-05-11  27.2   640\n",
              "2 2023-05-12  20.0   510\n",
              "3 2023-05-13  23.0   560\n",
              "4 2023-05-14  21.4   600\n",
              "5 2023-05-15  20.9   420\n",
              "6 2023-05-16  21.8   530\n",
              "7 2023-05-17  23.4   560\n",
              "8 2023-05-18  23.9   650\n",
              "9 2023-05-19  25.3   570"
            ],
            "text/html": [
              "\n",
              "  <div id=\"df-a6de7d08-99a7-420c-9fed-e00cfe53306a\" class=\"colab-df-container\">\n",
              "    <div>\n",
              "<style scoped>\n",
              "    .dataframe tbody tr th:only-of-type {\n",
              "        vertical-align: middle;\n",
              "    }\n",
              "\n",
              "    .dataframe tbody tr th {\n",
              "        vertical-align: top;\n",
              "    }\n",
              "\n",
              "    .dataframe thead th {\n",
              "        text-align: right;\n",
              "    }\n",
              "</style>\n",
              "<table border=\"1\" class=\"dataframe\">\n",
              "  <thead>\n",
              "    <tr style=\"text-align: right;\">\n",
              "      <th></th>\n",
              "      <th>日付</th>\n",
              "      <th>最高気温</th>\n",
              "      <th>来店人数</th>\n",
              "    </tr>\n",
              "  </thead>\n",
              "  <tbody>\n",
              "    <tr>\n",
              "      <th>0</th>\n",
              "      <td>2023-05-10</td>\n",
              "      <td>24.1</td>\n",
              "      <td>690</td>\n",
              "    </tr>\n",
              "    <tr>\n",
              "      <th>1</th>\n",
              "      <td>2023-05-11</td>\n",
              "      <td>27.2</td>\n",
              "      <td>640</td>\n",
              "    </tr>\n",
              "    <tr>\n",
              "      <th>2</th>\n",
              "      <td>2023-05-12</td>\n",
              "      <td>20.0</td>\n",
              "      <td>510</td>\n",
              "    </tr>\n",
              "    <tr>\n",
              "      <th>3</th>\n",
              "      <td>2023-05-13</td>\n",
              "      <td>23.0</td>\n",
              "      <td>560</td>\n",
              "    </tr>\n",
              "    <tr>\n",
              "      <th>4</th>\n",
              "      <td>2023-05-14</td>\n",
              "      <td>21.4</td>\n",
              "      <td>600</td>\n",
              "    </tr>\n",
              "    <tr>\n",
              "      <th>5</th>\n",
              "      <td>2023-05-15</td>\n",
              "      <td>20.9</td>\n",
              "      <td>420</td>\n",
              "    </tr>\n",
              "    <tr>\n",
              "      <th>6</th>\n",
              "      <td>2023-05-16</td>\n",
              "      <td>21.8</td>\n",
              "      <td>530</td>\n",
              "    </tr>\n",
              "    <tr>\n",
              "      <th>7</th>\n",
              "      <td>2023-05-17</td>\n",
              "      <td>23.4</td>\n",
              "      <td>560</td>\n",
              "    </tr>\n",
              "    <tr>\n",
              "      <th>8</th>\n",
              "      <td>2023-05-18</td>\n",
              "      <td>23.9</td>\n",
              "      <td>650</td>\n",
              "    </tr>\n",
              "    <tr>\n",
              "      <th>9</th>\n",
              "      <td>2023-05-19</td>\n",
              "      <td>25.3</td>\n",
              "      <td>570</td>\n",
              "    </tr>\n",
              "  </tbody>\n",
              "</table>\n",
              "</div>\n",
              "    <div class=\"colab-df-buttons\">\n",
              "\n",
              "  <div class=\"colab-df-container\">\n",
              "    <button class=\"colab-df-convert\" onclick=\"convertToInteractive('df-a6de7d08-99a7-420c-9fed-e00cfe53306a')\"\n",
              "            title=\"Convert this dataframe to an interactive table.\"\n",
              "            style=\"display:none;\">\n",
              "\n",
              "  <svg xmlns=\"http://www.w3.org/2000/svg\" height=\"24px\" viewBox=\"0 -960 960 960\">\n",
              "    <path d=\"M120-120v-720h720v720H120Zm60-500h600v-160H180v160Zm220 220h160v-160H400v160Zm0 220h160v-160H400v160ZM180-400h160v-160H180v160Zm440 0h160v-160H620v160ZM180-180h160v-160H180v160Zm440 0h160v-160H620v160Z\"/>\n",
              "  </svg>\n",
              "    </button>\n",
              "\n",
              "  <style>\n",
              "    .colab-df-container {\n",
              "      display:flex;\n",
              "      gap: 12px;\n",
              "    }\n",
              "\n",
              "    .colab-df-convert {\n",
              "      background-color: #E8F0FE;\n",
              "      border: none;\n",
              "      border-radius: 50%;\n",
              "      cursor: pointer;\n",
              "      display: none;\n",
              "      fill: #1967D2;\n",
              "      height: 32px;\n",
              "      padding: 0 0 0 0;\n",
              "      width: 32px;\n",
              "    }\n",
              "\n",
              "    .colab-df-convert:hover {\n",
              "      background-color: #E2EBFA;\n",
              "      box-shadow: 0px 1px 2px rgba(60, 64, 67, 0.3), 0px 1px 3px 1px rgba(60, 64, 67, 0.15);\n",
              "      fill: #174EA6;\n",
              "    }\n",
              "\n",
              "    .colab-df-buttons div {\n",
              "      margin-bottom: 4px;\n",
              "    }\n",
              "\n",
              "    [theme=dark] .colab-df-convert {\n",
              "      background-color: #3B4455;\n",
              "      fill: #D2E3FC;\n",
              "    }\n",
              "\n",
              "    [theme=dark] .colab-df-convert:hover {\n",
              "      background-color: #434B5C;\n",
              "      box-shadow: 0px 1px 3px 1px rgba(0, 0, 0, 0.15);\n",
              "      filter: drop-shadow(0px 1px 2px rgba(0, 0, 0, 0.3));\n",
              "      fill: #FFFFFF;\n",
              "    }\n",
              "  </style>\n",
              "\n",
              "    <script>\n",
              "      const buttonEl =\n",
              "        document.querySelector('#df-a6de7d08-99a7-420c-9fed-e00cfe53306a button.colab-df-convert');\n",
              "      buttonEl.style.display =\n",
              "        google.colab.kernel.accessAllowed ? 'block' : 'none';\n",
              "\n",
              "      async function convertToInteractive(key) {\n",
              "        const element = document.querySelector('#df-a6de7d08-99a7-420c-9fed-e00cfe53306a');\n",
              "        const dataTable =\n",
              "          await google.colab.kernel.invokeFunction('convertToInteractive',\n",
              "                                                    [key], {});\n",
              "        if (!dataTable) return;\n",
              "\n",
              "        const docLinkHtml = 'Like what you see? Visit the ' +\n",
              "          '<a target=\"_blank\" href=https://colab.research.google.com/notebooks/data_table.ipynb>data table notebook</a>'\n",
              "          + ' to learn more about interactive tables.';\n",
              "        element.innerHTML = '';\n",
              "        dataTable['output_type'] = 'display_data';\n",
              "        await google.colab.output.renderOutput(dataTable, element);\n",
              "        const docLink = document.createElement('div');\n",
              "        docLink.innerHTML = docLinkHtml;\n",
              "        element.appendChild(docLink);\n",
              "      }\n",
              "    </script>\n",
              "  </div>\n",
              "\n",
              "\n",
              "<div id=\"df-04c7e8a9-c24e-4902-b2dd-fe58b568d43f\">\n",
              "  <button class=\"colab-df-quickchart\" onclick=\"quickchart('df-04c7e8a9-c24e-4902-b2dd-fe58b568d43f')\"\n",
              "            title=\"Suggest charts.\"\n",
              "            style=\"display:none;\">\n",
              "\n",
              "<svg xmlns=\"http://www.w3.org/2000/svg\" height=\"24px\"viewBox=\"0 0 24 24\"\n",
              "     width=\"24px\">\n",
              "    <g>\n",
              "        <path d=\"M19 3H5c-1.1 0-2 .9-2 2v14c0 1.1.9 2 2 2h14c1.1 0 2-.9 2-2V5c0-1.1-.9-2-2-2zM9 17H7v-7h2v7zm4 0h-2V7h2v10zm4 0h-2v-4h2v4z\"/>\n",
              "    </g>\n",
              "</svg>\n",
              "  </button>\n",
              "\n",
              "<style>\n",
              "  .colab-df-quickchart {\n",
              "      --bg-color: #E8F0FE;\n",
              "      --fill-color: #1967D2;\n",
              "      --hover-bg-color: #E2EBFA;\n",
              "      --hover-fill-color: #174EA6;\n",
              "      --disabled-fill-color: #AAA;\n",
              "      --disabled-bg-color: #DDD;\n",
              "  }\n",
              "\n",
              "  [theme=dark] .colab-df-quickchart {\n",
              "      --bg-color: #3B4455;\n",
              "      --fill-color: #D2E3FC;\n",
              "      --hover-bg-color: #434B5C;\n",
              "      --hover-fill-color: #FFFFFF;\n",
              "      --disabled-bg-color: #3B4455;\n",
              "      --disabled-fill-color: #666;\n",
              "  }\n",
              "\n",
              "  .colab-df-quickchart {\n",
              "    background-color: var(--bg-color);\n",
              "    border: none;\n",
              "    border-radius: 50%;\n",
              "    cursor: pointer;\n",
              "    display: none;\n",
              "    fill: var(--fill-color);\n",
              "    height: 32px;\n",
              "    padding: 0;\n",
              "    width: 32px;\n",
              "  }\n",
              "\n",
              "  .colab-df-quickchart:hover {\n",
              "    background-color: var(--hover-bg-color);\n",
              "    box-shadow: 0 1px 2px rgba(60, 64, 67, 0.3), 0 1px 3px 1px rgba(60, 64, 67, 0.15);\n",
              "    fill: var(--button-hover-fill-color);\n",
              "  }\n",
              "\n",
              "  .colab-df-quickchart-complete:disabled,\n",
              "  .colab-df-quickchart-complete:disabled:hover {\n",
              "    background-color: var(--disabled-bg-color);\n",
              "    fill: var(--disabled-fill-color);\n",
              "    box-shadow: none;\n",
              "  }\n",
              "\n",
              "  .colab-df-spinner {\n",
              "    border: 2px solid var(--fill-color);\n",
              "    border-color: transparent;\n",
              "    border-bottom-color: var(--fill-color);\n",
              "    animation:\n",
              "      spin 1s steps(1) infinite;\n",
              "  }\n",
              "\n",
              "  @keyframes spin {\n",
              "    0% {\n",
              "      border-color: transparent;\n",
              "      border-bottom-color: var(--fill-color);\n",
              "      border-left-color: var(--fill-color);\n",
              "    }\n",
              "    20% {\n",
              "      border-color: transparent;\n",
              "      border-left-color: var(--fill-color);\n",
              "      border-top-color: var(--fill-color);\n",
              "    }\n",
              "    30% {\n",
              "      border-color: transparent;\n",
              "      border-left-color: var(--fill-color);\n",
              "      border-top-color: var(--fill-color);\n",
              "      border-right-color: var(--fill-color);\n",
              "    }\n",
              "    40% {\n",
              "      border-color: transparent;\n",
              "      border-right-color: var(--fill-color);\n",
              "      border-top-color: var(--fill-color);\n",
              "    }\n",
              "    60% {\n",
              "      border-color: transparent;\n",
              "      border-right-color: var(--fill-color);\n",
              "    }\n",
              "    80% {\n",
              "      border-color: transparent;\n",
              "      border-right-color: var(--fill-color);\n",
              "      border-bottom-color: var(--fill-color);\n",
              "    }\n",
              "    90% {\n",
              "      border-color: transparent;\n",
              "      border-bottom-color: var(--fill-color);\n",
              "    }\n",
              "  }\n",
              "</style>\n",
              "\n",
              "  <script>\n",
              "    async function quickchart(key) {\n",
              "      const quickchartButtonEl =\n",
              "        document.querySelector('#' + key + ' button');\n",
              "      quickchartButtonEl.disabled = true;  // To prevent multiple clicks.\n",
              "      quickchartButtonEl.classList.add('colab-df-spinner');\n",
              "      try {\n",
              "        const charts = await google.colab.kernel.invokeFunction(\n",
              "            'suggestCharts', [key], {});\n",
              "      } catch (error) {\n",
              "        console.error('Error during call to suggestCharts:', error);\n",
              "      }\n",
              "      quickchartButtonEl.classList.remove('colab-df-spinner');\n",
              "      quickchartButtonEl.classList.add('colab-df-quickchart-complete');\n",
              "    }\n",
              "    (() => {\n",
              "      let quickchartButtonEl =\n",
              "        document.querySelector('#df-04c7e8a9-c24e-4902-b2dd-fe58b568d43f button');\n",
              "      quickchartButtonEl.style.display =\n",
              "        google.colab.kernel.accessAllowed ? 'block' : 'none';\n",
              "    })();\n",
              "  </script>\n",
              "</div>\n",
              "    </div>\n",
              "  </div>\n"
            ]
          },
          "metadata": {},
          "execution_count": 3
        }
      ]
    },
    {
      "cell_type": "markdown",
      "source": [
        "\n",
        "**明日の最高気温が 24.5 度である場合に、来店者数は何名くらいか予測したい**"
      ],
      "metadata": {
        "id": "6rxihK3NYSgu"
      }
    },
    {
      "cell_type": "code",
      "source": [
        "df.sort_values(by='最高気温')"
      ],
      "metadata": {
        "id": "GQ2Rcrnt9RoF"
      },
      "execution_count": null,
      "outputs": []
    },
    {
      "cell_type": "code",
      "source": [
        "# データのプロット\n",
        "# 元のデータをプロットします。\n",
        "sns.scatterplot(data=df, x = '最高気温', y = '来店人数')\n",
        "plt.title('データのプロット')\n",
        "plt.xlabel('最高気温')\n",
        "plt.ylabel('来店人数')\n",
        "plt.show()"
      ],
      "metadata": {
        "id": "K7NdlRfS9ATg"
      },
      "execution_count": null,
      "outputs": []
    },
    {
      "cell_type": "markdown",
      "source": [
        "### 変数\n",
        "\n",
        "予測の対象となる項目を特に**目的変数**と呼ぶ。上の例では来店人数が目的変数となる。また、最高気温の項目は**説明変数**と呼ぶ。回帰分析では、説明変数から\n",
        "目的変数を計算するための**計算式**が得られる。この計算式は、**モデル** とも呼ばれる。\n",
        "\n",
        "また、予測の対象（目的変数）は一つであるが、それを説明するための説明変数は複数設定されることがほとんどである。"
      ],
      "metadata": {
        "id": "Zmg6HOxHVkyL"
      }
    },
    {
      "cell_type": "markdown",
      "source": [
        "## 回帰を行うPythonコード"
      ],
      "metadata": {
        "id": "PyOKA4f3Yse8"
      }
    },
    {
      "cell_type": "markdown",
      "source": [
        "### 学習部分\n",
        "\n",
        "モデルを作成する工程を**学習**と呼ぶ。\n",
        "また、モデル作成で用いるデータを***学習（用）データ***と呼ぶ。\n",
        "\n",
        "学習を行うためには fit 関数を用いる。\n"
      ],
      "metadata": {
        "id": "bH9KdWx_Y1g2"
      }
    },
    {
      "cell_type": "code",
      "source": [
        "from sklearn.linear_model import LinearRegression\n",
        "\n",
        "# 学習ステップ\n",
        "# 線形回帰モデルを作成し、データにフィットさせます。\n",
        "# 説明変数をXに設定し、目的変数を Y に設定する。\n",
        "X = df[['最高気温']]\n",
        "Y = df[['来店人数']]\n",
        "\n",
        "# 回帰モデルの算出\n",
        "model = LinearRegression()\n",
        "model.fit(X,Y)"
      ],
      "metadata": {
        "id": "IrVEG32rYzmB"
      },
      "execution_count": null,
      "outputs": []
    },
    {
      "cell_type": "code",
      "source": [
        "# 学習したパラメータを出力\n",
        "print(f\"Coefficient: {model.coef_}\")\n",
        "print(f\"Intercept: {model.intercept_}\")\n",
        "\n",
        "# 学習結果のプロット\n",
        "# 学習によって得られた線をプロットします。\n",
        "sns.scatterplot(data=df, x = '最高気温', y = '来店人数')\n",
        "plt.plot(x, model.predict(x), color='red', label='回帰直線')\n",
        "plt.title('データの散布図と回帰直線')\n",
        "plt.xlabel('気温')\n",
        "plt.ylabel('人数')\n",
        "plt.show()"
      ],
      "metadata": {
        "id": "CQXjZSbu9jq_"
      },
      "execution_count": null,
      "outputs": []
    },
    {
      "cell_type": "code",
      "source": [
        "# 学習したパラメータを出力\n",
        "a = model.coef_\n",
        "b = model.intercept_"
      ],
      "metadata": {
        "id": "TNkyyDqQKLw9"
      },
      "execution_count": null,
      "outputs": []
    },
    {
      "cell_type": "code",
      "source": [
        "a[0]"
      ],
      "metadata": {
        "id": "a7SLz4y1Kgcj"
      },
      "execution_count": null,
      "outputs": []
    },
    {
      "cell_type": "code",
      "source": [
        "b"
      ],
      "metadata": {
        "id": "PoTD67xoKmJR"
      },
      "execution_count": null,
      "outputs": []
    },
    {
      "cell_type": "markdown",
      "source": [
        "### 推論部分\n",
        "\n",
        "モデルを使って。説明変数から目的変数の値を予測する工程を**推論**と呼ぶ。\n",
        "\n",
        "\n",
        "推論には predict 関数を用いる。"
      ],
      "metadata": {
        "id": "PcIR8KsFsXdW"
      }
    },
    {
      "cell_type": "code",
      "source": [
        "# 予測ステップ\n",
        "# 新しいデータに対する予測計算する。\n",
        "new_X = pd.DataFrame(\n",
        "    data={'最高気温': [24.5]})\n",
        "\n",
        "new_Y = model.predict(new_X)"
      ],
      "metadata": {
        "id": "MJs68lR7XHuc"
      },
      "execution_count": null,
      "outputs": []
    },
    {
      "cell_type": "code",
      "execution_count": null,
      "metadata": {
        "id": "ZCSACXB8p0n6"
      },
      "outputs": [],
      "source": [
        "# 新しいデータ点と予測結果をプロット\n",
        "plt.scatter(X, Y, label='学習データ')\n",
        "plt.scatter(new_X, new_Y, color='red', label='予測', s=150)  # sパラメータでサイズを調整\n",
        "plt.plot(X, model.predict(X), color='red', label='回帰直線')\n",
        "\n",
        "plt.title('予測')\n",
        "plt.xlabel('気温')\n",
        "plt.ylabel('人数')\n",
        "plt.legend()\n",
        "plt.show()\n"
      ]
    },
    {
      "cell_type": "markdown",
      "source": [
        "predict 関数は、複数のデータに対応した予測を行うことが可能。説明変数を項目とした表を用いる。"
      ],
      "metadata": {
        "id": "uO4JyWBqdroY"
      }
    },
    {
      "cell_type": "code",
      "source": [
        "# 新しいデータに対する予測計算する。\n",
        "new_X = pd.DataFrame(\n",
        "    data={'最高気温': [22, 23, 24, 25]})\n",
        "new_X"
      ],
      "metadata": {
        "id": "2uI_0MHXdzpp"
      },
      "execution_count": null,
      "outputs": []
    },
    {
      "cell_type": "code",
      "source": [
        "new_Y = model.predict(new_X)\n",
        "new_Y"
      ],
      "metadata": {
        "id": "sQ87V48geHXQ"
      },
      "execution_count": null,
      "outputs": []
    },
    {
      "cell_type": "markdown",
      "source": [
        "### 精度の評価\n",
        "\n",
        "作ったモデルの精度を評価する。\n",
        "仮に、モデルを使った予測を5回（5日間）実施したとする。\n",
        "5日分の最高気温と実際の客数をファイルから読み込む。"
      ],
      "metadata": {
        "id": "8N7qPo9mkTZg"
      }
    },
    {
      "cell_type": "code",
      "source": [
        "# 読み込むファイルを指定する\n",
        "file_path = '/content/drive/MyDrive/周南公立大学/講義/データマイニング/データ/回帰テスト.xlsx'\n",
        "\n",
        "# df2 という変数に読み込むことにする\n",
        "df2 = pd.read_excel(file_path)\n",
        "df2"
      ],
      "metadata": {
        "id": "7Mt93rQLkh6s"
      },
      "execution_count": null,
      "outputs": []
    },
    {
      "cell_type": "code",
      "source": [
        "X_test = df2[['最高気温']]\n",
        "y_pred = model.predict(X_test)"
      ],
      "metadata": {
        "id": "JXVB2lkPkuMc"
      },
      "execution_count": null,
      "outputs": []
    },
    {
      "cell_type": "code",
      "source": [
        "# 予測値\n",
        "y_pred"
      ],
      "metadata": {
        "id": "tbx599A3l6_u"
      },
      "execution_count": null,
      "outputs": []
    },
    {
      "cell_type": "code",
      "source": [
        "# 実績値と比較する\n",
        "df2['予測人数'] = y_pred\n",
        "df2"
      ],
      "metadata": {
        "id": "bztNkFbOmWXY"
      },
      "execution_count": null,
      "outputs": []
    },
    {
      "cell_type": "markdown",
      "source": [
        "### 平均二乗誤差\n",
        "\n",
        "予測と実績との差の二乗を平均したものを**平均二乗誤差**と呼ぶ。\n",
        "平均二乗誤差が小さいほど、誤差の少ない予測となっていることになる。"
      ],
      "metadata": {
        "id": "xk3tGJTtUWbC"
      }
    },
    {
      "cell_type": "code",
      "source": [
        "from sklearn.metrics import mean_squared_error\n",
        "# 評価（MSE）\n",
        "y_test = df2['人数']\n",
        "mse = mean_squared_error(y_test, y_pred)\n",
        "mse"
      ],
      "metadata": {
        "id": "V94S8S9TmNWI"
      },
      "execution_count": null,
      "outputs": []
    },
    {
      "cell_type": "markdown",
      "source": [
        "# Tips データを用いた回帰の例"
      ],
      "metadata": {
        "id": "dcaAMTdJWp-Z"
      }
    },
    {
      "cell_type": "code",
      "source": [
        "import numpy as np\n",
        "import pandas as pd\n",
        "import seaborn as sns\n",
        "\n",
        "# データセットを読み込む（ここではSeabornの内蔵データセット'tips'を使用）\n",
        "df = sns.load_dataset('tips')\n",
        "df.info()"
      ],
      "metadata": {
        "id": "gCncIxAA6CTT"
      },
      "execution_count": null,
      "outputs": []
    },
    {
      "cell_type": "markdown",
      "source": [
        "### データの説明\n",
        "あるレストランでのチップ金額のデータ。\n",
        "\n",
        "主な項目は以下の通り。\n",
        "\n",
        "項目 | 説明\n",
        "-- | --\n",
        "total_bill | 総額（食事代+チップ）\n",
        "tip        | チップの額\n",
        "sex        | 性別\n",
        "smoker     | 喫煙者かどうか\n",
        "day        | 曜日\n",
        "time       | 時間帯が昼か夜か\n",
        "size       | 顧客の人数\n",
        "\n",
        "以下では説明のため、tip, total_bill, size の3項目を使い、\n",
        "total_bill と sizeから tip を予測することを行います。"
      ],
      "metadata": {
        "id": "eTqmhqYpAhey"
      }
    },
    {
      "cell_type": "code",
      "source": [
        "# データの先頭を表示して確認\n",
        "df.head()"
      ],
      "metadata": {
        "id": "jXJavcVt_Aio"
      },
      "execution_count": null,
      "outputs": []
    },
    {
      "cell_type": "markdown",
      "source": [
        "## 回帰モデルの作成"
      ],
      "metadata": {
        "id": "et5BD3UIXsjd"
      }
    },
    {
      "cell_type": "code",
      "source": [
        "# 回帰分析に必要なライブラリをインポート\n",
        "from sklearn.model_selection import train_test_split\n",
        "from sklearn.linear_model import LinearRegression\n",
        "from sklearn.metrics import mean_squared_error\n",
        "\n",
        "# 特徴量と目的変数を選択（ここではtotal_bill と size を特徴量、tipを目的変数とする）\n",
        "X = df[['total_bill','size']]\n",
        "y = df['tip']\n",
        "\n",
        "# 線形回帰モデルを作成\n",
        "model = LinearRegression()\n",
        "\n",
        "# モデルを訓練\n",
        "model.fit(X, y)\n",
        "\n",
        "# y_pred = model.predict(X_test)\n"
      ],
      "metadata": {
        "id": "ZCkrp-DM7Oyl"
      },
      "execution_count": null,
      "outputs": []
    },
    {
      "cell_type": "code",
      "source": [
        "# 学習したパラメータを出力\n",
        "a = model.coef_\n",
        "b = model.intercept_\n"
      ],
      "metadata": {
        "id": "uLNtkqnbEf-C"
      },
      "execution_count": null,
      "outputs": []
    },
    {
      "cell_type": "code",
      "source": [
        "a"
      ],
      "metadata": {
        "id": "QioGR2yjEidS"
      },
      "execution_count": null,
      "outputs": []
    },
    {
      "cell_type": "code",
      "source": [
        "b"
      ],
      "metadata": {
        "id": "htc6IywOEsPI"
      },
      "execution_count": null,
      "outputs": []
    },
    {
      "cell_type": "code",
      "source": [
        "# 予測したいデータを入力\n",
        "new_df = pd.DataFrame( data =\n",
        "                      { 'total_bill' : [30.0, 50],\n",
        "                        'size'       : [3,    2]}\n",
        "                       )\n",
        "new_df"
      ],
      "metadata": {
        "id": "evVHdC1QRKFG"
      },
      "execution_count": null,
      "outputs": []
    },
    {
      "cell_type": "code",
      "source": [
        "# テストデータで予測\n",
        "new_df['tip'] = model.predict( new_df )\n",
        "new_df"
      ],
      "metadata": {
        "id": "sgWltlrNEw4T"
      },
      "execution_count": null,
      "outputs": []
    },
    {
      "cell_type": "markdown",
      "source": [
        "# カテゴリ変数を使った回帰\n"
      ],
      "metadata": {
        "id": "l4-fhNHDXjzS"
      }
    },
    {
      "cell_type": "code",
      "source": [
        "import seaborn as sns\n",
        "import pandas as pd\n",
        "import matplotlib.pyplot as plt\n",
        "from sklearn.model_selection import train_test_split\n",
        "from sklearn.linear_model import LinearRegression\n",
        "from sklearn.metrics import mean_squared_error\n",
        "from sklearn.preprocessing import OneHotEncoder"
      ],
      "metadata": {
        "id": "9Yp-1yhTcR1e"
      },
      "execution_count": null,
      "outputs": []
    },
    {
      "cell_type": "code",
      "source": [
        "# データの読み込み\n",
        "df = sns.load_dataset('tips')"
      ],
      "metadata": {
        "id": "wUrOlye5aBXT"
      },
      "execution_count": null,
      "outputs": []
    },
    {
      "cell_type": "code",
      "source": [
        "df.info()"
      ],
      "metadata": {
        "id": "HkTLsjjUCWVC"
      },
      "execution_count": null,
      "outputs": []
    },
    {
      "cell_type": "code",
      "source": [
        "df.describe()"
      ],
      "metadata": {
        "id": "obV7FK0hBpTL"
      },
      "execution_count": null,
      "outputs": []
    },
    {
      "cell_type": "code",
      "source": [
        "df.describe(include='all')"
      ],
      "metadata": {
        "id": "6ZbDiNPYBv6x"
      },
      "execution_count": null,
      "outputs": []
    },
    {
      "cell_type": "markdown",
      "source": [
        "### One-Hot エンコーディング"
      ],
      "metadata": {
        "id": "nUasO9wqExol"
      }
    },
    {
      "cell_type": "code",
      "source": [
        "df['day'].unique()"
      ],
      "metadata": {
        "id": "q7qZGcUWeM1e"
      },
      "execution_count": null,
      "outputs": []
    },
    {
      "cell_type": "markdown",
      "source": [
        "項目「day」はカテゴリ型の変数で、'Sun', 'Sat', 'Thur', 'Fri' の4個のカテゴリがある。\n",
        "このままでは数値でないため、回帰の説明変数に用いることができない。\n",
        "そこで、4個のカテゴリに対応した4つの項目\n",
        "'day_Thur', 'day_Fri', 'day_Sat', 'day_Sun' を用意して、\n",
        "以下の表のように0か1の数値をデータとしてセットする。\n",
        "\n",
        "\n",
        "元の項目の値 | day_Thur\t| day_Fri\t| day_Sat\t| day_Sun\n",
        "-- | -- | -- | -- | --\n",
        "Thur | 1 | 0 | 0 | 0\n",
        "Fri | 0 | 1 | 0 | 0\n",
        "Sat | 0 | 0 | 1 | 0\n",
        "Sun | 0 | 0 | 0 | 1\n",
        "\n",
        "\n",
        "このようにカテゴリ型の項目を数値型に変換する方法を\n",
        "**one-hot エンコーディング**\n",
        "と呼ぶ。"
      ],
      "metadata": {
        "id": "7DzeWcnMzypU"
      }
    },
    {
      "cell_type": "code",
      "source": [
        "df_day = pd.get_dummies(df[['day']])\n",
        "df_day"
      ],
      "metadata": {
        "id": "8cNTLlVQFS-n"
      },
      "execution_count": null,
      "outputs": []
    },
    {
      "cell_type": "markdown",
      "source": [
        "元のデータと比較するため、2つのデータフレームを concat 関数で繋げる。\n",
        "\n",
        "AとBを繋げる場合には、以下のように実行する。\n",
        "\n",
        "```\n",
        "pd.concat([A, B], axis=1)\n",
        "```\n",
        "\n",
        "\n"
      ],
      "metadata": {
        "id": "O5Yzl-fXbJlJ"
      }
    },
    {
      "cell_type": "code",
      "source": [
        "pd.concat([df, df_day], axis=1).head(10)"
      ],
      "metadata": {
        "id": "SCzF4hdwGjTe"
      },
      "execution_count": null,
      "outputs": []
    },
    {
      "cell_type": "markdown",
      "source": [
        "複数のカテゴリ項目を指定して、one-hotエンコーディングを行うこともできる。\n",
        "\n",
        "```\n",
        "pd.get_dummies(df[['sex', 'smoker', 'day', 'time']], drop_first=True)\n",
        "```\n",
        "\n"
      ],
      "metadata": {
        "id": "dzVu0bT9dNM-"
      }
    },
    {
      "cell_type": "code",
      "source": [
        "# データの読み込み\n",
        "df = sns.load_dataset('tips')\n",
        "\n",
        "# カテゴリ変数をOne-Hotエンコーディング\n",
        "# encoded_df = pd.get_dummies(df[['sex', 'smoker', 'day', 'time']], drop_first=True)\n",
        "encoded_df = pd.get_dummies(df[['sex', 'smoker', 'day', 'time']])\n",
        "\n",
        "# エンコードされたデータと元のデータを結合\n",
        "df = pd.concat([df, encoded_df], axis=1)"
      ],
      "metadata": {
        "id": "GU5FI67XaI5A"
      },
      "execution_count": null,
      "outputs": []
    },
    {
      "cell_type": "code",
      "source": [
        "df"
      ],
      "metadata": {
        "id": "jsLsqmq4aNjQ"
      },
      "execution_count": null,
      "outputs": []
    },
    {
      "cell_type": "code",
      "source": [
        "# 特徴量とターゲット変数を選択\n",
        "X = df[['total_bill', 'size', 'sex_Male', 'sex_Female', 'smoker_Yes', 'smoker_No', 'day_Thur', 'day_Fri', 'day_Sat', 'day_Sun', 'time_Lunch', 'time_Dinner']]\n",
        "y = df['tip']\n",
        "\n",
        "# 線形回帰モデルの作成と訓練\n",
        "model = LinearRegression()\n",
        "model.fit(X, y)\n"
      ],
      "metadata": {
        "id": "MRHwbBHYeqe_"
      },
      "execution_count": null,
      "outputs": []
    },
    {
      "cell_type": "code",
      "source": [
        "# 特徴量とターゲット変数を選択\n",
        "X = df[['total_bill', 'size', 'sex_Male', 'sex_Female', 'smoker_Yes', 'smoker_No', 'day_Thur', 'day_Fri', 'day_Sat', 'day_Sun', 'time_Lunch', 'time_Dinner']]\n",
        "y = df['tip']\n",
        "\n",
        "# データを訓練セットとテストセットに分割\n",
        "X_train, X_test, y_train, y_test = train_test_split(X, y, test_size=0.2, random_state=42)\n",
        "\n",
        "# 線形回帰モデルの作成と訓練\n",
        "model = LinearRegression()\n",
        "model.fit(X_train, y_train)\n",
        "\n",
        "# テストデータで予測\n",
        "y_pred = model.predict(X_test)\n",
        "\n",
        "# 評価（MSE）\n",
        "mse = mean_squared_error(y_test, y_pred)\n",
        "print(f'Mean Squared Error: {mse}')\n"
      ],
      "metadata": {
        "id": "dxMAAWd9YqEK"
      },
      "execution_count": null,
      "outputs": []
    },
    {
      "cell_type": "code",
      "source": [
        "# 特徴量とターゲット変数を選択\n",
        "X = df[['total_bill', 'size', 'sex_Female', 'smoker_No', 'time_Dinner']]\n",
        "y = df['tip']\n",
        "\n",
        "# データを訓練セットとテストセットに分割\n",
        "X_train, X_test, y_train, y_test = train_test_split(X, y, test_size=0.2, random_state=42)\n",
        "\n",
        "# 線形回帰モデルの作成と訓練\n",
        "model = LinearRegression()\n",
        "model.fit(X_train, y_train)\n",
        "\n",
        "# テストデータで予測\n",
        "y_pred = model.predict(X_test)\n",
        "\n",
        "# 評価（MSE）\n",
        "mse = mean_squared_error(y_test, y_pred)\n",
        "print(f'Mean Squared Error: {mse}')"
      ],
      "metadata": {
        "id": "e5Bxusbv25fM"
      },
      "execution_count": null,
      "outputs": []
    },
    {
      "cell_type": "code",
      "source": [
        "# 説明変数を変化させて、精度が向上する様子をグラフで示す\n",
        "features = ['total_bill','size', 'sex_Female', 'smoker_No', 'day_Fri', 'day_Sat', 'day_Sun', 'time_Dinner']\n",
        "accuracies = []\n",
        "\n",
        "for feature in features:\n",
        "    X_temp = X.drop(feature, axis=1)\n",
        "    X_train, X_test, y_train, y_test = train_test_split(X_temp, y, test_size=0.2, random_state=0)\n",
        "    model.fit(X_train, y_train)\n",
        "    y_pred = model.predict(X_test)\n",
        "    accuracies.append(mean_squared_error(y_test, y_pred))\n",
        "\n",
        "# グラフを描画\n",
        "plt.figure(figsize=(10, 6))\n",
        "sns.barplot(x=features, y=accuracies)\n",
        "plt.xlabel('Dropped Feature')\n",
        "plt.ylabel('Accuracy')\n",
        "plt.title('Accuracy after Dropping Each Feature')\n",
        "plt.show()"
      ],
      "metadata": {
        "id": "9_8AA5GPIv-u"
      },
      "execution_count": null,
      "outputs": []
    },
    {
      "cell_type": "code",
      "source": [],
      "metadata": {
        "id": "MWzQwBoGzxwp"
      },
      "execution_count": null,
      "outputs": []
    }
  ]
}