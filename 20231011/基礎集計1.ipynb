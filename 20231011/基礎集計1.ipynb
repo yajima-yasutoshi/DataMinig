{
  "nbformat": 4,
  "nbformat_minor": 0,
  "metadata": {
    "colab": {
      "provenance": [],
      "collapsed_sections": [
        "mAt7NlnQAheK"
      ],
      "mount_file_id": "1IE3ZHyiVva5HQM6n-AIUNJS57jlimccq",
      "authorship_tag": "ABX9TyNZ//qyBfrBjXv+VlO0rd0n",
      "include_colab_link": true
    },
    "kernelspec": {
      "name": "python3",
      "display_name": "Python 3"
    },
    "language_info": {
      "name": "python"
    }
  },
  "cells": [
    {
      "cell_type": "markdown",
      "metadata": {
        "id": "view-in-github",
        "colab_type": "text"
      },
      "source": [
        "<a href=\"https://colab.research.google.com/github/yajima-yasutoshi/DataMinig/blob/main/20231011/%E5%9F%BA%E7%A4%8E%E9%9B%86%E8%A8%881.ipynb\" target=\"_parent\"><img src=\"https://colab.research.google.com/assets/colab-badge.svg\" alt=\"Open In Colab\"/></a>"
      ]
    },
    {
      "cell_type": "markdown",
      "source": [
        "# データマイニング第3回（2023/10/11）"
      ],
      "metadata": {
        "id": "g8YJ3oojiqNa"
      }
    },
    {
      "cell_type": "markdown",
      "source": [
        "#本日の講義の目的\n",
        "\n",
        "\n",
        "*   データ分析の流れの理解\n",
        "*   データの前処理方法の理解\n",
        "  * データのアップロード\n",
        "  * データの理解\n",
        "  * 前処理\n",
        "\n"
      ],
      "metadata": {
        "id": "wUezl4MyB_v3"
      }
    },
    {
      "cell_type": "markdown",
      "source": [
        "# 本日の講義の資料\n",
        "\n",
        "本日の資料の保管場所\n",
        "\n",
        "https://github.com/yajima-yasutoshi/DataMinig/tree/main/20231011"
      ],
      "metadata": {
        "id": "xtSHx8-Xwvzl"
      }
    },
    {
      "cell_type": "markdown",
      "source": [
        "#データ分析の流れ\n",
        "\n",
        "データ分析の基本的なステップは以下の通り。\n",
        "1. 目的設定\n",
        "1. データ収集\n",
        "1. **データ前処理**\n",
        "1. **データ探索**\n",
        "1. **モデル構築**\n",
        "1. レポート\n",
        "\n",
        "この講義では、3. から 5. の部分の知識や技術を身に着けることになる。\n",
        "\n",
        "\n"
      ],
      "metadata": {
        "id": "fWw7KjRQVEFk"
      }
    },
    {
      "cell_type": "markdown",
      "source": [
        "#準備\n",
        "データ分析に必要なPythonライブラリー（モジュール）のインストールと読み込みを施します。\n",
        "\n",
        "\n",
        "*   numpy：数値計算\n",
        "*   pandas：主にデータ加工\n",
        "*   matplotlib：グラフを作成\n",
        "*   japanize_matplotlib：日本語を表示\n",
        "*   seaborn：グラフ作成\n",
        "\n"
      ],
      "metadata": {
        "id": "IPTN-WrP7iux"
      }
    },
    {
      "cell_type": "code",
      "source": [
        "# グラフ等で日本語を表示するために必要な操作\n",
        "!pip install japanize-matplotlib"
      ],
      "metadata": {
        "id": "TXJ4eLnaaS74"
      },
      "execution_count": null,
      "outputs": []
    },
    {
      "cell_type": "markdown",
      "source": [
        "モジュールを使うための命令文\n",
        "\n",
        "モジュール名が長い場合、以下のように  「as ○○」とすることで短縮できる。\n",
        "短縮名は自由に変更が可能。\n",
        "\n",
        "```\n",
        "import モジュール名 as 短縮名\n",
        "```"
      ],
      "metadata": {
        "id": "hp66wOlGq3_n"
      }
    },
    {
      "cell_type": "code",
      "execution_count": null,
      "metadata": {
        "id": "rV9mAe6M6wQX"
      },
      "outputs": [],
      "source": [
        "# データ分析で必要となるモジュールの読み込み\n",
        "import numpy as np\n",
        "import pandas as pd\n",
        "import matplotlib.pyplot as plt\n",
        "import japanize_matplotlib\n",
        "import seaborn as sns"
      ]
    },
    {
      "cell_type": "markdown",
      "source": [
        "# データをファイルから読み込む"
      ],
      "metadata": {
        "id": "1qbshOJilmnM"
      }
    },
    {
      "cell_type": "markdown",
      "source": [
        "## データのファイルからの読み込み\n",
        "パソコン上に作成したエクセルファイルを Google Drive にアップロードして、Pythonプログラムで読み込んでみる。\n",
        "\n",
        "### エクセルファイルの作成  \n",
        "PCでエクセルを開き、適当な数値を入力しファイルを保存する。（例えば、「商品金額.xlsx」とする）\n",
        "\n",
        "> 例えば、以下の表をエクセルで作成し、適当なファイル名を付けてPCに保存する。\n",
        "> **注意点：金額の入力は半角で行う必要がある**。\n",
        ">\n",
        "> 商品|金額\n",
        ">  -- | --\n",
        "> りんご | 300\n",
        "> みかん | 200\n",
        "> スイカ | 1000\n",
        "\n",
        "### ファイルのGoogle Drive へのアップロード\n",
        "1. Google Drive で適当なフォルダーを作成\n",
        "2. PCのファイルをドラッグ＆ドロップでアップロードする。  \n",
        "あるいは、Google Driveで右クリックでメニューを開き、ファイルのアップロードを選択してもアップロードが可能である。\n",
        "\n",
        "### Googleドライブのマウント\n",
        "1. Colabにて、左端のフォルダーのアイコンをクリックし、ファイルメニューを開く。\n",
        "\n",
        "1. マウントアイコンをクリックし Google Driveをマウントする。\n",
        "\n",
        "1. drive の中の「MyDrive」が Google Drive のマイドライブとなる。\n",
        "\n",
        "\n",
        "\n",
        "### Colabで操作\n",
        "1. Driveメニューで目的のファイルにマウスを合わせ、ファイル名の右にある縦3つの「・」部分をクリックして「パスをコピー」を選択する。\n",
        "\n",
        "1. 以下のPythonコードの 2行目を先ほどコピーしたパスに変更する。ctrl+v でペーストされる。"
      ],
      "metadata": {
        "id": "ALpz2K-GYwzo"
      }
    },
    {
      "cell_type": "markdown",
      "source": [
        "### ファイルを読み込むための Pythonプログラム\n",
        "\n",
        "エクセルファイルをPython環境に読み込むためにPandasの\n",
        "read_excel()というメソッドを使う。\n",
        "\n",
        "以下の例では、変数 data に格納される。\n",
        "data という変数名は自由に変更が可能である。\n"
      ],
      "metadata": {
        "id": "IkrtcYWCl7HE"
      }
    },
    {
      "cell_type": "code",
      "source": [
        "# 読み込むファイルを指定する\n",
        "# ファイルパスは、シングルクオーテーションで囲む必要がある。\n",
        "\n",
        "file_path = '/content/drive/MyDrive/データアップロード/商品金額.xlsx'\n",
        "\n",
        "# ファイルのデータを data という変数に読み込む\n",
        "# 上で「import pandas as pd」としたことを確認。\n",
        "data = pd.read_excel(file_path)"
      ],
      "metadata": {
        "id": "ySt6i_RuGmgS"
      },
      "execution_count": null,
      "outputs": []
    },
    {
      "cell_type": "code",
      "source": [
        "# 先頭部分のデータを表示\n",
        "data.head()"
      ],
      "metadata": {
        "id": "AhBbR54iDw16"
      },
      "execution_count": null,
      "outputs": []
    },
    {
      "cell_type": "markdown",
      "source": [
        "変数 data に格納したデータは様々に計算処理が可能。\n",
        "例えば、金額の**合計**を計算するためには以下のようにする。\n",
        "列名は\n",
        "```\n",
        "'金額'\n",
        "```\n",
        "のようにシングルクートで囲む必要がある。\n"
      ],
      "metadata": {
        "id": "EiC2fe9FZ7EQ"
      }
    },
    {
      "cell_type": "code",
      "source": [
        "data['金額'].sum()"
      ],
      "metadata": {
        "id": "dZObZWJOZHil"
      },
      "execution_count": null,
      "outputs": []
    },
    {
      "cell_type": "markdown",
      "source": [
        "平均であれば、以下のようにすればよい。"
      ],
      "metadata": {
        "id": "LJOu0Zb8aKv4"
      }
    },
    {
      "cell_type": "code",
      "source": [
        "data['金額'].mean()"
      ],
      "metadata": {
        "id": "uK4ILHKIZspl"
      },
      "execution_count": null,
      "outputs": []
    },
    {
      "cell_type": "markdown",
      "source": [
        "## 【参考】CSVファイルの読み込み\n",
        "\n",
        "csv ファイルを読み込むためには、read_csv を用いる。\n",
        "\n",
        "> csvファイルはUTF-8で保存されている必要がある。うまく読み込めない場合は、エクセルで保存する際に「CSV UTF-8」とすればよい。"
      ],
      "metadata": {
        "id": "BZ8V-tkH5skT"
      }
    },
    {
      "cell_type": "code",
      "source": [
        "data= pd.read_csv('/content/drive/MyDrive/データアップロード/商品金額.csv')"
      ],
      "metadata": {
        "id": "cXc0-Hm1yRe7"
      },
      "execution_count": null,
      "outputs": []
    },
    {
      "cell_type": "code",
      "source": [
        "# 先頭の数行を表示させる\n",
        "data.head()"
      ],
      "metadata": {
        "id": "M1TYe7eKwvSO"
      },
      "execution_count": null,
      "outputs": []
    },
    {
      "cell_type": "code",
      "source": [
        "# 先頭部分のデータを10行表示\n",
        "data.head(10)"
      ],
      "metadata": {
        "id": "nHhU9cUvzCZJ"
      },
      "execution_count": null,
      "outputs": []
    },
    {
      "cell_type": "markdown",
      "source": [
        "# 本日の講義で使うデータの説明"
      ],
      "metadata": {
        "id": "hzx6m3x8n9Nd"
      }
    },
    {
      "cell_type": "markdown",
      "source": [
        "データの定義 (各列の説明)\n",
        "\n",
        "\n",
        "列名 | 型 | 説明\n",
        "--   | -- | --\n",
        "顧客ID | 数値（整数） |\n",
        "性別\t | カテゴリ型 |\n",
        "年齢\t | 数値（整数）|\n",
        "職業\t | カテゴリ型|\n",
        "年収\t | 数値（整数）|\n",
        "スマホの所有\t| カテゴリ型 |\n",
        "スマホ利用時間\t| 数値（実数）| 1日の平均使用時間\n",
        "Aの利用回数\t|  数値（整数）|\n",
        "Bの利用回数 |  数値（整数） |\n"
      ],
      "metadata": {
        "id": "4C4u1s2uoJQp"
      }
    },
    {
      "cell_type": "markdown",
      "source": [
        "## データのダウンロードとGoogle Driveへのアップロード\n",
        "\n",
        "1. 以下のサイト  \n",
        "\n",
        "\n",
        "> https://github.com/yajima-yasutoshi/DataMinig/tree/main/20231011\n",
        ">\n",
        ">にアクセスし、エクセルファイル（customer_data.xlsx）を各自のPCにダウンロードする。\n",
        "\n",
        "2. Google Drive の適当なフォルダーへアップロードする。"
      ],
      "metadata": {
        "id": "p9PmCg4E75Et"
      }
    },
    {
      "cell_type": "markdown",
      "source": [
        "# データの読み込み"
      ],
      "metadata": {
        "id": "UF8vg0CrKGxX"
      }
    },
    {
      "cell_type": "code",
      "source": [
        "# 以下の行を各自の保管場所に合わせて変更する必要がある\n",
        "file_path = '/content/drive/MyDrive/周南公立大学/講義/データマイニング/データ/customer_data.xlsx'\n",
        "data= pd.read_excel(file_path)"
      ],
      "metadata": {
        "id": "nbQH_JnZeHAt"
      },
      "execution_count": null,
      "outputs": []
    },
    {
      "cell_type": "markdown",
      "source": [
        "# レコード（行）数と、項目（列）数を表示"
      ],
      "metadata": {
        "id": "2Qd9OLCNnlwK"
      }
    },
    {
      "cell_type": "code",
      "source": [
        "# data 変数のレコード数と項目数をタプルとして取得する\n",
        "data.shape"
      ],
      "metadata": {
        "id": "6WPtHYI09r95"
      },
      "execution_count": null,
      "outputs": []
    },
    {
      "cell_type": "code",
      "source": [
        "# レコード数のみが必要であれば以下のようにすればよい。\n",
        "data.shape[0]"
      ],
      "metadata": {
        "id": "6oU4_qvjv7iv"
      },
      "execution_count": null,
      "outputs": []
    },
    {
      "cell_type": "markdown",
      "source": [
        "# データを表示\n",
        "変数に読み込んデータの内容を表示させる\n"
      ],
      "metadata": {
        "id": "N9DLRD3dZWwc"
      }
    },
    {
      "cell_type": "code",
      "source": [
        "# データの最初の10行を表示する\n",
        "data.head(10)"
      ],
      "metadata": {
        "id": "Dj_AjG6wG-y6"
      },
      "execution_count": null,
      "outputs": []
    },
    {
      "cell_type": "markdown",
      "source": [
        "NaNと表示されているのは数値が入力されいないという意味で,\n",
        " **欠損値**\n",
        " と呼ぶ。\n"
      ],
      "metadata": {
        "id": "0jkJxTu907pz"
      }
    },
    {
      "cell_type": "code",
      "source": [
        "# 最後の 5 行を表示する\n",
        "data.tail()"
      ],
      "metadata": {
        "id": "dr6M8wEZ7vO1"
      },
      "execution_count": null,
      "outputs": []
    },
    {
      "cell_type": "markdown",
      "source": [
        "#データの概要を確認する\n",
        "\n",
        "\n",
        "*   レコード数\n",
        "*   項目数\n",
        "*   各項目の属性\n",
        "  * 数値型：int64, float64\n",
        "  * カテゴリ型：object\n",
        "\n",
        "> 参考：https://pandas.pydata.org/docs/user_guide/basics.html#dtypes\n",
        "\n"
      ],
      "metadata": {
        "id": "q3ND_vu2YntZ"
      }
    },
    {
      "cell_type": "code",
      "source": [
        "#データの全体概要を表示\n",
        "data.info()"
      ],
      "metadata": {
        "id": "2UCphamJbWLC"
      },
      "execution_count": null,
      "outputs": []
    },
    {
      "cell_type": "markdown",
      "source": [
        "### 基本的な統計量の表示\n",
        "\n",
        "数値型の列に対しては、統計量として以下の数値を確認することができる。\n",
        "* データ個数\n",
        "* 平均\n",
        "* 標準偏差\n",
        "* 最小値\n",
        "* 第一四分位数\n",
        "* 第二四分位数\n",
        "* 第三四分位数\n",
        "* 最大値\n",
        "\n",
        "また、カテゴリ型のデータに対しては、\n",
        "* データ個数\n",
        "* ユニーク数\n",
        "* 最頻値\n",
        "* 最頻値のデータ数"
      ],
      "metadata": {
        "id": "xpmvLJx6zRlK"
      }
    },
    {
      "cell_type": "code",
      "source": [
        "# 数値型の変数だけが表示される\n",
        "data.describe()"
      ],
      "metadata": {
        "id": "AC4rvGa6leXN"
      },
      "execution_count": null,
      "outputs": []
    },
    {
      "cell_type": "code",
      "source": [
        "# カテゴリ型の変数に関する情報を表示させる場合\n",
        "data.describe(include='object')"
      ],
      "metadata": {
        "id": "gv9pM4QnM-Kq"
      },
      "execution_count": null,
      "outputs": []
    },
    {
      "cell_type": "code",
      "source": [
        "# 全てのカテゴリを確認する\n",
        "data['職業'].unique()\n",
        "# category = data['職業'].unique()\n",
        "# print( category)\n",
        "# print( category[2])"
      ],
      "metadata": {
        "id": "aT73itja136v"
      },
      "execution_count": null,
      "outputs": []
    },
    {
      "cell_type": "markdown",
      "source": [
        "### 数値型の項目に対しては、平均などの統計量を算出できる。\n",
        "\n",
        "主な関数には以下のものが使える。\n",
        "\n",
        "関数  | 意味\n",
        "--    |   --\n",
        "mean()   | 平均\n",
        "median() | 中央値\n",
        "min()    | 最小値\n",
        "max()    | 最大値\n",
        "quantile(0.25)  | 四分位点、0.25 とすると小さな方から並べた場合の、25%の位置のデータとなる"
      ],
      "metadata": {
        "id": "RApceJqVs69c"
      }
    },
    {
      "cell_type": "code",
      "source": [
        "# 年収の平均値\n",
        "data['年収'].mean()"
      ],
      "metadata": {
        "id": "7xWL4p3psoGF"
      },
      "execution_count": null,
      "outputs": []
    },
    {
      "cell_type": "code",
      "source": [
        "# 年収の四分位点\n",
        "data['年収'].quantile(0.25)"
      ],
      "metadata": {
        "id": "6lcGbFJ7uBBk"
      },
      "execution_count": null,
      "outputs": []
    },
    {
      "cell_type": "markdown",
      "source": [
        "### 単純な並べ替え\n",
        "\n",
        "* 小さい順に並べる場合\n",
        "```\n",
        "sort_values()\n",
        "```\n",
        "\n",
        "* 大きい順に並べる場合\n",
        "```\n",
        "sort_values(ascending=False)\n",
        "```\n",
        "\n",
        "\n",
        "\n",
        "\n"
      ],
      "metadata": {
        "id": "rfMNuWsxwTx9"
      }
    },
    {
      "cell_type": "code",
      "source": [
        "data['年収'].sort_values()"
      ],
      "metadata": {
        "id": "Kpwzdxbiw7Oq"
      },
      "execution_count": null,
      "outputs": []
    },
    {
      "cell_type": "code",
      "source": [
        "data['年収'].sort_values(ascending=False)"
      ],
      "metadata": {
        "id": "TneHRKsbxj3q"
      },
      "execution_count": null,
      "outputs": []
    },
    {
      "cell_type": "code",
      "source": [
        "# ソートし、先頭の10行を表示する場合は以下のようにする\n",
        "data['年収'].sort_values(ascending=False).head(10)"
      ],
      "metadata": {
        "id": "x_OV1cLsyGCu"
      },
      "execution_count": null,
      "outputs": []
    },
    {
      "cell_type": "markdown",
      "source": [
        "表全体を対象に並べ借ることも可能。\n",
        "\n",
        "sort_values( by = '列名' ) とする"
      ],
      "metadata": {
        "id": "wP7-QzWKaezj"
      }
    },
    {
      "cell_type": "code",
      "source": [
        "# スマホ利用時間の小さな順に並べる\n",
        "data.sort_values(by = 'スマホ利用時間')"
      ],
      "metadata": {
        "id": "wKwwLnb54X25"
      },
      "execution_count": null,
      "outputs": []
    },
    {
      "cell_type": "code",
      "source": [
        "# 年収で大きい順に並べる\n",
        "data.sort_values(by = '年収', ascending=False)"
      ],
      "metadata": {
        "id": "Kcsir56uJPEX"
      },
      "execution_count": null,
      "outputs": []
    },
    {
      "cell_type": "markdown",
      "source": [
        "# データクレンジング"
      ],
      "metadata": {
        "id": "CreP1jSacq8r"
      }
    },
    {
      "cell_type": "markdown",
      "source": [
        "## 欠損値の処理"
      ],
      "metadata": {
        "id": "_cSLaGurlzM9"
      }
    },
    {
      "cell_type": "markdown",
      "source": [
        "### 欠損値の確認"
      ],
      "metadata": {
        "id": "1iXXCy434FGc"
      }
    },
    {
      "cell_type": "code",
      "source": [
        "# 欠損値の個数を調べる\n",
        "# data という変数に読み込む\n",
        "# data = pd.read_excel(file_path)\n",
        "data.isnull().sum()"
      ],
      "metadata": {
        "id": "9_4PV8_1clHj"
      },
      "execution_count": null,
      "outputs": []
    },
    {
      "cell_type": "markdown",
      "source": [
        "### 欠損値のあるレコードを削除"
      ],
      "metadata": {
        "id": "_3y2D5sAAUsv"
      }
    },
    {
      "cell_type": "markdown",
      "source": [
        "```\n",
        "dropna()\n",
        "```\n",
        "を用いると、欠損値を一つでも含むレコードを削除できる。"
      ],
      "metadata": {
        "id": "6Pm28OYvyEjW"
      }
    },
    {
      "cell_type": "markdown",
      "source": [
        "元の変数 data は値が変化しない。レコードが削除した状態のデータが、data_dropped にコピーされる。"
      ],
      "metadata": {
        "id": "txfV6aYK2jLF"
      }
    },
    {
      "cell_type": "code",
      "source": [
        "data_dropped = data.dropna()"
      ],
      "metadata": {
        "id": "ajIYvMdSnMzp"
      },
      "execution_count": null,
      "outputs": []
    },
    {
      "cell_type": "code",
      "source": [
        "# 欠損値が無いことを確認する\n",
        "data_dropped.isnull().sum()\n",
        "# data_dropped.info()"
      ],
      "metadata": {
        "id": "GQwv9ZFFzMcn"
      },
      "execution_count": null,
      "outputs": []
    },
    {
      "cell_type": "code",
      "source": [
        "data.info()"
      ],
      "metadata": {
        "id": "0YKaPhEv2B0W"
      },
      "execution_count": null,
      "outputs": []
    },
    {
      "cell_type": "markdown",
      "source": [
        "以下のように inplace=True とすると\n",
        "dataの内容が変更される。"
      ],
      "metadata": {
        "id": "ckWJBuorchdc"
      }
    },
    {
      "cell_type": "code",
      "source": [
        "# data という変数に読み込む\n",
        "data = pd.read_excel(file_path)\n",
        "# print( data.isnull().sum() )\n",
        "data.dropna(inplace=True)\n",
        "print( data.isnull().sum() )"
      ],
      "metadata": {
        "id": "Hg4uGWIb8Nhd"
      },
      "execution_count": null,
      "outputs": []
    },
    {
      "cell_type": "code",
      "source": [
        "data.info()"
      ],
      "metadata": {
        "id": "IAeXyPULatws"
      },
      "execution_count": null,
      "outputs": []
    },
    {
      "cell_type": "markdown",
      "source": [
        "### 数値で置き換える場合\n",
        "\n",
        "欠損値を置き換えるためには以下のようにする。例えば、欠測値を 0 で置き換えるのであれば、以下のようにする。\n",
        "\n",
        "```\n",
        "fillna(0, inplace=True)\n",
        "```\n",
        "\n",
        "平均値で置き換える場合は以下のようになる。\n",
        "\n",
        "```\n",
        "fillna(data['スマホ利用時間'].mean(), inplace=True)\n",
        "```\n",
        "\n"
      ],
      "metadata": {
        "id": "mAt7NlnQAheK"
      }
    },
    {
      "cell_type": "code",
      "source": [
        "# もう一度ファイルからデータを読み込んで、欠損値のある状態にする。\n",
        "data = pd.read_excel(file_path)\n",
        "\n",
        "# 年収の欠損値を0で補完\n",
        "data['年収'].fillna(0, inplace=True)\n",
        "\n",
        "# スマホ利用時間の欠損値を平均値で補完\n",
        "data['スマホ利用時間'].fillna(data['スマホ利用時間'].mean(), inplace=True)\n",
        "\n",
        "data.isnull().sum()"
      ],
      "metadata": {
        "id": "DpreyAwVAAAB",
        "colab": {
          "base_uri": "https://localhost:8080/"
        },
        "outputId": "8dc6301d-a340-4de0-aa3b-9c7ee7b2a6b5"
      },
      "execution_count": null,
      "outputs": [
        {
          "output_type": "execute_result",
          "data": {
            "text/plain": [
              "顧客ID       0\n",
              "性別         3\n",
              "年齢         4\n",
              "職業         1\n",
              "年収         0\n",
              "スマホの所有     0\n",
              "スマホ利用時間    0\n",
              "Aの利用回数     1\n",
              "Bの利用回数     0\n",
              "dtype: int64"
            ]
          },
          "metadata": {},
          "execution_count": 32
        }
      ]
    },
    {
      "cell_type": "markdown",
      "source": [
        "### 列を削除する場合\n"
      ],
      "metadata": {
        "id": "Wb_CXOOBdFU1"
      }
    },
    {
      "cell_type": "code",
      "source": [
        "data = pd.read_excel(file_path)\n",
        "# data.info()\n",
        "\n",
        "# スマホ利用時間の列をすべて削除する場合\n",
        "data.drop(columns=['スマホ利用時間'], inplace=True)\n",
        "data.info()"
      ],
      "metadata": {
        "id": "bGFW6TVud68a"
      },
      "execution_count": null,
      "outputs": []
    },
    {
      "cell_type": "markdown",
      "source": [
        "## 異常値の削除"
      ],
      "metadata": {
        "id": "hphV6PgMqoyQ"
      }
    },
    {
      "cell_type": "code",
      "source": [
        "# 年齢でソートする。\n",
        "data.sort_values(by = '年齢', ascending=False)"
      ],
      "metadata": {
        "id": "RtpLXLYs7Fu1"
      },
      "execution_count": null,
      "outputs": []
    },
    {
      "cell_type": "markdown",
      "source": [
        "レコードの削除には\n",
        "\n",
        "\n",
        "```\n",
        "drop([削除したいレコード番号のリスト])\n",
        "```\n",
        "\n",
        "を用いる。\n",
        "\n",
        "\n"
      ],
      "metadata": {
        "id": "_yl27q1X8gTC"
      }
    },
    {
      "cell_type": "code",
      "source": [
        "data.drop([2,5])"
      ],
      "metadata": {
        "id": "lwH9Fq8981mW"
      },
      "execution_count": null,
      "outputs": []
    },
    {
      "cell_type": "code",
      "source": [
        "# 年齢が90歳以上のレコードのインデックスを取得\n",
        "indices_to_drop = data[data['年齢'] >= 90].index\n",
        "\n",
        "# 指定したインデックスのレコードを削除\n",
        "# data.drop(indices_to_drop, inplace=True)\n",
        "data_dropped = data.drop(indices_to_drop)"
      ],
      "metadata": {
        "id": "Cegs4kFWqwoT"
      },
      "execution_count": null,
      "outputs": []
    },
    {
      "cell_type": "code",
      "source": [
        "# 年齢でソートして確認する\n",
        "data_dropped.sort_values(by = '年齢', ascending=False)"
      ],
      "metadata": {
        "id": "-k-2TA1Z9ilZ"
      },
      "execution_count": null,
      "outputs": []
    },
    {
      "cell_type": "markdown",
      "source": [
        "## 重複レコードの削除"
      ],
      "metadata": {
        "id": "mwovNNXn-2sl"
      }
    },
    {
      "cell_type": "code",
      "source": [
        "# data = pd.read_excel(file_path)\n",
        "data.tail()"
      ],
      "metadata": {
        "id": "7JDmMnPE-8B9"
      },
      "execution_count": null,
      "outputs": []
    },
    {
      "cell_type": "code",
      "source": [
        "data.drop_duplicates(inplace=True)\n",
        "data.tail()"
      ],
      "metadata": {
        "id": "5WMQfbwn_B-e"
      },
      "execution_count": null,
      "outputs": []
    },
    {
      "cell_type": "markdown",
      "source": [
        "# 主なDataFrame の操作"
      ],
      "metadata": {
        "id": "n6Wf8SGxwF-1"
      }
    },
    {
      "cell_type": "markdown",
      "source": [
        "### 行や列の限定\n",
        "\n",
        "iloc を使い、DataFrame に格納された表の一部だけを取り出すことが可能。\n",
        "\n",
        "基本的な使い方は、\n",
        "\n",
        "> iloc[ 行の範囲を指定, 列の範囲を指定 ]"
      ],
      "metadata": {
        "id": "8akk32Z9y-l7"
      }
    },
    {
      "cell_type": "code",
      "source": [
        "# 0行目から2行目まで、2列目から4列目まで\n",
        "data.iloc[0:3,2:5]"
      ],
      "metadata": {
        "id": "ddxu1_5Pa-AU"
      },
      "execution_count": null,
      "outputs": []
    },
    {
      "cell_type": "code",
      "source": [
        "# 0行目から2行目まで\n",
        "data.iloc[0:3,:]"
      ],
      "metadata": {
        "id": "69i2ts92Ttql"
      },
      "execution_count": null,
      "outputs": []
    },
    {
      "cell_type": "code",
      "source": [
        "# 1列目から最後まで\n",
        "data.iloc[1:3,1:]"
      ],
      "metadata": {
        "id": "3JtzwRuQUbm4"
      },
      "execution_count": null,
      "outputs": []
    },
    {
      "cell_type": "code",
      "source": [
        "# 1列目から最後の1つ前まで\n",
        "data.iloc[1:3,:-1]"
      ],
      "metadata": {
        "id": "KQP6pETSUVD1"
      },
      "execution_count": null,
      "outputs": []
    },
    {
      "cell_type": "markdown",
      "source": [
        "### 行番号と列番号による指定\n",
        "\n",
        "> iloc[ 行のリスト, 列のリスト ]"
      ],
      "metadata": {
        "id": "ZbBsFEEu0mUr"
      }
    },
    {
      "cell_type": "code",
      "source": [
        "data.iloc[[100,1,102],[0,2,3]]"
      ],
      "metadata": {
        "id": "bCVvayCEyM3D"
      },
      "execution_count": null,
      "outputs": []
    },
    {
      "cell_type": "code",
      "source": [
        "# 行番号や列番号を省略すると全て選択される\n",
        "data.iloc[[100,1,102],]"
      ],
      "metadata": {
        "id": "aljMvQ3yxX9v"
      },
      "execution_count": null,
      "outputs": []
    },
    {
      "cell_type": "markdown",
      "source": [
        "### 特定の行の選択"
      ],
      "metadata": {
        "id": "njbNvUw_1mUC"
      }
    },
    {
      "cell_type": "code",
      "source": [
        "# 20行目から21行目までを表示。列は全て選ばれる。\n",
        "data[20:22]"
      ],
      "metadata": {
        "id": "2nZ29vAswsSR"
      },
      "execution_count": null,
      "outputs": []
    },
    {
      "cell_type": "code",
      "source": [
        "# 年齢が30未満の行を選択\n",
        "data[ data['年齢'] < 30]"
      ],
      "metadata": {
        "id": "o_3qB390yWsm"
      },
      "execution_count": null,
      "outputs": []
    },
    {
      "cell_type": "code",
      "source": [
        "# 年齢が30歳未満の顧客の年収の平均を求める\n",
        "data[ data['年齢'] < 30]['年収'].mean()"
      ],
      "metadata": {
        "id": "Agl7tfp_3czN"
      },
      "execution_count": null,
      "outputs": []
    },
    {
      "cell_type": "code",
      "source": [
        "# 選択した部分をいったん別の変数に代入したやり方でも良い\n",
        "data1 = data[ data['年齢'] < 30]\n",
        "data1['年収'].mean()"
      ],
      "metadata": {
        "id": "hP6gi-yJ46ri"
      },
      "execution_count": null,
      "outputs": []
    },
    {
      "cell_type": "code",
      "source": [
        "# 複数のAND条件も記述できる\n",
        "data[ (data['年収'] >= 300) & (data['年収'] <= 600) ]"
      ],
      "metadata": {
        "id": "XNPFR0c8dXvP"
      },
      "execution_count": null,
      "outputs": []
    },
    {
      "cell_type": "code",
      "source": [
        "data[ (data['年収'] >= 300) & (data['年収'] <= 600) ].describe()"
      ],
      "metadata": {
        "id": "C1zyCrLVspPg"
      },
      "execution_count": null,
      "outputs": []
    },
    {
      "cell_type": "code",
      "source": [
        "data[ data['職業']=='会社員']"
      ],
      "metadata": {
        "id": "plIVmXB8ygy5"
      },
      "execution_count": null,
      "outputs": []
    },
    {
      "cell_type": "code",
      "source": [
        "data[ data['職業']=='会社員'].head(3)"
      ],
      "metadata": {
        "id": "D1fQbIX4ypOt"
      },
      "execution_count": null,
      "outputs": []
    },
    {
      "cell_type": "code",
      "source": [
        "data_renamed = data.rename(columns={'Aの利用回数': 'A回数','Bの利用回数': 'B回数'})\n",
        "data_renamed.info()"
      ],
      "metadata": {
        "id": "LRUAF54m406B"
      },
      "execution_count": null,
      "outputs": []
    },
    {
      "cell_type": "markdown",
      "source": [
        "# 参考サイト\n",
        "- Google Colaboratory のWebページ\n",
        " - https://colab.research.google.com/\n",
        "\n",
        "\n",
        "- 授業の資料保管場所\n",
        " - https://github.com/yajima-yasutoshi/DataMinig/tree/main/20231011\n"
      ],
      "metadata": {
        "id": "SpNdfz6mzUZK"
      }
    },
    {
      "cell_type": "markdown",
      "source": [
        "\n",
        "---\n",
        "---\n"
      ],
      "metadata": {
        "id": "TlqgBW4_sLtg"
      }
    }
  ]
}