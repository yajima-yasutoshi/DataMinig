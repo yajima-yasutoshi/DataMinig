{
  "nbformat": 4,
  "nbformat_minor": 0,
  "metadata": {
    "colab": {
      "provenance": [],
      "collapsed_sections": [
        "mAt7NlnQAheK"
      ],
      "mount_file_id": "1IE3ZHyiVva5HQM6n-AIUNJS57jlimccq",
      "authorship_tag": "ABX9TyP0b1+46y5vu8z40mpGAjaG",
      "include_colab_link": true
    },
    "kernelspec": {
      "name": "python3",
      "display_name": "Python 3"
    },
    "language_info": {
      "name": "python"
    }
  },
  "cells": [
    {
      "cell_type": "markdown",
      "metadata": {
        "id": "view-in-github",
        "colab_type": "text"
      },
      "source": [
        "<a href=\"https://colab.research.google.com/github/yajima-yasutoshi/DataMinig/blob/main/20231011/%E5%9F%BA%E7%A4%8E%E9%9B%86%E8%A8%881.ipynb\" target=\"_parent\"><img src=\"https://colab.research.google.com/assets/colab-badge.svg\" alt=\"Open In Colab\"/></a>"
      ]
    },
    {
      "cell_type": "markdown",
      "source": [
        "# データマイニング第3回（2023/10/11）"
      ],
      "metadata": {
        "id": "g8YJ3oojiqNa"
      }
    },
    {
      "cell_type": "markdown",
      "source": [
        "#本日の講義の目的\n",
        "\n",
        "\n",
        "*   データ分析の流れの理解\n",
        "*   データの前処理方法の理解\n",
        "  * データのアップロード\n",
        "  * データの理解\n",
        "  * 前処理\n",
        "\n"
      ],
      "metadata": {
        "id": "wUezl4MyB_v3"
      }
    },
    {
      "cell_type": "markdown",
      "source": [
        "# 本日の講義の資料\n",
        "\n",
        "本日の資料の保管場所\n",
        "\n",
        "https://github.com/yajima-yasutoshi/DataMinig/tree/main/20231011"
      ],
      "metadata": {
        "id": "xtSHx8-Xwvzl"
      }
    },
    {
      "cell_type": "markdown",
      "source": [
        "#データ分析の流れ\n",
        "\n",
        "データ分析の基本的なステップ\n",
        "1. 目的設定\n",
        "1. データ収集\n",
        "1. データ前処理\n",
        "1. データ探索\n",
        "1. モデル構築\n",
        "1. レポート\n",
        "\n"
      ],
      "metadata": {
        "id": "fWw7KjRQVEFk"
      }
    },
    {
      "cell_type": "markdown",
      "source": [
        "#準備\n",
        "データ分析に必要なPythonライブラリー（モジュール）のインストールと読み込みを施します。\n",
        "\n",
        "\n",
        "*   numpy：数値計算\n",
        "*   pandas：主にデータ加工\n",
        "*   matplotlib：グラフを作成\n",
        "*   japanize_matplotlib：日本語を表示\n",
        "*   seaborn：グラフ作成\n",
        "\n"
      ],
      "metadata": {
        "id": "IPTN-WrP7iux"
      }
    },
    {
      "cell_type": "code",
      "source": [
        "!pip install japanize-matplotlib"
      ],
      "metadata": {
        "id": "TXJ4eLnaaS74"
      },
      "execution_count": null,
      "outputs": []
    },
    {
      "cell_type": "code",
      "execution_count": 2,
      "metadata": {
        "id": "rV9mAe6M6wQX"
      },
      "outputs": [],
      "source": [
        "import numpy as np\n",
        "import pandas as pd\n",
        "import matplotlib.pyplot as plt\n",
        "import japanize_matplotlib\n",
        "import seaborn as sns"
      ]
    },
    {
      "cell_type": "markdown",
      "source": [
        "# データをファイルから読み込む"
      ],
      "metadata": {
        "id": "1qbshOJilmnM"
      }
    },
    {
      "cell_type": "markdown",
      "source": [
        "## データのファイルからの読み込み\n",
        "パソコン上に作成したエクセルファイルを Google Drive にアップロードして、Pythonプログラムで読み込んでみる。\n",
        "\n",
        "### エクセルファイルの作成  \n",
        "PCでエクセルを開き、適当な数値を入力しファイルを保存する。（例えば、「商品金額.xlsx」とする）\n",
        "\n",
        "> 例えば、以下の表をエクセルで作成し、適当なファイル名を付けてPCに保存する。\n",
        "> **注意点：金額の入力は半角で行う必要がある**。\n",
        ">\n",
        "> 商品|金額\n",
        ">  -- | --\n",
        "> りんご | 300\n",
        "> みかん | 200\n",
        "> スイカ | 1000\n",
        "\n",
        "### ドライブのマウント\n",
        "1. Colabにて、左端のフォルダーのアイコンをクリックし、ファイルメニューを開く。\n",
        "\n",
        "1. マウントアイコンをクリックし Google Driveをマウントする。\n",
        "\n",
        "1. drive の中の「MyDrive」が Google Drive のマイドライブとなる。\n",
        "\n",
        "### ファイルのGoogle Drive へのアップロード\n",
        "1. Google Drive で適当なフォルダーを作成\n",
        "2. PCのファイルをドラッグ＆ドロップでアップロードする。  \n",
        "あるいは、Google Driveで右クリックでメニューを開き、ファイルのアップロードを選択してもアップロードが可能である。\n",
        "\n",
        "### Colabで操作\n",
        "1. Driveメニューで目的のファイルにマウスを合わせ、ファイル名の右にある縦3つの「・」部分をクリックして「パスをコピー」を選択する。\n",
        "\n",
        "1. 以下のPythonコードの 2行目を先ほどコピーしたパスに変更する。ctrl+v でペーストされる。"
      ],
      "metadata": {
        "id": "ALpz2K-GYwzo"
      }
    },
    {
      "cell_type": "markdown",
      "source": [
        "### ファイルを読み込むための Pythonプログラム\n",
        "\n",
        "エクセルファイルをPython環境に読み込むためにPandasの\n",
        "read_excel()というメソッドを使う"
      ],
      "metadata": {
        "id": "IkrtcYWCl7HE"
      }
    },
    {
      "cell_type": "code",
      "source": [
        "# 読み込むファイルを指定する\n",
        "file_path = '/content/drive/MyDrive/データアップロード/商品金額.xlsx'\n",
        "# data という変数に読み込む\n",
        "data = pd.read_excel(file_path)"
      ],
      "metadata": {
        "id": "ySt6i_RuGmgS"
      },
      "execution_count": 3,
      "outputs": []
    },
    {
      "cell_type": "code",
      "source": [
        "# 先頭部分のデータを表示\n",
        "data.head()"
      ],
      "metadata": {
        "id": "AhBbR54iDw16"
      },
      "execution_count": null,
      "outputs": []
    },
    {
      "cell_type": "markdown",
      "source": [
        "## 【参考】CSVファイルの読み込み\n",
        "\n",
        "> csvファイルはUTF-8で保存されている必要がある。うまく読み込めない場合は、エクセル[リンクテキスト](https://)で「CSV UTF-8」として保存すると良い。"
      ],
      "metadata": {
        "id": "BZ8V-tkH5skT"
      }
    },
    {
      "cell_type": "code",
      "source": [
        "import pandas\n",
        "\n",
        "data= pandas.read_csv('/content/drive/MyDrive/データアップロード/商品金額.csv')\n",
        "print( data.size )"
      ],
      "metadata": {
        "id": "cXc0-Hm1yRe7"
      },
      "execution_count": null,
      "outputs": []
    },
    {
      "cell_type": "code",
      "source": [
        "# 先頭の数行を表示させる\n",
        "data.head()"
      ],
      "metadata": {
        "id": "M1TYe7eKwvSO",
        "colab": {
          "base_uri": "https://localhost:8080/",
          "height": 143
        },
        "outputId": "351b6898-9bb1-4a73-8f25-c6efb6bd7750"
      },
      "execution_count": 6,
      "outputs": [
        {
          "output_type": "execute_result",
          "data": {
            "text/plain": [
              "    商品    金額\n",
              "0  リンゴ   300\n",
              "1  みかん   200\n",
              "2  スイカ  1000"
            ],
            "text/html": [
              "\n",
              "  <div id=\"df-8872a23e-6a47-4d35-bb9c-016b708c61fe\" class=\"colab-df-container\">\n",
              "    <div>\n",
              "<style scoped>\n",
              "    .dataframe tbody tr th:only-of-type {\n",
              "        vertical-align: middle;\n",
              "    }\n",
              "\n",
              "    .dataframe tbody tr th {\n",
              "        vertical-align: top;\n",
              "    }\n",
              "\n",
              "    .dataframe thead th {\n",
              "        text-align: right;\n",
              "    }\n",
              "</style>\n",
              "<table border=\"1\" class=\"dataframe\">\n",
              "  <thead>\n",
              "    <tr style=\"text-align: right;\">\n",
              "      <th></th>\n",
              "      <th>商品</th>\n",
              "      <th>金額</th>\n",
              "    </tr>\n",
              "  </thead>\n",
              "  <tbody>\n",
              "    <tr>\n",
              "      <th>0</th>\n",
              "      <td>リンゴ</td>\n",
              "      <td>300</td>\n",
              "    </tr>\n",
              "    <tr>\n",
              "      <th>1</th>\n",
              "      <td>みかん</td>\n",
              "      <td>200</td>\n",
              "    </tr>\n",
              "    <tr>\n",
              "      <th>2</th>\n",
              "      <td>スイカ</td>\n",
              "      <td>1000</td>\n",
              "    </tr>\n",
              "  </tbody>\n",
              "</table>\n",
              "</div>\n",
              "    <div class=\"colab-df-buttons\">\n",
              "\n",
              "  <div class=\"colab-df-container\">\n",
              "    <button class=\"colab-df-convert\" onclick=\"convertToInteractive('df-8872a23e-6a47-4d35-bb9c-016b708c61fe')\"\n",
              "            title=\"Convert this dataframe to an interactive table.\"\n",
              "            style=\"display:none;\">\n",
              "\n",
              "  <svg xmlns=\"http://www.w3.org/2000/svg\" height=\"24px\" viewBox=\"0 -960 960 960\">\n",
              "    <path d=\"M120-120v-720h720v720H120Zm60-500h600v-160H180v160Zm220 220h160v-160H400v160Zm0 220h160v-160H400v160ZM180-400h160v-160H180v160Zm440 0h160v-160H620v160ZM180-180h160v-160H180v160Zm440 0h160v-160H620v160Z\"/>\n",
              "  </svg>\n",
              "    </button>\n",
              "\n",
              "  <style>\n",
              "    .colab-df-container {\n",
              "      display:flex;\n",
              "      gap: 12px;\n",
              "    }\n",
              "\n",
              "    .colab-df-convert {\n",
              "      background-color: #E8F0FE;\n",
              "      border: none;\n",
              "      border-radius: 50%;\n",
              "      cursor: pointer;\n",
              "      display: none;\n",
              "      fill: #1967D2;\n",
              "      height: 32px;\n",
              "      padding: 0 0 0 0;\n",
              "      width: 32px;\n",
              "    }\n",
              "\n",
              "    .colab-df-convert:hover {\n",
              "      background-color: #E2EBFA;\n",
              "      box-shadow: 0px 1px 2px rgba(60, 64, 67, 0.3), 0px 1px 3px 1px rgba(60, 64, 67, 0.15);\n",
              "      fill: #174EA6;\n",
              "    }\n",
              "\n",
              "    .colab-df-buttons div {\n",
              "      margin-bottom: 4px;\n",
              "    }\n",
              "\n",
              "    [theme=dark] .colab-df-convert {\n",
              "      background-color: #3B4455;\n",
              "      fill: #D2E3FC;\n",
              "    }\n",
              "\n",
              "    [theme=dark] .colab-df-convert:hover {\n",
              "      background-color: #434B5C;\n",
              "      box-shadow: 0px 1px 3px 1px rgba(0, 0, 0, 0.15);\n",
              "      filter: drop-shadow(0px 1px 2px rgba(0, 0, 0, 0.3));\n",
              "      fill: #FFFFFF;\n",
              "    }\n",
              "  </style>\n",
              "\n",
              "    <script>\n",
              "      const buttonEl =\n",
              "        document.querySelector('#df-8872a23e-6a47-4d35-bb9c-016b708c61fe button.colab-df-convert');\n",
              "      buttonEl.style.display =\n",
              "        google.colab.kernel.accessAllowed ? 'block' : 'none';\n",
              "\n",
              "      async function convertToInteractive(key) {\n",
              "        const element = document.querySelector('#df-8872a23e-6a47-4d35-bb9c-016b708c61fe');\n",
              "        const dataTable =\n",
              "          await google.colab.kernel.invokeFunction('convertToInteractive',\n",
              "                                                    [key], {});\n",
              "        if (!dataTable) return;\n",
              "\n",
              "        const docLinkHtml = 'Like what you see? Visit the ' +\n",
              "          '<a target=\"_blank\" href=https://colab.research.google.com/notebooks/data_table.ipynb>data table notebook</a>'\n",
              "          + ' to learn more about interactive tables.';\n",
              "        element.innerHTML = '';\n",
              "        dataTable['output_type'] = 'display_data';\n",
              "        await google.colab.output.renderOutput(dataTable, element);\n",
              "        const docLink = document.createElement('div');\n",
              "        docLink.innerHTML = docLinkHtml;\n",
              "        element.appendChild(docLink);\n",
              "      }\n",
              "    </script>\n",
              "  </div>\n",
              "\n",
              "\n",
              "<div id=\"df-d8dac199-d4ab-42b9-a75d-940c1a6c8db4\">\n",
              "  <button class=\"colab-df-quickchart\" onclick=\"quickchart('df-d8dac199-d4ab-42b9-a75d-940c1a6c8db4')\"\n",
              "            title=\"Suggest charts.\"\n",
              "            style=\"display:none;\">\n",
              "\n",
              "<svg xmlns=\"http://www.w3.org/2000/svg\" height=\"24px\"viewBox=\"0 0 24 24\"\n",
              "     width=\"24px\">\n",
              "    <g>\n",
              "        <path d=\"M19 3H5c-1.1 0-2 .9-2 2v14c0 1.1.9 2 2 2h14c1.1 0 2-.9 2-2V5c0-1.1-.9-2-2-2zM9 17H7v-7h2v7zm4 0h-2V7h2v10zm4 0h-2v-4h2v4z\"/>\n",
              "    </g>\n",
              "</svg>\n",
              "  </button>\n",
              "\n",
              "<style>\n",
              "  .colab-df-quickchart {\n",
              "      --bg-color: #E8F0FE;\n",
              "      --fill-color: #1967D2;\n",
              "      --hover-bg-color: #E2EBFA;\n",
              "      --hover-fill-color: #174EA6;\n",
              "      --disabled-fill-color: #AAA;\n",
              "      --disabled-bg-color: #DDD;\n",
              "  }\n",
              "\n",
              "  [theme=dark] .colab-df-quickchart {\n",
              "      --bg-color: #3B4455;\n",
              "      --fill-color: #D2E3FC;\n",
              "      --hover-bg-color: #434B5C;\n",
              "      --hover-fill-color: #FFFFFF;\n",
              "      --disabled-bg-color: #3B4455;\n",
              "      --disabled-fill-color: #666;\n",
              "  }\n",
              "\n",
              "  .colab-df-quickchart {\n",
              "    background-color: var(--bg-color);\n",
              "    border: none;\n",
              "    border-radius: 50%;\n",
              "    cursor: pointer;\n",
              "    display: none;\n",
              "    fill: var(--fill-color);\n",
              "    height: 32px;\n",
              "    padding: 0;\n",
              "    width: 32px;\n",
              "  }\n",
              "\n",
              "  .colab-df-quickchart:hover {\n",
              "    background-color: var(--hover-bg-color);\n",
              "    box-shadow: 0 1px 2px rgba(60, 64, 67, 0.3), 0 1px 3px 1px rgba(60, 64, 67, 0.15);\n",
              "    fill: var(--button-hover-fill-color);\n",
              "  }\n",
              "\n",
              "  .colab-df-quickchart-complete:disabled,\n",
              "  .colab-df-quickchart-complete:disabled:hover {\n",
              "    background-color: var(--disabled-bg-color);\n",
              "    fill: var(--disabled-fill-color);\n",
              "    box-shadow: none;\n",
              "  }\n",
              "\n",
              "  .colab-df-spinner {\n",
              "    border: 2px solid var(--fill-color);\n",
              "    border-color: transparent;\n",
              "    border-bottom-color: var(--fill-color);\n",
              "    animation:\n",
              "      spin 1s steps(1) infinite;\n",
              "  }\n",
              "\n",
              "  @keyframes spin {\n",
              "    0% {\n",
              "      border-color: transparent;\n",
              "      border-bottom-color: var(--fill-color);\n",
              "      border-left-color: var(--fill-color);\n",
              "    }\n",
              "    20% {\n",
              "      border-color: transparent;\n",
              "      border-left-color: var(--fill-color);\n",
              "      border-top-color: var(--fill-color);\n",
              "    }\n",
              "    30% {\n",
              "      border-color: transparent;\n",
              "      border-left-color: var(--fill-color);\n",
              "      border-top-color: var(--fill-color);\n",
              "      border-right-color: var(--fill-color);\n",
              "    }\n",
              "    40% {\n",
              "      border-color: transparent;\n",
              "      border-right-color: var(--fill-color);\n",
              "      border-top-color: var(--fill-color);\n",
              "    }\n",
              "    60% {\n",
              "      border-color: transparent;\n",
              "      border-right-color: var(--fill-color);\n",
              "    }\n",
              "    80% {\n",
              "      border-color: transparent;\n",
              "      border-right-color: var(--fill-color);\n",
              "      border-bottom-color: var(--fill-color);\n",
              "    }\n",
              "    90% {\n",
              "      border-color: transparent;\n",
              "      border-bottom-color: var(--fill-color);\n",
              "    }\n",
              "  }\n",
              "</style>\n",
              "\n",
              "  <script>\n",
              "    async function quickchart(key) {\n",
              "      const quickchartButtonEl =\n",
              "        document.querySelector('#' + key + ' button');\n",
              "      quickchartButtonEl.disabled = true;  // To prevent multiple clicks.\n",
              "      quickchartButtonEl.classList.add('colab-df-spinner');\n",
              "      try {\n",
              "        const charts = await google.colab.kernel.invokeFunction(\n",
              "            'suggestCharts', [key], {});\n",
              "      } catch (error) {\n",
              "        console.error('Error during call to suggestCharts:', error);\n",
              "      }\n",
              "      quickchartButtonEl.classList.remove('colab-df-spinner');\n",
              "      quickchartButtonEl.classList.add('colab-df-quickchart-complete');\n",
              "    }\n",
              "    (() => {\n",
              "      let quickchartButtonEl =\n",
              "        document.querySelector('#df-d8dac199-d4ab-42b9-a75d-940c1a6c8db4 button');\n",
              "      quickchartButtonEl.style.display =\n",
              "        google.colab.kernel.accessAllowed ? 'block' : 'none';\n",
              "    })();\n",
              "  </script>\n",
              "</div>\n",
              "    </div>\n",
              "  </div>\n"
            ]
          },
          "metadata": {},
          "execution_count": 6
        }
      ]
    },
    {
      "cell_type": "code",
      "source": [
        "# 先頭部分のデータを10行表示\n",
        "data.head(10)"
      ],
      "metadata": {
        "id": "nHhU9cUvzCZJ"
      },
      "execution_count": null,
      "outputs": []
    },
    {
      "cell_type": "markdown",
      "source": [
        "# 本日の講義で使うデータの説明"
      ],
      "metadata": {
        "id": "hzx6m3x8n9Nd"
      }
    },
    {
      "cell_type": "markdown",
      "source": [
        "データの定義 (各列の説明)\n",
        "\n",
        "\n",
        "列名 | 型 | 説明\n",
        "--   | -- | --\n",
        "顧客ID | 数値（整数） |\n",
        "性別\t | カテゴリ型 |\n",
        "年齢\t | 数値（整数）|\n",
        "職業\t | カテゴリ型|\n",
        "年収\t | 数値（整数）|\n",
        "スマホの所有\t| カテゴリ型 |\n",
        "スマホ利用時間\t| 数値（実数）| 1日の平均使用時間\n",
        "Aの利用回数\t|  数値（整数）|\n",
        "Bの利用回数 |  数値（整数） |\n"
      ],
      "metadata": {
        "id": "4C4u1s2uoJQp"
      }
    },
    {
      "cell_type": "markdown",
      "source": [
        "## データのダウンロードとGoogle Driveへのアップロード\n",
        "\n",
        "1. 以下のサイト  \n",
        "\n",
        "\n",
        "> https://github.com/yajima-yasutoshi/DataMinig/tree/main/20231011\n",
        ">\n",
        ">にアクセスし、エクセルファイル（customer_data.xlsx）をPCにダウンロードする。\n",
        "\n",
        "2. Google Drive の適当なフォルダーへアップロードする。"
      ],
      "metadata": {
        "id": "p9PmCg4E75Et"
      }
    },
    {
      "cell_type": "markdown",
      "source": [
        "# データの読み込み"
      ],
      "metadata": {
        "id": "UF8vg0CrKGxX"
      }
    },
    {
      "cell_type": "code",
      "source": [
        "# 以下の行を変更する\n",
        "file_path = '/content/drive/MyDrive/周南公立大学/講義/データマイニング/データ/customer_data.xlsx'\n",
        "data= pd.read_excel(file_path)"
      ],
      "metadata": {
        "id": "nbQH_JnZeHAt"
      },
      "execution_count": 8,
      "outputs": []
    },
    {
      "cell_type": "markdown",
      "source": [
        "# 行数と列数表示"
      ],
      "metadata": {
        "id": "2Qd9OLCNnlwK"
      }
    },
    {
      "cell_type": "code",
      "source": [
        "data.shape"
      ],
      "metadata": {
        "id": "6WPtHYI09r95"
      },
      "execution_count": null,
      "outputs": []
    },
    {
      "cell_type": "markdown",
      "source": [
        "# データを表示\n",
        "変数に読み込んデータの内容を表示させる\n"
      ],
      "metadata": {
        "id": "N9DLRD3dZWwc"
      }
    },
    {
      "cell_type": "code",
      "source": [
        "# データの最初の10行を表示する\n",
        "data.head(10)"
      ],
      "metadata": {
        "id": "Dj_AjG6wG-y6"
      },
      "execution_count": null,
      "outputs": []
    },
    {
      "cell_type": "markdown",
      "source": [
        "NaNと表示されているのは数値が入力されいないという意味で,\n",
        " **欠損値**\n",
        " と呼ぶ。\n"
      ],
      "metadata": {
        "id": "0jkJxTu907pz"
      }
    },
    {
      "cell_type": "code",
      "source": [
        "# 最後の 5 行を表示する\n",
        "data.tail()"
      ],
      "metadata": {
        "id": "dr6M8wEZ7vO1"
      },
      "execution_count": null,
      "outputs": []
    },
    {
      "cell_type": "markdown",
      "source": [
        "#データの概要を確認する\n",
        "\n",
        "\n",
        "*   レコード数\n",
        "*   カラム（項目）数\n",
        "*   各カラムの属性\n",
        "\n"
      ],
      "metadata": {
        "id": "q3ND_vu2YntZ"
      }
    },
    {
      "cell_type": "code",
      "source": [
        "#データの全体概要を表示\n",
        "data.info()"
      ],
      "metadata": {
        "id": "2UCphamJbWLC"
      },
      "execution_count": null,
      "outputs": []
    },
    {
      "cell_type": "markdown",
      "source": [
        "### 基本的な統計量の表示\n",
        "\n",
        "数値型の列に対しては、統計量として以下の数値を確認することができる。\n",
        "* データ個数\n",
        "* 平均\n",
        "* 標準偏差\n",
        "* 最小値\n",
        "* 第一四分位数\n",
        "* 第二四分位数\n",
        "* 第三四分位数\n",
        "* 最大値\n",
        "\n",
        "また、カテゴリ型のデータに対しては、\n",
        "* データ個数\n",
        "* ユニーク数\n",
        "* 最頻値\n",
        "* 最頻値のデータ数"
      ],
      "metadata": {
        "id": "xpmvLJx6zRlK"
      }
    },
    {
      "cell_type": "code",
      "source": [
        "# 数値型の変数だけが表示される\n",
        "data.describe()"
      ],
      "metadata": {
        "id": "AC4rvGa6leXN"
      },
      "execution_count": null,
      "outputs": []
    },
    {
      "cell_type": "code",
      "source": [
        "# カテゴリ型の変数に関する情報を表示させる場合\n",
        "data.describe(include='object')"
      ],
      "metadata": {
        "id": "gv9pM4QnM-Kq"
      },
      "execution_count": null,
      "outputs": []
    },
    {
      "cell_type": "code",
      "source": [
        "# 全てのカテゴリを確認する\n",
        "category = data['職業'].unique()\n",
        "print( category)\n",
        "# print( category[2])"
      ],
      "metadata": {
        "id": "aT73itja136v"
      },
      "execution_count": null,
      "outputs": []
    },
    {
      "cell_type": "markdown",
      "source": [
        "# データクレンジング"
      ],
      "metadata": {
        "id": "CreP1jSacq8r"
      }
    },
    {
      "cell_type": "markdown",
      "source": [
        "## 欠損値の処理"
      ],
      "metadata": {
        "id": "_cSLaGurlzM9"
      }
    },
    {
      "cell_type": "markdown",
      "source": [
        "### 欠損値の確認"
      ],
      "metadata": {
        "id": "1iXXCy434FGc"
      }
    },
    {
      "cell_type": "code",
      "source": [
        "# 欠損値の個数を調べる\n",
        "# data という変数に読み込む\n",
        "# data = pd.read_excel(file_path)\n",
        "data.isnull().sum()"
      ],
      "metadata": {
        "id": "9_4PV8_1clHj"
      },
      "execution_count": null,
      "outputs": []
    },
    {
      "cell_type": "markdown",
      "source": [
        "### 欠損値のあるレコードを削除"
      ],
      "metadata": {
        "id": "_3y2D5sAAUsv"
      }
    },
    {
      "cell_type": "code",
      "source": [
        "data_dropped = data.dropna()\n",
        "\n",
        "print(data_dropped.isnull().sum())\n",
        "data_dropped.info()"
      ],
      "metadata": {
        "id": "ajIYvMdSnMzp"
      },
      "execution_count": null,
      "outputs": []
    },
    {
      "cell_type": "markdown",
      "source": [
        "元の変数 data は値が変化しない。レコードが削除した状態のデータが、data_dropped にコピーされる。"
      ],
      "metadata": {
        "id": "txfV6aYK2jLF"
      }
    },
    {
      "cell_type": "code",
      "source": [
        "data.info()"
      ],
      "metadata": {
        "id": "0YKaPhEv2B0W"
      },
      "execution_count": null,
      "outputs": []
    },
    {
      "cell_type": "markdown",
      "source": [
        "以下のように inplace=True とすると\n",
        "dataの内容が変更される。"
      ],
      "metadata": {
        "id": "ckWJBuorchdc"
      }
    },
    {
      "cell_type": "code",
      "source": [
        "# data という変数に読み込む\n",
        "data = pd.read_excel(file_path)\n",
        "# print( data.isnull().sum() )\n",
        "data.dropna(inplace=True)\n",
        "print( data.isnull().sum() )\n"
      ],
      "metadata": {
        "id": "Hg4uGWIb8Nhd"
      },
      "execution_count": null,
      "outputs": []
    },
    {
      "cell_type": "code",
      "source": [
        "data.info()"
      ],
      "metadata": {
        "id": "IAeXyPULatws"
      },
      "execution_count": null,
      "outputs": []
    },
    {
      "cell_type": "markdown",
      "source": [
        "### 数値で置き換える場合"
      ],
      "metadata": {
        "id": "mAt7NlnQAheK"
      }
    },
    {
      "cell_type": "code",
      "source": [
        "data = pd.read_excel(file_path)\n",
        "# スマホ利用時間の欠損値を平均値で補完\n",
        "data['スマホ利用時間'].fillna(data['スマホ利用時間'].mean(), inplace=True)\n",
        "\n",
        "# 年収の欠損値を0で補完\n",
        "data['年収'].fillna(0, inplace=True)\n"
      ],
      "metadata": {
        "id": "DpreyAwVAAAB"
      },
      "execution_count": 21,
      "outputs": []
    },
    {
      "cell_type": "markdown",
      "source": [
        "data['スマホ利用時間'].mean() の mean()の部分は以下の関数に変更ができる\n",
        "\n",
        "関数  | 意味\n",
        "--    |   --\n",
        "mean()   | 平均\n",
        "median() | 中央値\n",
        "min()    | 最小値\n",
        "max()    | 最大値\n"
      ],
      "metadata": {
        "id": "I9bw2qGKkEde"
      }
    },
    {
      "cell_type": "code",
      "source": [
        "print( data['スマホ利用時間'].max() )"
      ],
      "metadata": {
        "colab": {
          "base_uri": "https://localhost:8080/"
        },
        "id": "287ZDgBUkKhl",
        "outputId": "47bee411-7587-4f23-da1d-196bd42a22d6"
      },
      "execution_count": 22,
      "outputs": [
        {
          "output_type": "stream",
          "name": "stdout",
          "text": [
            "6.87\n"
          ]
        }
      ]
    },
    {
      "cell_type": "markdown",
      "source": [
        "### 列を削除する場合\n"
      ],
      "metadata": {
        "id": "Wb_CXOOBdFU1"
      }
    },
    {
      "cell_type": "code",
      "source": [
        "data = pd.read_excel(file_path)\n",
        "# data.info()\n",
        "\n",
        "# スマホ利用時間の列をすべて削除する場合\n",
        "data.drop(columns=['スマホ利用時間'], inplace=True)\n",
        "data.info()"
      ],
      "metadata": {
        "id": "bGFW6TVud68a"
      },
      "execution_count": null,
      "outputs": []
    },
    {
      "cell_type": "markdown",
      "source": [
        "## 異常値の削除"
      ],
      "metadata": {
        "id": "hphV6PgMqoyQ"
      }
    },
    {
      "cell_type": "code",
      "source": [
        "# 年齢が90歳以上のレコードのインデックスを取得\n",
        "indices_to_drop = data[data['年齢'] >= 90].index\n",
        "\n",
        "# 指定したインデックスのレコードを削除\n",
        "# data.drop(indices_to_drop, inplace=True)\n",
        "data_dropped = data.drop(indices_to_drop)\n",
        "data_dropped.info()"
      ],
      "metadata": {
        "id": "Cegs4kFWqwoT"
      },
      "execution_count": null,
      "outputs": []
    },
    {
      "cell_type": "markdown",
      "source": [
        "## 重複レコードの削除"
      ],
      "metadata": {
        "id": "mwovNNXn-2sl"
      }
    },
    {
      "cell_type": "code",
      "source": [
        "# data = pd.read_excel(file_path)\n",
        "data.tail()"
      ],
      "metadata": {
        "id": "7JDmMnPE-8B9"
      },
      "execution_count": null,
      "outputs": []
    },
    {
      "cell_type": "code",
      "source": [
        "data.drop_duplicates(inplace=True)\n",
        "data.tail()"
      ],
      "metadata": {
        "id": "5WMQfbwn_B-e"
      },
      "execution_count": null,
      "outputs": []
    },
    {
      "cell_type": "markdown",
      "source": [
        "# 主なDataFrame の操作"
      ],
      "metadata": {
        "id": "n6Wf8SGxwF-1"
      }
    },
    {
      "cell_type": "code",
      "source": [
        "# 20行目から21行目までを表示\n",
        "data[20:22]"
      ],
      "metadata": {
        "id": "2nZ29vAswsSR"
      },
      "execution_count": null,
      "outputs": []
    },
    {
      "cell_type": "code",
      "source": [
        "data.iloc[[100,1,102]]"
      ],
      "metadata": {
        "id": "aljMvQ3yxX9v"
      },
      "execution_count": null,
      "outputs": []
    },
    {
      "cell_type": "code",
      "source": [
        "data.iloc[[100,1,102],[0,2,3]]"
      ],
      "metadata": {
        "id": "bCVvayCEyM3D"
      },
      "execution_count": null,
      "outputs": []
    },
    {
      "cell_type": "code",
      "source": [
        "data[ data['年齢']>90]"
      ],
      "metadata": {
        "id": "o_3qB390yWsm"
      },
      "execution_count": null,
      "outputs": []
    },
    {
      "cell_type": "code",
      "source": [
        "data[ data['職業']=='会社員']"
      ],
      "metadata": {
        "id": "plIVmXB8ygy5"
      },
      "execution_count": null,
      "outputs": []
    },
    {
      "cell_type": "code",
      "source": [
        "data[ data['職業']=='会社員'].head(3)"
      ],
      "metadata": {
        "id": "D1fQbIX4ypOt"
      },
      "execution_count": null,
      "outputs": []
    },
    {
      "cell_type": "code",
      "source": [
        "data_renamed = data.rename(columns={'Aの利用回数': 'A回数','Bの利用回数': 'B回数'})\n",
        "data_renamed.info()"
      ],
      "metadata": {
        "id": "LRUAF54m406B"
      },
      "execution_count": null,
      "outputs": []
    },
    {
      "cell_type": "code",
      "source": [
        "data = pd.read_excel(file_path)\n",
        "# data.info()\n",
        "\n",
        "data.sort_values(by = 'スマホ利用時間')"
      ],
      "metadata": {
        "id": "Ny8sDTSSI54B"
      },
      "execution_count": null,
      "outputs": []
    },
    {
      "cell_type": "code",
      "source": [
        "data.sort_values(by = '年収', ascending=False)"
      ],
      "metadata": {
        "id": "Kcsir56uJPEX"
      },
      "execution_count": null,
      "outputs": []
    },
    {
      "cell_type": "markdown",
      "source": [
        "# 参考サイト\n",
        "- Google Colaboratory のWebページ\n",
        " - https://colab.research.google.com/\n",
        "\n",
        "\n",
        "- 授業の資料保管場所\n",
        " - https://github.com/yajima-yasutoshi/DataMinig/tree/main/20231011\n"
      ],
      "metadata": {
        "id": "SpNdfz6mzUZK"
      }
    },
    {
      "cell_type": "markdown",
      "source": [
        "\n",
        "---\n",
        "---\n"
      ],
      "metadata": {
        "id": "TlqgBW4_sLtg"
      }
    },
    {
      "cell_type": "markdown",
      "source": [
        "# 基礎集計\n"
      ],
      "metadata": {
        "id": "q8jXrXFkPiaf"
      }
    },
    {
      "cell_type": "markdown",
      "source": [
        "##カウント"
      ],
      "metadata": {
        "id": "k7iIY2ujfHMU"
      }
    },
    {
      "cell_type": "code",
      "source": [
        "# data = pd.read_excel(file_path)\n",
        "# print( data['職業'].unique() )\n",
        "print( data['職業'].value_counts())\n",
        "# print( data['性別'].value_counts())\n",
        "\n",
        "#print( data['スマホの所有'].value_counts())"
      ],
      "metadata": {
        "id": "BlwDibjWQevG"
      },
      "execution_count": null,
      "outputs": []
    },
    {
      "cell_type": "markdown",
      "source": [
        "## 集計"
      ],
      "metadata": {
        "id": "S-OY-Bo9dGrP"
      }
    },
    {
      "cell_type": "code",
      "source": [
        "selected_data = data[['性別', '年齢', '年収', 'Aの利用回数', 'Bの利用回数']]\n",
        "\n",
        "# 性別ごとに平均を計算\n",
        "# average_by_gender =\n",
        "selected_data.groupby('性別').mean()\n"
      ],
      "metadata": {
        "id": "fCy7ovlVRhze"
      },
      "execution_count": null,
      "outputs": []
    },
    {
      "cell_type": "code",
      "source": [
        "selected_data = data[['性別', '職業', '年齢', '年収', 'Aの利用回数', 'Bの利用回数']]\n",
        "selected_data.groupby('性別').median()"
      ],
      "metadata": {
        "id": "lMoxSz-Wo1he"
      },
      "execution_count": null,
      "outputs": []
    },
    {
      "cell_type": "code",
      "source": [
        "selected_data = data[['性別', '職業','年齢']]\n",
        "selected_data.groupby(['性別','職業']).agg(['min', 'max', 'mean'])"
      ],
      "metadata": {
        "id": "LzDo3-Lnoe2L"
      },
      "execution_count": null,
      "outputs": []
    },
    {
      "cell_type": "code",
      "source": [
        "data.groupby(['性別','職業']).mean()"
      ],
      "metadata": {
        "id": "EOXXgTCOpoZx"
      },
      "execution_count": null,
      "outputs": []
    },
    {
      "cell_type": "markdown",
      "source": [
        "# ヒストグラムの表示"
      ],
      "metadata": {
        "id": "4n4LMO3to7a3"
      }
    },
    {
      "cell_type": "code",
      "source": [
        "import matplotlib.pyplot as plt\n",
        "import japanize_matplotlib\n",
        "import seaborn as sns\n",
        "\n",
        "data = pd.read_excel(file_path)\n",
        "\n",
        "# 年齢のデータを取得\n",
        "ages = data['年齢']\n",
        "\n",
        "# ヒストグラムを描画\n",
        "sns.histplot(ages, bins=20, kde=False)\n",
        "plt.title('年齢の分布')\n",
        "plt.xlabel('年齢')\n",
        "plt.ylabel('人数')\n",
        "plt.show()"
      ],
      "metadata": {
        "id": "9LEqpwuUo5Sb"
      },
      "execution_count": null,
      "outputs": []
    },
    {
      "cell_type": "code",
      "source": [
        "# 年齢が80歳以上のレコードのインデックスを取得\n",
        "indices_to_drop = data[data['年齢'] >= 80].index\n",
        "\n",
        "# 指定したインデックスのレコードを削除\n",
        "data.drop(indices_to_drop, inplace=True)\n"
      ],
      "metadata": {
        "id": "M_TcvBoEpmuJ"
      },
      "execution_count": 45,
      "outputs": []
    },
    {
      "cell_type": "code",
      "source": [
        "# 年齢のデータを取得\n",
        "ages = data['年齢']\n",
        "\n",
        "# ヒストグラムを描画\n",
        "sns.histplot(ages, bins=20, kde=False)\n",
        "plt.title('年齢の分布')\n",
        "plt.xlabel('年齢')\n",
        "plt.ylabel('人数')\n",
        "plt.show()"
      ],
      "metadata": {
        "id": "GYYWO1FaqO3x"
      },
      "execution_count": null,
      "outputs": []
    }
  ]
}