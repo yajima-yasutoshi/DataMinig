{
  "nbformat": 4,
  "nbformat_minor": 0,
  "metadata": {
    "colab": {
      "provenance": [],
      "toc_visible": true,
      "mount_file_id": "1qmGASuYGzebLNjrbJuYkgYyErjWIPNxe",
      "authorship_tag": "ABX9TyMXa+BsCYEmT4DKoIDQjSDW",
      "include_colab_link": true
    },
    "kernelspec": {
      "name": "python3",
      "display_name": "Python 3"
    },
    "language_info": {
      "name": "python"
    }
  },
  "cells": [
    {
      "cell_type": "markdown",
      "metadata": {
        "id": "view-in-github",
        "colab_type": "text"
      },
      "source": [
        "<a href=\"https://colab.research.google.com/github/yajima-yasutoshi/DataMinig/blob/main/20231024/%E5%8F%AF%E8%A6%96%E5%8C%96.ipynb\" target=\"_parent\"><img src=\"https://colab.research.google.com/assets/colab-badge.svg\" alt=\"Open In Colab\"/></a>"
      ]
    },
    {
      "cell_type": "markdown",
      "source": [
        "# データマイニング第5回（2023/10/25）"
      ],
      "metadata": {
        "id": "g8YJ3oojiqNa"
      }
    },
    {
      "cell_type": "markdown",
      "source": [
        "# 本日の講義の資料\n",
        "\n",
        "以下のサイトに保存してある。\n",
        "\n",
        "https://github.com/yajima-yasutoshi/DataMinig/tree/main/20231025"
      ],
      "metadata": {
        "id": "xtSHx8-Xwvzl"
      }
    },
    {
      "cell_type": "markdown",
      "source": [
        "#準備\n",
        "データ分析に必要なPythonライブラリー（モジュール）のインストールと読み込みを施します。\n",
        "\n",
        "\n",
        "*   numpy：数値計算\n",
        "*   pandas：主にデータ加工\n",
        "*   matplotlib：グラフを作成\n",
        "*   japanize_matplotlib：日本語を表示\n",
        "*   seaborn：グラフ作成\n",
        "\n"
      ],
      "metadata": {
        "id": "KqYDlMQrWLbe"
      }
    },
    {
      "cell_type": "code",
      "execution_count": null,
      "metadata": {
        "id": "LVms1r24ZdFi"
      },
      "outputs": [],
      "source": [
        "# インストール\n",
        "!pip install japanize-matplotlib"
      ]
    },
    {
      "cell_type": "markdown",
      "source": [
        "以下のコードでは、\n",
        "\n",
        "import seaborn as sns\n",
        "\n",
        "とすることで、sns. で始める命令でグラフ等を書くことができるようになる。"
      ],
      "metadata": {
        "id": "UwAe2rPGRy2X"
      }
    },
    {
      "cell_type": "code",
      "execution_count": null,
      "metadata": {
        "id": "rV9mAe6M6wQX"
      },
      "outputs": [],
      "source": [
        "# モジュールの読み込み\n",
        "import numpy as np\n",
        "import pandas as pd\n",
        "import matplotlib.pyplot as plt\n",
        "import japanize_matplotlib\n",
        "import seaborn as sns"
      ]
    },
    {
      "cell_type": "markdown",
      "source": [
        "# データをファイルから読み込む\n",
        "\n",
        "前回使用したエクセルファイルを使います。\n",
        "\n",
        "**file_path の部分を各自のディレクトリーに合わせて変更すること。\n",
        "また、マウント操作も行うこと。**\n"
      ],
      "metadata": {
        "id": "p9PmCg4E75Et"
      }
    },
    {
      "cell_type": "code",
      "source": [
        "# 読み込むファイルを指定する\n",
        "file_path = '/content/drive/MyDrive/周南公立大学/講義/データマイニング/データ/customer_data.xlsx'\n",
        "\n",
        "# 今回は、df という変数に読み込むことにする\n",
        "df = pd.read_excel(file_path)"
      ],
      "metadata": {
        "id": "jFePfbYKVx8o"
      },
      "execution_count": null,
      "outputs": []
    },
    {
      "cell_type": "code",
      "source": [
        "df.info()"
      ],
      "metadata": {
        "id": "dQsh8HTZHBxx"
      },
      "execution_count": null,
      "outputs": []
    },
    {
      "cell_type": "markdown",
      "source": [
        "データのクレンジングを行う。\n",
        "\n",
        "以下のコードでは、\n",
        "inplace=True を付けて drop を実行することで、dfの内容を変更している。\n"
      ],
      "metadata": {
        "id": "GpZ80vMdQxuT"
      }
    },
    {
      "cell_type": "code",
      "source": [
        "# 欠損値のあるレコードを削除\n",
        "df.dropna(inplace=True)\n",
        "\n",
        "# 外れ値の削除\n",
        "indices_to_drop = df[(df['年齢'] >= 90)].index\n",
        "\n",
        "# 指定したインデックスのレコードを削除\n",
        "df.drop(indices_to_drop, inplace=True)\n",
        "\n",
        "df.shape"
      ],
      "metadata": {
        "id": "nXgLDNv8XOWY"
      },
      "execution_count": null,
      "outputs": []
    },
    {
      "cell_type": "markdown",
      "source": [
        "欠損値を処理した結果、データ全体でレコード件数は488件、項目数は9個であることが分かる。"
      ],
      "metadata": {
        "id": "dNzZ3n0Qcvnx"
      }
    },
    {
      "cell_type": "markdown",
      "source": [
        "# レコード件数の可視化\n",
        "\n",
        "countplot を使うことで、カテゴリ項目で分類した\n",
        "レコード件数を可視化することが可能である。\n",
        "分類したいカテゴリ項目を\n",
        "\n",
        "x='項目名'\n",
        "\n",
        "として指定する。"
      ],
      "metadata": {
        "id": "JH6YLzpF_ce2"
      }
    },
    {
      "cell_type": "markdown",
      "source": [
        "例えば、職業別のレコード数を可視化するのであれば、"
      ],
      "metadata": {
        "id": "IWkOW0tfdEpV"
      }
    },
    {
      "cell_type": "code",
      "source": [
        "# 職業別にレコード件数をグラフにする\n",
        "sns.countplot(x='職業', data=df)"
      ],
      "metadata": {
        "id": "B3Fj30jxSMHD"
      },
      "execution_count": null,
      "outputs": []
    },
    {
      "cell_type": "markdown",
      "source": [
        "タイトルや縦軸、横軸に説明を加えることが可能。"
      ],
      "metadata": {
        "id": "ZtHmpOwUSTRj"
      }
    },
    {
      "cell_type": "code",
      "source": [
        "# 職業別にレコード件数をグラフにする\n",
        "sns.countplot(x='職業', data=df)\n",
        "plt.title('職業別の人数')\n",
        "plt.xlabel('職業')\n",
        "plt.ylabel('人数')\n",
        "plt.show()"
      ],
      "metadata": {
        "id": "tEphQ5Vs_bRR"
      },
      "execution_count": null,
      "outputs": []
    },
    {
      "cell_type": "code",
      "source": [
        "# y='項目名'とすることで横長のグラフにもできる\n",
        "sns.countplot(y='職業', data=df)\n",
        "plt.title('職業別の人数')\n",
        "plt.ylabel('職業')\n",
        "plt.xlabel('人数')\n",
        "plt.show()"
      ],
      "metadata": {
        "id": "Kxn9I3TRAnWg"
      },
      "execution_count": null,
      "outputs": []
    },
    {
      "cell_type": "code",
      "source": [
        "# hue で指定した項目でカテゴリ分けして表示する\n",
        "# hue にはカテゴリ型の変数を指定する\n",
        "sns.countplot(x='職業', hue='性別', data=df)\n",
        "plt.title('職業別の人数')\n",
        "plt.xlabel('職業')\n",
        "plt.ylabel('人数')\n",
        "plt.show()"
      ],
      "metadata": {
        "id": "XebUVtbDA5yx"
      },
      "execution_count": null,
      "outputs": []
    },
    {
      "cell_type": "code",
      "source": [
        "# palette で色を指定できる\n",
        "sns.countplot(x='職業', hue='性別', data=df, palette={'男性': 'blue', '女性': 'red'})\n",
        "plt.title('職業別の人数')\n",
        "plt.xlabel('職業')\n",
        "plt.ylabel('人数')\n",
        "plt.show()"
      ],
      "metadata": {
        "id": "HkLrFIHRfc5c"
      },
      "execution_count": null,
      "outputs": []
    },
    {
      "cell_type": "markdown",
      "source": [
        "## 代表的な色\n",
        "* blue\n",
        "* green\n",
        "* red\n",
        "* cyan\n",
        "* magenta\n",
        "* yellow\n",
        "* black\n",
        "* white\n",
        "\n",
        "詳しくは以下を参照  \n",
        "https://matplotlib.org/stable/gallery/color/named_colors.html"
      ],
      "metadata": {
        "id": "1O3Ey6uYhHQ9"
      }
    },
    {
      "cell_type": "markdown",
      "source": [
        "### 表示順序の制御\n",
        "\n",
        "グラフの表示順序を変更することができる。"
      ],
      "metadata": {
        "id": "DNggjVMSVd43"
      }
    },
    {
      "cell_type": "code",
      "source": [
        "# 何も指定しない場合\n",
        "sns.countplot(data=df, x='性別')"
      ],
      "metadata": {
        "id": "t4qalqFEVYyv"
      },
      "execution_count": null,
      "outputs": []
    },
    {
      "cell_type": "markdown",
      "source": [
        "order で順序を指定できる"
      ],
      "metadata": {
        "id": "tJoZg0IJV1js"
      }
    },
    {
      "cell_type": "code",
      "source": [
        "sns.countplot(data=df, x='性別', order=['女性', '男性'])"
      ],
      "metadata": {
        "id": "pFgS6hvRVsdO"
      },
      "execution_count": null,
      "outputs": []
    },
    {
      "cell_type": "code",
      "source": [
        "# さらに、hue の表示順も変更できる\n",
        "sns.countplot(data=df, x='性別', order=['女性', '男性'], hue='職業', hue_order=['学生', '会社員', '公務員', 'その他'])\n",
        "plt.show()"
      ],
      "metadata": {
        "id": "bn6hg_V9BK4Q"
      },
      "execution_count": null,
      "outputs": []
    },
    {
      "cell_type": "markdown",
      "source": [
        "# 棒グラフ\n",
        "\n",
        "数値属性の項目に対して、合計や平均などの集計を行いその結果を表示するためには、\n",
        "\n",
        "barplot\n",
        "\n",
        "を用いる。"
      ],
      "metadata": {
        "id": "xKxgbW0MlmgT"
      }
    },
    {
      "cell_type": "code",
      "source": [
        "# 以下のコードを実行してデータフレームを作成する。\n",
        "fruits = pd.DataFrame(\n",
        "    data={'商品': ['リンゴ', 'みかん', 'スイカ', 'バナナ'],\n",
        "          '金額': [100, 50, 700, 200]})"
      ],
      "metadata": {
        "id": "Q84wHRP4PhMc"
      },
      "execution_count": null,
      "outputs": []
    },
    {
      "cell_type": "code",
      "source": [
        "fruits"
      ],
      "metadata": {
        "id": "YQ3YjTJkPuX8"
      },
      "execution_count": null,
      "outputs": []
    },
    {
      "cell_type": "markdown",
      "source": [
        "横軸にしたい項目を x 、縦軸にしたい項目を y に指定する。\n",
        "項目名はクオーテーションする必要がある。"
      ],
      "metadata": {
        "id": "KbVNHmhibD00"
      }
    },
    {
      "cell_type": "code",
      "source": [
        "# 横軸を商品、縦軸を金額にする場合\n",
        "sns.barplot(x='商品', y='金額', data = fruits)\n",
        "plt.title('商品の金額')\n",
        "plt.xlabel('商品')\n",
        "plt.ylabel('金額（円）')\n",
        "plt.show()"
      ],
      "metadata": {
        "id": "dZWHr2p7P1mf"
      },
      "execution_count": null,
      "outputs": []
    },
    {
      "cell_type": "code",
      "source": [
        "# 縦軸と横軸を入れ替えることもできる。\n",
        "sns.barplot(y='商品', x='金額', data = fruits)\n",
        "plt.title('商品の金額')\n",
        "plt.ylabel('商品')\n",
        "plt.xlabel('金額（円）')\n",
        "plt.show()"
      ],
      "metadata": {
        "id": "U1nHkSUvQE_F"
      },
      "execution_count": null,
      "outputs": []
    },
    {
      "cell_type": "markdown",
      "source": [
        "データを以下のように変更する。「バナナ」のレコードが２つある場合。"
      ],
      "metadata": {
        "id": "6Ue-rjkOcUkG"
      }
    },
    {
      "cell_type": "code",
      "source": [
        "fruits = pd.DataFrame(\n",
        "    data={'商品': ['リンゴ', 'みかん', 'スイカ', 'バナナ', 'バナナ'],\n",
        "          '金額': [100, 50, 700, 200, 250]})\n",
        "fruits"
      ],
      "metadata": {
        "id": "YeJ9hAOGb6rT"
      },
      "execution_count": null,
      "outputs": []
    },
    {
      "cell_type": "code",
      "source": [
        "# 自動的に平均が計算さる\n",
        "# 縦の棒は95%信頼区間\n",
        "sns.barplot(x = '商品', y='金額', data = fruits)\n",
        "plt.show()"
      ],
      "metadata": {
        "id": "gr1_O7hPRxTv"
      },
      "execution_count": null,
      "outputs": []
    },
    {
      "cell_type": "markdown",
      "source": [
        "\n",
        "\n",
        "---\n",
        "\n",
        "\n",
        "\n",
        "---\n",
        "\n"
      ],
      "metadata": {
        "id": "T8fsMb1mwmyF"
      }
    },
    {
      "cell_type": "markdown",
      "source": [
        "以降は、customer_data.xls のデータを使うため、再度読み込みを行いクレンジングも実行する。"
      ],
      "metadata": {
        "id": "FpA6aSRKwua-"
      }
    },
    {
      "cell_type": "code",
      "source": [
        "# df という変数に読み込む。\n",
        "df = pd.read_excel(file_path)\n",
        "\n",
        "# 欠損値のあるレコードを削除\n",
        "df.dropna(inplace=True)\n",
        "\n",
        "# 外れ値の削除\n",
        "indices_to_drop = df[(df['年齢'] >= 90)].index\n",
        "\n",
        "# 指定したインデックスのレコードを削除\n",
        "df.drop(indices_to_drop, inplace=True)"
      ],
      "metadata": {
        "id": "7eiBFhyEYU4b"
      },
      "execution_count": null,
      "outputs": []
    },
    {
      "cell_type": "code",
      "source": [
        "df.head()"
      ],
      "metadata": {
        "id": "eZtdACGHSUce"
      },
      "execution_count": null,
      "outputs": []
    },
    {
      "cell_type": "markdown",
      "source": [
        "### 例）調べたいこと\n",
        "\n",
        "Aの利用回数は男女で異なるのか？男性の平均と女性の平均を可視化する。"
      ],
      "metadata": {
        "id": "KIuOFvuNkP-n"
      }
    },
    {
      "cell_type": "code",
      "source": [
        "# 男女別に、Aの利用回数を平均し可視化する\n",
        "# 95%信頼区間が表示される。\n",
        "sns.barplot(x='性別', y='Aの利用回数', data=df, estimator=np.mean)\n",
        "plt.title('男女別のAの平均利用回数')\n",
        "plt.xlabel('性別')\n",
        "plt.ylabel('回数')\n",
        "plt.show()"
      ],
      "metadata": {
        "id": "2OnOYkK4i4-e"
      },
      "execution_count": null,
      "outputs": []
    },
    {
      "cell_type": "markdown",
      "source": [
        "estimator=np.mean\n",
        "の部分を省略すると平均値を意味する。\n",
        "\n",
        "集計関数 | 意味\n",
        "-- | --\n",
        "np.mean | 平均\n",
        "np.median | 中央値\n",
        "np.sum  | 合計\n"
      ],
      "metadata": {
        "id": "dOZa3wF_lwGx"
      }
    },
    {
      "cell_type": "code",
      "source": [
        "# 棒グラフを描画\n",
        "# estimator=np.mean の部分を省略しても自動的に平均が計算れる\n",
        "sns.barplot(x='性別', y='年収', data=df)\n",
        "plt.title('男女別の平均年収')\n",
        "plt.xlabel('性別')\n",
        "plt.ylabel('金額（万円）')\n",
        "plt.show()"
      ],
      "metadata": {
        "id": "-fYb5VG8mDj_"
      },
      "execution_count": null,
      "outputs": []
    },
    {
      "cell_type": "code",
      "source": [
        "sns.barplot(x='職業', y='Aの利用回数', data = df)"
      ],
      "metadata": {
        "id": "WatLOD3AMBoT"
      },
      "execution_count": null,
      "outputs": []
    },
    {
      "cell_type": "code",
      "source": [
        "grouped = df[['職業', 'Aの利用回数', 'Bの利用回数']].groupby(['職業']).mean().reset_index()\n",
        "grouped"
      ],
      "metadata": {
        "id": "kikNXnohPMSD"
      },
      "execution_count": null,
      "outputs": []
    },
    {
      "cell_type": "code",
      "source": [
        "grouped = df[['職業', 'Aの利用回数', 'Bの利用回数']].groupby(['職業']).mean().reset_index()\n",
        "sns.barplot(x='職業', y='Aの利用回数', order=['学生', '会社員','公務員','その他'], data = grouped)\n",
        "\n",
        "plt.title('職業別のAの平均利用回数')\n",
        "plt.xlabel('職業')\n",
        "plt.ylabel('Aの利用回数')\n",
        "plt.show()"
      ],
      "metadata": {
        "id": "gUgkjvipBxdY"
      },
      "execution_count": null,
      "outputs": []
    },
    {
      "cell_type": "markdown",
      "source": [
        "#ヒストグラム\n",
        "\n",
        "数値型の項目で、区間毎の件数を可視化したものを**ヒストグラム**と呼ぶ。\n",
        "\n",
        "作成には、histplot を用いる。"
      ],
      "metadata": {
        "id": "sxoWd8PR-1EP"
      }
    },
    {
      "cell_type": "code",
      "source": [
        "sns.histplot( df['年齢'], binwidth=10)"
      ],
      "metadata": {
        "id": "Nco3wCtKryxd"
      },
      "execution_count": null,
      "outputs": []
    },
    {
      "cell_type": "markdown",
      "source": [
        " binwidth=10 としたことで、年齢を10歳毎に分けて（**階級**と呼ぶ）\n",
        " 表示することができる。\n"
      ],
      "metadata": {
        "id": "8-v01W4csAN4"
      }
    },
    {
      "cell_type": "code",
      "source": [
        "sns.histplot( df['年齢'], bins=10)"
      ],
      "metadata": {
        "id": "QDUgqbeksbj0"
      },
      "execution_count": null,
      "outputs": []
    },
    {
      "cell_type": "markdown",
      "source": [
        "bins=10 とすることで、年齢を10個に区分け（**階級**と呼ぶ）することを意味している。"
      ],
      "metadata": {
        "id": "nO9dWHtaqh0r"
      }
    },
    {
      "cell_type": "code",
      "source": [
        "# 年齢のデータを取得\n",
        "# ages = df['年齢']\n",
        "# ヒストグラムを描画\n",
        "sns.histplot( df['年齢'], bins=10, kde=True)\n",
        "plt.title('年齢の分布')\n",
        "plt.xlabel('年齢')\n",
        "plt.ylabel('人数')\n",
        "plt.show()"
      ],
      "metadata": {
        "id": "9LEqpwuUo5Sb"
      },
      "execution_count": null,
      "outputs": []
    },
    {
      "cell_type": "code",
      "source": [
        "# ヒストグラムを描画\n",
        "sns.histplot( df['スマホ利用時間'])\n",
        "plt.title('１日当たりのスマホ利用時間の分布')\n",
        "plt.xlabel('時間/日')\n",
        "plt.ylabel('人数')\n",
        "plt.show()"
      ],
      "metadata": {
        "id": "63G3ma24sPVB"
      },
      "execution_count": null,
      "outputs": []
    },
    {
      "cell_type": "markdown",
      "source": [
        "hue を指定して分類もできる。2つのヒストグラムを重ねて表示する場合。"
      ],
      "metadata": {
        "id": "lxCv7UJLtD3U"
      }
    },
    {
      "cell_type": "code",
      "source": [
        "# ヒストグラムを描画\n",
        "sns.histplot( data=df, x='スマホ利用時間', hue = '性別')\n",
        "plt.title('１日当たりのスマホ利用時間の分布')\n",
        "plt.xlabel('時間/日')\n",
        "plt.ylabel('人数')\n",
        "plt.show()"
      ],
      "metadata": {
        "id": "CB5wz9sj32Jr"
      },
      "execution_count": null,
      "outputs": []
    },
    {
      "cell_type": "markdown",
      "source": [
        "hue を指定して、multiple='stack' とすると分類で積み上げることになる。"
      ],
      "metadata": {
        "id": "L-I3uJ-CtQC3"
      }
    },
    {
      "cell_type": "code",
      "source": [
        "# ヒストグラムを描画\n",
        "sns.histplot( data=df, x='スマホ利用時間', hue = '性別', multiple=\"stack\")\n",
        "plt.title('１日当たりのスマホ利用時間の分布')\n",
        "plt.xlabel('時間/日')\n",
        "plt.ylabel('人数')\n",
        "plt.show()"
      ],
      "metadata": {
        "id": "3eWDVDlesx-c"
      },
      "execution_count": null,
      "outputs": []
    },
    {
      "cell_type": "code",
      "source": [
        "# KDE Plot\n",
        "sns.kdeplot(data = df, x = 'スマホ利用時間')\n",
        "plt.title('１日当たりのスマホ利用時間の分布')\n",
        "plt.xlabel('時間/日')\n",
        "plt.ylabel('密度')\n",
        "plt.show()"
      ],
      "metadata": {
        "id": "rsSYxezS2RO7"
      },
      "execution_count": null,
      "outputs": []
    },
    {
      "cell_type": "code",
      "source": [
        "sns.kdeplot(data = df, x = 'スマホ利用時間', hue = '性別')\n",
        "plt.title('スマホ利用時間の分布')\n",
        "plt.xlabel('時間/日')\n",
        "plt.ylabel('密度')\n",
        "plt.show()"
      ],
      "metadata": {
        "id": "0lcYJC-M3NVK"
      },
      "execution_count": null,
      "outputs": []
    },
    {
      "cell_type": "markdown",
      "source": [
        "# 箱ひげ図\n",
        "boxplot"
      ],
      "metadata": {
        "id": "uUcdYugUh8Tn"
      }
    },
    {
      "cell_type": "markdown",
      "source": [
        "boxplot では、一つの図で\n",
        "* 最大値\n",
        "* 第三四分位\n",
        "* 中央値\n",
        "* 第一四分位\n",
        "* 最小値\n",
        "\n",
        "を可視化している。\n"
      ],
      "metadata": {
        "id": "LMDNu-YpXjrJ"
      }
    },
    {
      "cell_type": "code",
      "source": [
        "#sns.catplotで箱ひげ図を描く\n",
        "sns.boxplot(y='年収', data=df)\n",
        "plt.show()"
      ],
      "metadata": {
        "id": "Ra3RD-U-InXn"
      },
      "execution_count": null,
      "outputs": []
    },
    {
      "cell_type": "markdown",
      "source": [
        "最大と最小が棒線、第三四分位から第一四分位の間で箱になっている。\n",
        "また、以下の基準を超えるレコードを外れ値と判断して、黒いひし形で表示している\n",
        "\n",
        "* 第三四分位＋「箱の長さ」×1.5 より大\n",
        "* 第一四分位－「箱の長さ」×1.5 より小第三四分位から第一四分位の間で箱になっている。"
      ],
      "metadata": {
        "id": "Sebkx4XpKZGR"
      }
    },
    {
      "cell_type": "markdown",
      "source": [
        "向きを変えることも可能"
      ],
      "metadata": {
        "id": "W_Ez5xWWKyMu"
      }
    },
    {
      "cell_type": "code",
      "source": [
        "#sns.catplotで箱ひげ図を描く\n",
        "sns.boxplot(x='年収', data=df)\n",
        "plt.show()"
      ],
      "metadata": {
        "id": "mwNMic4AIuEq"
      },
      "execution_count": null,
      "outputs": []
    },
    {
      "cell_type": "markdown",
      "source": [
        "カテゴリ項目で分類して表示も可能"
      ],
      "metadata": {
        "id": "Fsd7GX6WI2cV"
      }
    },
    {
      "cell_type": "code",
      "source": [
        "#sns.catplotで箱ひげ図を描く\n",
        "sns.boxplot(x='性別', y='年収', data=df)\n",
        "plt.show()\n"
      ],
      "metadata": {
        "id": "_bj-LeypIOfK"
      },
      "execution_count": null,
      "outputs": []
    },
    {
      "cell_type": "markdown",
      "source": [
        "# 散布図の表示\n",
        "\n",
        "2つの数値型の項目をx軸とy軸に設定して、各レコードをプロットしたものを**散布図**と呼ぶ。"
      ],
      "metadata": {
        "id": "Sb1FRB6UcD7L"
      }
    },
    {
      "cell_type": "code",
      "source": [
        "# 年齢と収入の関係\n",
        "sns.scatterplot(data=df, x='年齢', y='年収')"
      ],
      "metadata": {
        "id": "POD5d1VKYwWE"
      },
      "execution_count": null,
      "outputs": []
    },
    {
      "cell_type": "code",
      "source": [
        "df.shape"
      ],
      "metadata": {
        "id": "nHjAGDdpuPSD"
      },
      "execution_count": null,
      "outputs": []
    },
    {
      "cell_type": "markdown",
      "source": [
        "データにはレコードが488あるので、上の図には点が488個プロットされていることになる。（点同士が重なっている部分もある）"
      ],
      "metadata": {
        "id": "YH2azQ42uNB6"
      }
    },
    {
      "cell_type": "code",
      "source": [
        "# 性別で色分けする\n",
        "sns.scatterplot(data=df, x='年齢', y='年収', hue='性別', palette={'男性': 'blue', '女性': 'red'})\n",
        "plt.title('年齢と年収の関係')\n",
        "plt.show()"
      ],
      "metadata": {
        "id": "J_qnxMP2bp2u"
      },
      "execution_count": null,
      "outputs": []
    },
    {
      "cell_type": "markdown",
      "source": [
        "# 同時分布図の表示"
      ],
      "metadata": {
        "id": "kztB4B77BebP"
      }
    },
    {
      "cell_type": "code",
      "source": [
        "sns.jointplot(x='Aの利用回数', y='Bの利用回数', data=df)\n",
        "plt.show()"
      ],
      "metadata": {
        "id": "N01fCM3WA4hb"
      },
      "execution_count": null,
      "outputs": []
    },
    {
      "cell_type": "code",
      "source": [
        "sns.jointplot(x='Aの利用回数', y='Bの利用回数', data=df, hue='年齢')\n",
        "plt.show()"
      ],
      "metadata": {
        "id": "u4n-cQtYGp8v"
      },
      "execution_count": null,
      "outputs": []
    },
    {
      "cell_type": "code",
      "source": [
        "sns.relplot(x='Aの利用回数', y='Bの利用回数', data=df, hue='職業', size='年収')"
      ],
      "metadata": {
        "id": "dnzaSbnMaZGw"
      },
      "execution_count": null,
      "outputs": []
    },
    {
      "cell_type": "markdown",
      "source": [
        "# 散布図行列表示\n",
        "\n",
        "項目毎にヒストグラムと、2つの項目の組み合わせで散布図を一度の命令で作成することが可能である。作成する図を**散布図行列**と呼び、pairplot で作成できる。"
      ],
      "metadata": {
        "id": "yijzDJ3pw22m"
      }
    },
    {
      "cell_type": "code",
      "source": [
        "import matplotlib.pyplot as plt\n",
        "import japanize_matplotlib\n",
        "import seaborn as sns\n",
        "sns.pairplot( data=df.iloc[:,0:7], hue='性別', palette={'男性': 'blue', '女性': 'red'})\n",
        "#plt.show()"
      ],
      "metadata": {
        "id": "ZJK5j5ZBZWWd"
      },
      "execution_count": null,
      "outputs": []
    },
    {
      "cell_type": "markdown",
      "source": [
        "# スタイルの設定"
      ],
      "metadata": {
        "id": "4ihB_c3xu4c3"
      }
    },
    {
      "cell_type": "markdown",
      "source": [
        "set_style を使って、表示のスタイルを変更できる。以下のスタイルが設定可能である。\n",
        "\n",
        "スタイル | 説明\n",
        "--       | --\n",
        "darkgrid | 背景暗、グリッドあり\n",
        "dark | 背景暗、グリッドなし\n",
        "whitegrid | 背景白、グリッドあり\n",
        "white | 背景白、グリッドなし\n",
        "ticks | 背景白、軸にのみグリッドあり"
      ],
      "metadata": {
        "id": "c9eADh8jwxQ-"
      }
    },
    {
      "cell_type": "code",
      "source": [
        "# グリッド線を表示する場合は以下を行う\n",
        "sns.set_style('whitegrid')\n",
        "\n",
        "# 性別で色分けする\n",
        "sns.scatterplot(data=df, x='年齢', y='年収', hue='性別', palette={'男性': 'blue', '女性': 'red'})\n",
        "plt.title('年齢と年収の関係')\n",
        "plt.show()"
      ],
      "metadata": {
        "id": "1IVswIeDu36h"
      },
      "execution_count": null,
      "outputs": []
    },
    {
      "cell_type": "markdown",
      "source": [
        "\n",
        "\n",
        "---\n",
        "\n",
        "\n",
        "\n",
        "---\n",
        "\n",
        "\n",
        "\n",
        "---\n",
        "\n"
      ],
      "metadata": {
        "id": "eO5m0-DCba4T"
      }
    },
    {
      "cell_type": "code",
      "source": [
        "import seaborn as sns\n",
        "import matplotlib.pyplot as plt\n",
        "\n",
        "tips = sns.load_dataset(\"tips\")"
      ],
      "metadata": {
        "id": "9IAVgbplbcSG"
      },
      "execution_count": null,
      "outputs": []
    },
    {
      "cell_type": "code",
      "source": [
        "tips.head()"
      ],
      "metadata": {
        "colab": {
          "base_uri": "https://localhost:8080/",
          "height": 206
        },
        "id": "yZVZw-bwfv0H",
        "outputId": "be1adb5f-dc94-4293-d2a0-99994c02f9a6"
      },
      "execution_count": null,
      "outputs": [
        {
          "output_type": "execute_result",
          "data": {
            "text/plain": [
              "   total_bill   tip     sex smoker  day    time  size\n",
              "0       16.99  1.01  Female     No  Sun  Dinner     2\n",
              "1       10.34  1.66    Male     No  Sun  Dinner     3\n",
              "2       21.01  3.50    Male     No  Sun  Dinner     3\n",
              "3       23.68  3.31    Male     No  Sun  Dinner     2\n",
              "4       24.59  3.61  Female     No  Sun  Dinner     4"
            ],
            "text/html": [
              "\n",
              "  <div id=\"df-ef234a3c-a65a-4318-af1b-ad625605ce26\" class=\"colab-df-container\">\n",
              "    <div>\n",
              "<style scoped>\n",
              "    .dataframe tbody tr th:only-of-type {\n",
              "        vertical-align: middle;\n",
              "    }\n",
              "\n",
              "    .dataframe tbody tr th {\n",
              "        vertical-align: top;\n",
              "    }\n",
              "\n",
              "    .dataframe thead th {\n",
              "        text-align: right;\n",
              "    }\n",
              "</style>\n",
              "<table border=\"1\" class=\"dataframe\">\n",
              "  <thead>\n",
              "    <tr style=\"text-align: right;\">\n",
              "      <th></th>\n",
              "      <th>total_bill</th>\n",
              "      <th>tip</th>\n",
              "      <th>sex</th>\n",
              "      <th>smoker</th>\n",
              "      <th>day</th>\n",
              "      <th>time</th>\n",
              "      <th>size</th>\n",
              "    </tr>\n",
              "  </thead>\n",
              "  <tbody>\n",
              "    <tr>\n",
              "      <th>0</th>\n",
              "      <td>16.99</td>\n",
              "      <td>1.01</td>\n",
              "      <td>Female</td>\n",
              "      <td>No</td>\n",
              "      <td>Sun</td>\n",
              "      <td>Dinner</td>\n",
              "      <td>2</td>\n",
              "    </tr>\n",
              "    <tr>\n",
              "      <th>1</th>\n",
              "      <td>10.34</td>\n",
              "      <td>1.66</td>\n",
              "      <td>Male</td>\n",
              "      <td>No</td>\n",
              "      <td>Sun</td>\n",
              "      <td>Dinner</td>\n",
              "      <td>3</td>\n",
              "    </tr>\n",
              "    <tr>\n",
              "      <th>2</th>\n",
              "      <td>21.01</td>\n",
              "      <td>3.50</td>\n",
              "      <td>Male</td>\n",
              "      <td>No</td>\n",
              "      <td>Sun</td>\n",
              "      <td>Dinner</td>\n",
              "      <td>3</td>\n",
              "    </tr>\n",
              "    <tr>\n",
              "      <th>3</th>\n",
              "      <td>23.68</td>\n",
              "      <td>3.31</td>\n",
              "      <td>Male</td>\n",
              "      <td>No</td>\n",
              "      <td>Sun</td>\n",
              "      <td>Dinner</td>\n",
              "      <td>2</td>\n",
              "    </tr>\n",
              "    <tr>\n",
              "      <th>4</th>\n",
              "      <td>24.59</td>\n",
              "      <td>3.61</td>\n",
              "      <td>Female</td>\n",
              "      <td>No</td>\n",
              "      <td>Sun</td>\n",
              "      <td>Dinner</td>\n",
              "      <td>4</td>\n",
              "    </tr>\n",
              "  </tbody>\n",
              "</table>\n",
              "</div>\n",
              "    <div class=\"colab-df-buttons\">\n",
              "\n",
              "  <div class=\"colab-df-container\">\n",
              "    <button class=\"colab-df-convert\" onclick=\"convertToInteractive('df-ef234a3c-a65a-4318-af1b-ad625605ce26')\"\n",
              "            title=\"Convert this dataframe to an interactive table.\"\n",
              "            style=\"display:none;\">\n",
              "\n",
              "  <svg xmlns=\"http://www.w3.org/2000/svg\" height=\"24px\" viewBox=\"0 -960 960 960\">\n",
              "    <path d=\"M120-120v-720h720v720H120Zm60-500h600v-160H180v160Zm220 220h160v-160H400v160Zm0 220h160v-160H400v160ZM180-400h160v-160H180v160Zm440 0h160v-160H620v160ZM180-180h160v-160H180v160Zm440 0h160v-160H620v160Z\"/>\n",
              "  </svg>\n",
              "    </button>\n",
              "\n",
              "  <style>\n",
              "    .colab-df-container {\n",
              "      display:flex;\n",
              "      gap: 12px;\n",
              "    }\n",
              "\n",
              "    .colab-df-convert {\n",
              "      background-color: #E8F0FE;\n",
              "      border: none;\n",
              "      border-radius: 50%;\n",
              "      cursor: pointer;\n",
              "      display: none;\n",
              "      fill: #1967D2;\n",
              "      height: 32px;\n",
              "      padding: 0 0 0 0;\n",
              "      width: 32px;\n",
              "    }\n",
              "\n",
              "    .colab-df-convert:hover {\n",
              "      background-color: #E2EBFA;\n",
              "      box-shadow: 0px 1px 2px rgba(60, 64, 67, 0.3), 0px 1px 3px 1px rgba(60, 64, 67, 0.15);\n",
              "      fill: #174EA6;\n",
              "    }\n",
              "\n",
              "    .colab-df-buttons div {\n",
              "      margin-bottom: 4px;\n",
              "    }\n",
              "\n",
              "    [theme=dark] .colab-df-convert {\n",
              "      background-color: #3B4455;\n",
              "      fill: #D2E3FC;\n",
              "    }\n",
              "\n",
              "    [theme=dark] .colab-df-convert:hover {\n",
              "      background-color: #434B5C;\n",
              "      box-shadow: 0px 1px 3px 1px rgba(0, 0, 0, 0.15);\n",
              "      filter: drop-shadow(0px 1px 2px rgba(0, 0, 0, 0.3));\n",
              "      fill: #FFFFFF;\n",
              "    }\n",
              "  </style>\n",
              "\n",
              "    <script>\n",
              "      const buttonEl =\n",
              "        document.querySelector('#df-ef234a3c-a65a-4318-af1b-ad625605ce26 button.colab-df-convert');\n",
              "      buttonEl.style.display =\n",
              "        google.colab.kernel.accessAllowed ? 'block' : 'none';\n",
              "\n",
              "      async function convertToInteractive(key) {\n",
              "        const element = document.querySelector('#df-ef234a3c-a65a-4318-af1b-ad625605ce26');\n",
              "        const dataTable =\n",
              "          await google.colab.kernel.invokeFunction('convertToInteractive',\n",
              "                                                    [key], {});\n",
              "        if (!dataTable) return;\n",
              "\n",
              "        const docLinkHtml = 'Like what you see? Visit the ' +\n",
              "          '<a target=\"_blank\" href=https://colab.research.google.com/notebooks/data_table.ipynb>data table notebook</a>'\n",
              "          + ' to learn more about interactive tables.';\n",
              "        element.innerHTML = '';\n",
              "        dataTable['output_type'] = 'display_data';\n",
              "        await google.colab.output.renderOutput(dataTable, element);\n",
              "        const docLink = document.createElement('div');\n",
              "        docLink.innerHTML = docLinkHtml;\n",
              "        element.appendChild(docLink);\n",
              "      }\n",
              "    </script>\n",
              "  </div>\n",
              "\n",
              "\n",
              "<div id=\"df-61f2a9f8-2aff-4d17-8777-c841f579a920\">\n",
              "  <button class=\"colab-df-quickchart\" onclick=\"quickchart('df-61f2a9f8-2aff-4d17-8777-c841f579a920')\"\n",
              "            title=\"Suggest charts.\"\n",
              "            style=\"display:none;\">\n",
              "\n",
              "<svg xmlns=\"http://www.w3.org/2000/svg\" height=\"24px\"viewBox=\"0 0 24 24\"\n",
              "     width=\"24px\">\n",
              "    <g>\n",
              "        <path d=\"M19 3H5c-1.1 0-2 .9-2 2v14c0 1.1.9 2 2 2h14c1.1 0 2-.9 2-2V5c0-1.1-.9-2-2-2zM9 17H7v-7h2v7zm4 0h-2V7h2v10zm4 0h-2v-4h2v4z\"/>\n",
              "    </g>\n",
              "</svg>\n",
              "  </button>\n",
              "\n",
              "<style>\n",
              "  .colab-df-quickchart {\n",
              "      --bg-color: #E8F0FE;\n",
              "      --fill-color: #1967D2;\n",
              "      --hover-bg-color: #E2EBFA;\n",
              "      --hover-fill-color: #174EA6;\n",
              "      --disabled-fill-color: #AAA;\n",
              "      --disabled-bg-color: #DDD;\n",
              "  }\n",
              "\n",
              "  [theme=dark] .colab-df-quickchart {\n",
              "      --bg-color: #3B4455;\n",
              "      --fill-color: #D2E3FC;\n",
              "      --hover-bg-color: #434B5C;\n",
              "      --hover-fill-color: #FFFFFF;\n",
              "      --disabled-bg-color: #3B4455;\n",
              "      --disabled-fill-color: #666;\n",
              "  }\n",
              "\n",
              "  .colab-df-quickchart {\n",
              "    background-color: var(--bg-color);\n",
              "    border: none;\n",
              "    border-radius: 50%;\n",
              "    cursor: pointer;\n",
              "    display: none;\n",
              "    fill: var(--fill-color);\n",
              "    height: 32px;\n",
              "    padding: 0;\n",
              "    width: 32px;\n",
              "  }\n",
              "\n",
              "  .colab-df-quickchart:hover {\n",
              "    background-color: var(--hover-bg-color);\n",
              "    box-shadow: 0 1px 2px rgba(60, 64, 67, 0.3), 0 1px 3px 1px rgba(60, 64, 67, 0.15);\n",
              "    fill: var(--button-hover-fill-color);\n",
              "  }\n",
              "\n",
              "  .colab-df-quickchart-complete:disabled,\n",
              "  .colab-df-quickchart-complete:disabled:hover {\n",
              "    background-color: var(--disabled-bg-color);\n",
              "    fill: var(--disabled-fill-color);\n",
              "    box-shadow: none;\n",
              "  }\n",
              "\n",
              "  .colab-df-spinner {\n",
              "    border: 2px solid var(--fill-color);\n",
              "    border-color: transparent;\n",
              "    border-bottom-color: var(--fill-color);\n",
              "    animation:\n",
              "      spin 1s steps(1) infinite;\n",
              "  }\n",
              "\n",
              "  @keyframes spin {\n",
              "    0% {\n",
              "      border-color: transparent;\n",
              "      border-bottom-color: var(--fill-color);\n",
              "      border-left-color: var(--fill-color);\n",
              "    }\n",
              "    20% {\n",
              "      border-color: transparent;\n",
              "      border-left-color: var(--fill-color);\n",
              "      border-top-color: var(--fill-color);\n",
              "    }\n",
              "    30% {\n",
              "      border-color: transparent;\n",
              "      border-left-color: var(--fill-color);\n",
              "      border-top-color: var(--fill-color);\n",
              "      border-right-color: var(--fill-color);\n",
              "    }\n",
              "    40% {\n",
              "      border-color: transparent;\n",
              "      border-right-color: var(--fill-color);\n",
              "      border-top-color: var(--fill-color);\n",
              "    }\n",
              "    60% {\n",
              "      border-color: transparent;\n",
              "      border-right-color: var(--fill-color);\n",
              "    }\n",
              "    80% {\n",
              "      border-color: transparent;\n",
              "      border-right-color: var(--fill-color);\n",
              "      border-bottom-color: var(--fill-color);\n",
              "    }\n",
              "    90% {\n",
              "      border-color: transparent;\n",
              "      border-bottom-color: var(--fill-color);\n",
              "    }\n",
              "  }\n",
              "</style>\n",
              "\n",
              "  <script>\n",
              "    async function quickchart(key) {\n",
              "      const quickchartButtonEl =\n",
              "        document.querySelector('#' + key + ' button');\n",
              "      quickchartButtonEl.disabled = true;  // To prevent multiple clicks.\n",
              "      quickchartButtonEl.classList.add('colab-df-spinner');\n",
              "      try {\n",
              "        const charts = await google.colab.kernel.invokeFunction(\n",
              "            'suggestCharts', [key], {});\n",
              "      } catch (error) {\n",
              "        console.error('Error during call to suggestCharts:', error);\n",
              "      }\n",
              "      quickchartButtonEl.classList.remove('colab-df-spinner');\n",
              "      quickchartButtonEl.classList.add('colab-df-quickchart-complete');\n",
              "    }\n",
              "    (() => {\n",
              "      let quickchartButtonEl =\n",
              "        document.querySelector('#df-61f2a9f8-2aff-4d17-8777-c841f579a920 button');\n",
              "      quickchartButtonEl.style.display =\n",
              "        google.colab.kernel.accessAllowed ? 'block' : 'none';\n",
              "    })();\n",
              "  </script>\n",
              "</div>\n",
              "    </div>\n",
              "  </div>\n"
            ]
          },
          "metadata": {},
          "execution_count": 41
        }
      ]
    },
    {
      "cell_type": "code",
      "source": [
        "tips.info()"
      ],
      "metadata": {
        "id": "q9tu0T10fr3E"
      },
      "execution_count": null,
      "outputs": []
    },
    {
      "cell_type": "code",
      "source": [
        "sns.barplot(x=\"day\", y=\"total_bill\", data=tips)"
      ],
      "metadata": {
        "id": "xYSamJ9oJnmW"
      },
      "execution_count": null,
      "outputs": []
    },
    {
      "cell_type": "code",
      "source": [],
      "metadata": {
        "id": "YtN_MbTlfza5"
      },
      "execution_count": null,
      "outputs": []
    }
  ]
}