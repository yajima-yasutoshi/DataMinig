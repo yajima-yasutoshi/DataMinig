{
  "nbformat": 4,
  "nbformat_minor": 0,
  "metadata": {
    "colab": {
      "provenance": [],
      "collapsed_sections": [
        "rXKyB4WX6TMo",
        "ALpz2K-GYwzo",
        "FYompWKaZFvL"
      ],
      "mount_file_id": "16zMMwQnEIMt7YkuCpbH6nu7HhwGSiasM",
      "authorship_tag": "ABX9TyOjuYipAK5DROr49wyoAFOC",
      "include_colab_link": true
    },
    "kernelspec": {
      "name": "python3",
      "display_name": "Python 3"
    },
    "language_info": {
      "name": "python"
    }
  },
  "cells": [
    {
      "cell_type": "markdown",
      "metadata": {
        "id": "view-in-github",
        "colab_type": "text"
      },
      "source": [
        "<a href=\"https://colab.research.google.com/github/yajima-yasutoshi/DataMinig/blob/main/20231004/GoogleColab%E3%81%AE%E4%BD%BF%E3%81%84%E6%96%B9.ipynb\" target=\"_parent\"><img src=\"https://colab.research.google.com/assets/colab-badge.svg\" alt=\"Open In Colab\"/></a>"
      ]
    },
    {
      "cell_type": "markdown",
      "source": [
        "# データマイニング第2回（2023/10/04）"
      ],
      "metadata": {
        "id": "IjD4xP03KHYS"
      }
    },
    {
      "cell_type": "markdown",
      "source": [
        "本日の講義の資料\n",
        "以下のサイト\n",
        "\n",
        "https://github.com/yajima-yasutoshi/DataMinig/tree/main/20231004\n"
      ],
      "metadata": {
        "id": "zW6aOCWL7IKT"
      }
    },
    {
      "cell_type": "markdown",
      "source": [
        "# Google Colab の始め方"
      ],
      "metadata": {
        "id": "Fu_M_pfFObLc"
      }
    },
    {
      "cell_type": "markdown",
      "source": [
        "## Google Colaboratory とは何か\n",
        "\n",
        "* ブラウザ（Chrome）を使い、Pythonプログラムの開発と実行ができる環境。\n",
        "* Googleアカウント（Gmail）が必要\n",
        "\n",
        "### 主な特徴\n",
        "\n",
        "* AIを実行する環境が既に用意されている（CPUだけでなくGPUも利用できる）\n",
        "* 無料で使える。（複雑なAIを構築するためには有料プランが必要となる場合もある。）\n",
        "* プログラムを**Colabノーブック**に作成し、対話的にPythonが利用\n",
        "* Pythonプログラムや実行結果の共有が簡単\n",
        "* 報告資料などの作成も Colabノートブックで行える\n"
      ],
      "metadata": {
        "id": "fAkTsnPBY0QP"
      }
    },
    {
      "cell_type": "markdown",
      "source": [
        "## 準備\n",
        "1. Googleアカウント（Gmailアカウント）の用意\n",
        "1. Chrome ブラウザを開き、Googleアカウントでログインした状態にする\n",
        "1. 「Google Colaboratory」へアクセス\n",
        " - https://colab.research.google.com/\n",
        "\n",
        "1. 「Googleドライブ」にアクセス\n",
        " - https://drive.google.com/ にアクセスする\n",
        " - マイドライブに中に「Colab Notebooks」が作られていることを確認\n",
        "\n",
        "### Colabノートブック利用の流れ\n",
        "1. Google Drive で、新規 → その他 → Google Colaboratoryを選択し、新規のノートブックを作成される。\n",
        "2. **コードセル**には、Pythonのプログラムを入力し実行が可能\n",
        "2. 説明などは**テキストセル**に書き込むことが可能\n",
        "2. ノートブック名を変更し保存（拡張子は.ipynb となる）\n",
        "2. ファイル → 保存でファイルが保存される"
      ],
      "metadata": {
        "id": "YuredqkxcbR_"
      }
    },
    {
      "cell_type": "markdown",
      "source": [
        "# Google Colab の主な機能"
      ],
      "metadata": {
        "id": "D43sL4ZWOikf"
      }
    },
    {
      "cell_type": "markdown",
      "source": [
        "##セル\n",
        "Colab Notebook には2種類のセルがある。\n",
        "* セルの追加には、**＋コード**、**＋テキスト** のボタンを使う\n",
        "* テキストセルはダブルクリックで再編集が可能。別のセルをクリックすると編集が終了する。\n",
        "* **↑** **↓**で、セルの上下移動が可能\n",
        "* **ゴミ箱マーク** で削除\n",
        "* 歯車のマークで細かな設定が可能"
      ],
      "metadata": {
        "id": "JP46pGB6XZLZ"
      }
    },
    {
      "cell_type": "markdown",
      "source": [
        "### コードセル\n",
        "Pythonコードを入力するためのセル  \n",
        "\n",
        "Pythonコードを入力したセルの左のボタン（三角のマークがある）をクリックすると、セルに書かれたコードが実行される\n",
        "\n",
        "\n",
        "\n",
        "> セルの中に行番号を表示させることができる。\n",
        "> ツール → 設定 → エディター → 行番号にチェックを入れる\n",
        "\n"
      ],
      "metadata": {
        "id": "i6fj-rNiQL--"
      }
    },
    {
      "cell_type": "code",
      "source": [
        "a = 1\n",
        "b = 5\n",
        "print(a + b)"
      ],
      "metadata": {
        "id": "r5yO1JnqPUjT",
        "colab": {
          "base_uri": "https://localhost:8080/"
        },
        "outputId": "c9a5a13a-ec5f-4730-8f14-c117b2d891f4"
      },
      "execution_count": 4,
      "outputs": [
        {
          "output_type": "stream",
          "name": "stdout",
          "text": [
            "6\n"
          ]
        }
      ]
    },
    {
      "cell_type": "markdown",
      "source": [
        "### テキストセル\n",
        "文章や数式などが入力でき、プログラムの説明などを記入するセル。\n",
        "記入には**マークダウン形式**が用いられる。"
      ],
      "metadata": {
        "id": "VDBjAWTJPlOq"
      }
    },
    {
      "cell_type": "markdown",
      "source": [
        "- 箇条書き１\n",
        "- 箇条書き２\n",
        "- 箇条書き３\n",
        "\n",
        "### 見出し\n",
        "## 見出し\n",
        "# 見出し\n",
        "\n",
        "#### スペース2個で改行の例\n",
        "\n",
        "これでは\n",
        "改行されません。\n",
        "\n",
        "これで改行  \n",
        "されます。\n",
        "\n",
        "*Italic* 斜体や\n",
        "\n",
        "**太字** 太字\n",
        "\n"
      ],
      "metadata": {
        "id": "7RU1rNhuUXd2"
      }
    },
    {
      "cell_type": "markdown",
      "source": [
        "### 数式の入力\n",
        "数式の入力は LaTeX形式を使います。\n",
        "$$ y = a x^2 + b$$\n",
        "$$ y = \\frac{1}{x} $$"
      ],
      "metadata": {
        "id": "4hZRtSHLU6VX"
      }
    },
    {
      "cell_type": "markdown",
      "source": [
        "### スクラッチコードセル\n",
        "簡単なコードを試すことができるセル。ノートブックには残したくないが試してみたいコードがある場合に利用する。使い方は、\n",
        "\n",
        "> 挿入 → スクラッチ\n"
      ],
      "metadata": {
        "id": "-e-Jmli_Y2Un"
      }
    },
    {
      "cell_type": "markdown",
      "source": [
        "## 変数の表示\n",
        "左端の {x} をクリックすると、変数の状態が表示される。"
      ],
      "metadata": {
        "id": "vH3xzRaT4C4S"
      }
    },
    {
      "cell_type": "code",
      "source": [
        " l = [1,2,3,4]"
      ],
      "metadata": {
        "id": "0uTA-yEA4utv"
      },
      "execution_count": 10,
      "outputs": []
    },
    {
      "cell_type": "markdown",
      "source": [
        "## セッションの管理\n",
        "\n",
        "同時に複数のノートブックを操作しようとするとエラーになることがある。この場合は、\n",
        "\n",
        "> ランタイム → セッションの管理\n",
        "\n",
        "で起動しているセッションの一覧を表示させ、不要なものを終了させる必要がある。\n",
        "\n",
        "\n",
        "\n",
        "\n",
        "\n"
      ],
      "metadata": {
        "id": "cX-Rx2PxqbcW"
      }
    },
    {
      "cell_type": "markdown",
      "source": [
        "# Python の使い方\n"
      ],
      "metadata": {
        "id": "xR8kT6AEahqy"
      }
    },
    {
      "cell_type": "markdown",
      "source": [
        "## コードセルへの入力\n",
        "1. 「＋コード」をクリックし、何も入力されていないコードセルを作成（追加）し、そこに Python のコード書く\n",
        "\n",
        "2. コードを実行は、shiftを押しながら enter キーを押す。"
      ],
      "metadata": {
        "id": "lXO96RYu4M9u"
      }
    },
    {
      "cell_type": "code",
      "source": [
        "#変数への代入と演算\n",
        "a = 3\n",
        "b = 5\n",
        "c = a - b * 7\n",
        "print(c)"
      ],
      "metadata": {
        "id": "FZ1uF9sp2d1y",
        "colab": {
          "base_uri": "https://localhost:8080/"
        },
        "outputId": "07244eff-380f-4767-e581-0c20cd700068"
      },
      "execution_count": 1,
      "outputs": [
        {
          "output_type": "stream",
          "name": "stdout",
          "text": [
            "-32\n"
          ]
        }
      ]
    },
    {
      "cell_type": "code",
      "source": [
        "# 繰り返し\n",
        "for i in range(3):\n",
        "    print(i, end=\" \")"
      ],
      "metadata": {
        "id": "I-12CDkYrX6u"
      },
      "execution_count": null,
      "outputs": []
    },
    {
      "cell_type": "code",
      "source": [
        "a=range(3)\n",
        "print(*a)"
      ],
      "metadata": {
        "id": "HX17wlJ7rrIK"
      },
      "execution_count": null,
      "outputs": []
    },
    {
      "cell_type": "code",
      "source": [
        "s = input('整数を入力してください : ')\n",
        "n = int(s)\n",
        "\n",
        "if n > 5:\n",
        "    print(' 5 より大きいです。')\n",
        "elif n > 2:\n",
        "    print(' 2 より大きいです。')\n",
        "else:\n",
        "    print(' 2 以下です。')"
      ],
      "metadata": {
        "id": "djcuv8R-t_ai"
      },
      "execution_count": null,
      "outputs": []
    },
    {
      "cell_type": "markdown",
      "source": [
        "## モジュール\n",
        "データ分析に必要な機能は、モジュールを追加することで利用が可能となる。\n"
      ],
      "metadata": {
        "id": "rXKyB4WX6TMo"
      }
    },
    {
      "cell_type": "markdown",
      "source": [
        "### 良く使われるモジュール\n",
        "\n",
        "モジュール名 | 機能 | 参考 URL\n",
        "-- | -- | --\n",
        "Numpy     | 行列やベクトルの計算 | https://numpy.org/\n",
        "Pandas    | データ処理 | https://pandas.pydata.org/\n",
        "matplotlib| データの可視化 | https://matplotlib.org/\n",
        "seaborn   | データの可視化 | https://seaborn.pydata.org/\n",
        "plotly    | データの可視化  | https://plotly.com/\n",
        "scipy     | 数値計算  | https://scipy.org/\n",
        "scikit-learn |  機械学習 |  https://scikit-learn.org/"
      ],
      "metadata": {
        "id": "7zdgZiy-eg5R"
      }
    },
    {
      "cell_type": "markdown",
      "source": [
        "### モジュールのインポート\n",
        "\n",
        "ライブラリーのインポート方法\n",
        "\n",
        "### モジュール全体をインポートする\n",
        "\n",
        "```\n",
        "import matplotlib\n",
        "import pandas\n",
        "```\n",
        "\n",
        "### モジュール全体を名前を変更してインポートする場合\n",
        "```\n",
        "import matplotlib as mpl\n",
        "import pandas as pd\n",
        "\n",
        "\n",
        "```\n",
        "### モジュールから一部の機能のみをインポート場合\n",
        "\n",
        "```\n",
        "from matplotlib import pyplot as plt\n",
        "```\n",
        "\n"
      ],
      "metadata": {
        "id": "6RUSSS9iR-xZ"
      }
    },
    {
      "cell_type": "markdown",
      "source": [
        "## データのファイルからの読み込み\n",
        "パソコン上に作成したエクセルファイルを Google Drive にアップロードして、Pythonプログラムで読み込んでみる。\n",
        "\n",
        "### エクセルファイルの作成  \n",
        "PCでエクセルを開き、適当な数値を入力しファイルを保存する。\n",
        "\n",
        "> 例えば、以下の表をエクセルで作る\n",
        ">\n",
        "> 商品|金額\n",
        ">  -- | --\n",
        "> りんご | 300\n",
        "> みかん | 200\n",
        "> スイカ | 1000\n",
        "\n",
        "### ドライブのマウント\n",
        "1. Colabにて、左端のフォルダーのアイコンをクリックし、ファイルメニューを開く。\n",
        "\n",
        "1. マウントアイコンをクリックし Google Driveをマウントする。\n",
        "\n",
        "1. drive の中の「MyDrive」が Google Drive のマイドライブとなる。\n",
        "\n",
        "### ファイルのGoogle Drive へのアップロード\n",
        "1. Google Drive で適当なフォルダーを作成\n",
        "2. PCのファイルをドラッグ＆ドロップでアップロードする。  \n",
        "あるいは、Google Driveで右クリックでメニューを開き、ファイルのアップロードを選択してもアップロードが可能である。\n",
        "\n",
        "### Colabで操作\n",
        "1. Driveメニューで目的のファイルにマウスを合わせ、ファイル名の右にある縦3つの「・」部分をクリックして「パスをコピー」を選択する。\n",
        "\n",
        "1. 以下のPythonコードの 3行目を先ほどコピーしたパスに変更する。ctrl+v でペーストされる。"
      ],
      "metadata": {
        "id": "ALpz2K-GYwzo"
      }
    },
    {
      "cell_type": "code",
      "source": [
        "import pandas\n",
        "\n",
        "# 以下の行を変更する\n",
        "file_name = '/content/drive/MyDrive/データアップロード/商品金額.xlsx'\n",
        "data= pandas.read_excel(file_name)\n",
        "\n",
        "#データの行数と列数を表示\n",
        "print( data.shape )"
      ],
      "metadata": {
        "id": "nbQH_JnZeHAt"
      },
      "execution_count": null,
      "outputs": []
    },
    {
      "cell_type": "code",
      "source": [
        "# 先頭部分のデータを表示\n",
        "data.head()"
      ],
      "metadata": {
        "id": "nHhU9cUvzCZJ"
      },
      "execution_count": null,
      "outputs": []
    },
    {
      "cell_type": "markdown",
      "source": [
        "### CSVファイルの読み込み\n",
        "\n",
        "> csvファイルはUTF-8で保存されている必要がある。うまく読み込めない場合は、エクセルで「CSV UTF-8」として保存すると良い。"
      ],
      "metadata": {
        "id": "BZ8V-tkH5skT"
      }
    },
    {
      "cell_type": "code",
      "source": [
        "import pandas\n",
        "\n",
        "data= pandas.read_csv('/content/drive/MyDrive/データアップロード/商品金額.csv')\n",
        "print( data.size )"
      ],
      "metadata": {
        "id": "cXc0-Hm1yRe7"
      },
      "execution_count": null,
      "outputs": []
    },
    {
      "cell_type": "code",
      "source": [
        "# 先頭の数行を表示させる\n",
        "data.head()"
      ],
      "metadata": {
        "id": "M1TYe7eKwvSO"
      },
      "execution_count": null,
      "outputs": []
    },
    {
      "cell_type": "markdown",
      "source": [
        "## コードスニペット\n",
        "便利なPythonコードの例がいくつか用意されている。使い方は、\n",
        "\n",
        "> 挿入 → コードスニペッド"
      ],
      "metadata": {
        "id": "FYompWKaZFvL"
      }
    },
    {
      "cell_type": "code",
      "source": [
        "import numpy as np\n",
        "#from matplotlib import pyplot as plt\n",
        "import matplotlib\n",
        "\n",
        "ys = 200 + np.random.randn(100)\n",
        "x = [x for x in range(len(ys))]\n",
        "\n",
        "matplotlib.pyplot.plot(x, ys, '-')\n",
        "matplotlib.pyplot.fill_between(x, ys, 195, where=(ys > 195), facecolor='g', alpha=0.6)\n",
        "\n",
        "matplotlib.pyplot.title(\"Fills and Alpha Example\")\n",
        "matplotlib.pyplot.show()"
      ],
      "metadata": {
        "id": "4fG2uOZGYz-f"
      },
      "execution_count": null,
      "outputs": []
    },
    {
      "cell_type": "code",
      "source": [
        "import numpy as np\n",
        "from matplotlib import pyplot as plt\n",
        "\n",
        "ys = 200 + np.random.randn(100)\n",
        "x = [x for x in range(len(ys))]\n",
        "\n",
        "plt.plot(x, ys, '-')\n",
        "plt.fill_between(x, ys, 195, where=(ys > 195), facecolor='g', alpha=0.6)\n",
        "\n",
        "plt.title(\"Fills and Alpha Example\")\n",
        "plt.show()"
      ],
      "metadata": {
        "id": "PxoVM7wqTn2N"
      },
      "execution_count": null,
      "outputs": []
    },
    {
      "cell_type": "markdown",
      "source": [
        "# 参考サイト\n",
        "- Google Colaboratory のWebページ\n",
        " - https://colab.research.google.com/\n",
        "\n",
        "\n",
        "- 授業の資料保管場所\n",
        " - https://github.com/yajima-yasutoshi/DataMinig/tree/main/20231004"
      ],
      "metadata": {
        "id": "SpNdfz6mzUZK"
      }
    }
  ]
}