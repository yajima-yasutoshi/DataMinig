{
  "nbformat": 4,
  "nbformat_minor": 0,
  "metadata": {
    "colab": {
      "provenance": [],
      "mount_file_id": "16zMMwQnEIMt7YkuCpbH6nu7HhwGSiasM",
      "authorship_tag": "ABX9TyNeKfF2FZPUGl/wtxhzr0Lx",
      "include_colab_link": true
    },
    "kernelspec": {
      "name": "python3",
      "display_name": "Python 3"
    },
    "language_info": {
      "name": "python"
    }
  },
  "cells": [
    {
      "cell_type": "markdown",
      "metadata": {
        "id": "view-in-github",
        "colab_type": "text"
      },
      "source": [
        "<a href=\"https://colab.research.google.com/github/yajima-yasutoshi/DataMinig/blob/main/20231004/GoogleColab%E3%81%AE%E4%BD%BF%E3%81%84%E6%96%B9.ipynb\" target=\"_parent\"><img src=\"https://colab.research.google.com/assets/colab-badge.svg\" alt=\"Open In Colab\"/></a>"
      ]
    },
    {
      "cell_type": "markdown",
      "source": [
        "# Google Colab の始め方"
      ],
      "metadata": {
        "id": "Fu_M_pfFObLc"
      }
    },
    {
      "cell_type": "markdown",
      "source": [
        "## Google Colaboratory とは何か\n",
        "\n",
        "* ブラウザ（Chrome）を使い、Pythonプログラムの開発と実行ができる環境。\n",
        "* Googleアカウント（Gmail）が必要\n",
        "\n",
        "### 主な特徴\n",
        "\n",
        "* AIを実行する環境が既に用意されている（CPUだけでなくGPUも利用できる）\n",
        "* 無料で使える。（複雑なAIを構築するためには有料プランが必要となる場合もある。）\n",
        "* プログラムを**Colabノーブック**に作成し、対話的にPythonが利用\n",
        "* Pythonプログラムや実行結果の共有が簡単\n",
        "* 報告資料などの作成も Colabノートブックで行える\n"
      ],
      "metadata": {
        "id": "fAkTsnPBY0QP"
      }
    },
    {
      "cell_type": "markdown",
      "source": [
        "## 準備\n",
        "1. Googleアカウント（Gmailアカウント）の用意\n",
        "1. 「Google Colaboratory」へアクセス\n",
        " - https://colab.research.google.com/\n",
        "1. 「Googleドライブ」にアクセス\n",
        " - https://drive.google.com/ にアクセスする\n",
        " - マイドライブに中に「Colab Notebooks」が作られていることを確認\n",
        "\n",
        "### Colabノートブック利用の流れ\n",
        "1. Google Drive で、新規 → その他 → Google Colaboratoryを選択し、新規のノートブックを作成される。\n",
        "2. **コードセル**には、Pythonのプログラムを入力し実行が可能\n",
        "2. 説明などは**テキストセル**に書き込むことが可能\n",
        "2. ノートブック名を変更し保存（拡張子は.ipynb となる）\n",
        "2. ファイル→ ドライブにコピーを保存で、ファイルが保存"
      ],
      "metadata": {
        "id": "YuredqkxcbR_"
      }
    },
    {
      "cell_type": "markdown",
      "source": [
        "# Google Colab の主な機能"
      ],
      "metadata": {
        "id": "D43sL4ZWOikf"
      }
    },
    {
      "cell_type": "markdown",
      "source": [
        "##セル\n",
        "Colab Notebook には2種類のセルがある。\n",
        "* セルの追加には、**＋コード**、**＋テキスト** のボタンを使う\n",
        "* テキストセルはダブルクリックで再編集が可能。別のセルをクリックすると編集が終了する。\n",
        "* **↑** **↓**で、セルの上下移動が可能\n",
        "* **ゴミ箱マーク** で削除\n",
        "* 歯車のマークで細かな設定が可能"
      ],
      "metadata": {
        "id": "JP46pGB6XZLZ"
      }
    },
    {
      "cell_type": "markdown",
      "source": [
        "### コードセル\n",
        "Pythonコードを入力するためのセル  \n",
        "Pythonコードを入力したセルの左のボタン（三角のマークがある）をクリックすると、セルに書かれたコードが実行される\n",
        "\n"
      ],
      "metadata": {
        "id": "i6fj-rNiQL--"
      }
    },
    {
      "cell_type": "code",
      "source": [
        "a = 1\n",
        "b = 5\n",
        "print(a + b)"
      ],
      "metadata": {
        "id": "r5yO1JnqPUjT",
        "colab": {
          "base_uri": "https://localhost:8080/"
        },
        "outputId": "5058a4f7-e79f-4280-f34a-27c7d4ed70f3"
      },
      "execution_count": null,
      "outputs": [
        {
          "output_type": "stream",
          "name": "stdout",
          "text": [
            "6\n"
          ]
        }
      ]
    },
    {
      "cell_type": "markdown",
      "source": [
        "### テキストセル\n",
        "文章や数式などが入力でき、プログラムの説明などを記入するセル。\n",
        "記入には**マークダウン形式**が用いられる。"
      ],
      "metadata": {
        "id": "VDBjAWTJPlOq"
      }
    },
    {
      "cell_type": "markdown",
      "source": [
        "- 箇条書き１\n",
        "- 箇条書き２\n",
        "- 箇条書き３\n",
        "\n",
        "### 見出し\n",
        "## 見出し\n",
        "# 見出し\n",
        "\n",
        "#### スペース2個で改行の例\n",
        "\n",
        "これでは\n",
        "改行されません。\n",
        "\n",
        "これで改行  \n",
        "されます。\n",
        "\n",
        "*Italic* 斜体や\n",
        "\n",
        "**太字** 太字\n",
        "\n"
      ],
      "metadata": {
        "id": "7RU1rNhuUXd2"
      }
    },
    {
      "cell_type": "markdown",
      "source": [
        "#### 数式の入力\n",
        "数式の入力は LaTeX形式を使います。\n",
        "$$ y = a x^2 + b$$\n",
        "$$ y = \\frac{1}{x} $$"
      ],
      "metadata": {
        "id": "4hZRtSHLU6VX"
      }
    },
    {
      "cell_type": "markdown",
      "source": [
        "### スクラッチコードセル\n",
        "簡単なコードを試すことができるセル。ノートブックには残したくないが試してみたいコードがある場合に利用する。使い方は、\n",
        "\n",
        "> 挿入 → スクラッチ\n"
      ],
      "metadata": {
        "id": "-e-Jmli_Y2Un"
      }
    },
    {
      "cell_type": "markdown",
      "source": [
        "### コードスニペット\n",
        "便利なPythonコードの例がいくつか用意されている。使い方は、\n",
        "\n",
        "> 挿入 → コードスニペッド"
      ],
      "metadata": {
        "id": "FYompWKaZFvL"
      }
    },
    {
      "cell_type": "markdown",
      "source": [
        "## セッションの管理\n",
        "\n",
        "同時に複数のノートブックを操作しようとするとエラーになることがある。この場合は、\n",
        "\n",
        "> ランタイム → セッションの管理\n",
        "\n",
        "で起動しているセッションの一覧を表示させ、不要なものを終了させる必要がある。\n",
        "\n",
        "\n",
        "\n",
        "\n",
        "\n"
      ],
      "metadata": {
        "id": "cX-Rx2PxqbcW"
      }
    },
    {
      "cell_type": "markdown",
      "source": [
        "# Python の使い方\n"
      ],
      "metadata": {
        "id": "xR8kT6AEahqy"
      }
    },
    {
      "cell_type": "markdown",
      "source": [
        "## コードセルへの入力\n",
        "1. 「＋コード」をクリックし、何も入力されていないコードセルを作成（追加）し、そこに Python のコード書く\n",
        "\n",
        "2. コードを実行は、shiftを押しながら enter キーを押す。"
      ],
      "metadata": {
        "id": "lXO96RYu4M9u"
      }
    },
    {
      "cell_type": "code",
      "source": [
        "#変数への代入と演算\n",
        "a = 3\n",
        "b = 5\n",
        "c = a - b * 7\n",
        "print(c)"
      ],
      "metadata": {
        "colab": {
          "base_uri": "https://localhost:8080/"
        },
        "id": "FZ1uF9sp2d1y",
        "outputId": "07ab5098-d928-444b-be88-dfb7a05cd4e3"
      },
      "execution_count": null,
      "outputs": [
        {
          "output_type": "stream",
          "name": "stdout",
          "text": [
            "-32\n"
          ]
        }
      ]
    },
    {
      "cell_type": "code",
      "source": [
        "# 繰り返し\n",
        "for i in range(3):\n",
        "    print(i, end=\" \")"
      ],
      "metadata": {
        "colab": {
          "base_uri": "https://localhost:8080/"
        },
        "id": "I-12CDkYrX6u",
        "outputId": "b2595f66-4de5-4bed-d7ce-eb92d3575821"
      },
      "execution_count": null,
      "outputs": [
        {
          "output_type": "stream",
          "name": "stdout",
          "text": [
            "0 1 2 "
          ]
        }
      ]
    },
    {
      "cell_type": "code",
      "source": [
        "a=range(3)\n",
        "print(*a)"
      ],
      "metadata": {
        "colab": {
          "base_uri": "https://localhost:8080/"
        },
        "id": "HX17wlJ7rrIK",
        "outputId": "aafa47b6-8590-4011-9098-5d04fff14772"
      },
      "execution_count": null,
      "outputs": [
        {
          "output_type": "stream",
          "name": "stdout",
          "text": [
            "0 1 2\n"
          ]
        }
      ]
    },
    {
      "cell_type": "code",
      "source": [
        "s = input('整数を入力してください : ')\n",
        "n = int(s)\n",
        "\n",
        "if n > 5:\n",
        "    print(' 5 より大きいです。')\n",
        "elif n > 2:\n",
        "    print(' 2 より大きいです。')\n",
        "else:\n",
        "    print(' 2 以下です。')"
      ],
      "metadata": {
        "colab": {
          "base_uri": "https://localhost:8080/"
        },
        "id": "djcuv8R-t_ai",
        "outputId": "d3dbf4d3-56da-4dbd-88e1-8eb085e1dbb9"
      },
      "execution_count": null,
      "outputs": [
        {
          "output_type": "stream",
          "name": "stdout",
          "text": [
            "整数を入力してください : 4\n",
            " 2 より大きいです。\n"
          ]
        }
      ]
    },
    {
      "cell_type": "code",
      "source": [],
      "metadata": {
        "id": "IATGPQydt_Bh"
      },
      "execution_count": null,
      "outputs": []
    },
    {
      "cell_type": "markdown",
      "source": [
        "## モジュール\n",
        "データ分析に必要な機能を追加することができる。\n"
      ],
      "metadata": {
        "id": "rXKyB4WX6TMo"
      }
    },
    {
      "cell_type": "markdown",
      "source": [
        "### 良く使われるモジュール\n",
        "\n",
        "モジュール名 | 機能 | 参考 URL\n",
        "-- | -- | --\n",
        "Numpy     | 行列やベクトルの計算 | https://numpy.org/\n",
        "Pandas    | データ処理 | https://pandas.pydata.org/\n",
        "matplotlib| データの可視化 | https://matplotlib.org/\n",
        "seaborn   | データの可視化 | https://seaborn.pydata.org/\n",
        "plotly    | データの可視化  | https://plotly.com/\n",
        "scipy     | 数値計算  | https://scipy.org/\n",
        "scikit-learn |  機械学習 |  https://scikit-learn.org/"
      ],
      "metadata": {
        "id": "7zdgZiy-eg5R"
      }
    },
    {
      "cell_type": "markdown",
      "source": [
        "### モジュールのインポート\n",
        "\n",
        "ライブラリーのインポート方法\n",
        "\n",
        "### モジュール全体をインポートする\n",
        "\n",
        "```\n",
        "import matplotlib\n",
        "import pandas\n",
        "```\n",
        "\n",
        "### モジュール全体を名前を変更してインポートする場合\n",
        "```\n",
        "import matplotlib as mpl\n",
        "import pandas as pd\n",
        "\n",
        "\n",
        "```\n",
        "### モジュールから一部の機能のみをインポート場合\n",
        "\n",
        "```\n",
        "from matplotlib import pyplot as plt\n",
        "```\n",
        "\n"
      ],
      "metadata": {
        "id": "6RUSSS9iR-xZ"
      }
    },
    {
      "cell_type": "code",
      "source": [
        "import numpy as np\n",
        "#from matplotlib import pyplot as plt\n",
        "import matplotlib\n",
        "\n",
        "ys = 200 + np.random.randn(100)\n",
        "x = [x for x in range(len(ys))]\n",
        "\n",
        "matplotlib.pyplot.plot(x, ys, '-')\n",
        "matplotlib.pyplot.fill_between(x, ys, 195, where=(ys > 195), facecolor='g', alpha=0.6)\n",
        "\n",
        "matplotlib.pyplot.title(\"Fills and Alpha Example\")\n",
        "matplotlib.pyplot.show()"
      ],
      "metadata": {
        "colab": {
          "base_uri": "https://localhost:8080/",
          "height": 452
        },
        "id": "4fG2uOZGYz-f",
        "outputId": "594236e6-98f2-4d33-fbba-c1ef5ee8cea8"
      },
      "execution_count": null,
      "outputs": [
        {
          "output_type": "display_data",
          "data": {
            "text/plain": [
              "<Figure size 640x480 with 1 Axes>"
            ],
            "image/png": "[encoded data removed]"
          },
          "metadata": {}
        }
      ]
    },
    {
      "cell_type": "code",
      "source": [
        "import numpy as np\n",
        "from matplotlib import pyplot as plt\n",
        "\n",
        "ys = 200 + np.random.randn(100)\n",
        "x = [x for x in range(len(ys))]\n",
        "\n",
        "plt.plot(x, ys, '-')\n",
        "plt.fill_between(x, ys, 195, where=(ys > 195), facecolor='g', alpha=0.6)\n",
        "\n",
        "plt.title(\"Fills and Alpha Example\")\n",
        "plt.show()"
      ],
      "metadata": {
        "colab": {
          "base_uri": "https://localhost:8080/",
          "height": 452
        },
        "id": "PxoVM7wqTn2N",
        "outputId": "e9a1ddd8-c1fc-43be-bed6-2d8bb7f6e58e"
      },
      "execution_count": null,
      "outputs": [
        {
          "output_type": "display_data",
          "data": {
            "text/plain": [
              "<Figure size 640x480 with 1 Axes>"
            ],
            "image/png": "[encoded data removed]"
          },
          "metadata": {}
        }
      ]
    },
    {
      "cell_type": "markdown",
      "source": [
        "## データのファイルからの読み込み\n",
        "パソコン上に作成したエクセルファイルを Google Drive にアップロードして、Pythonプログラムで読み込んでみる。\n",
        "\n",
        "1. エクセルファイルの作成  \n",
        "PCでエクセルを開き、適当な数値を入力しファイルを保存する。\n",
        "\n",
        "1. Google Drive へファイルをドラッグ＆ドロップでアップロードする。  \n",
        "あるいは、右クリックでメニューを開きファイルのアップロードを選択してもアップロードが可能である。\n",
        "\n",
        "1. Colabにて、左端のフォルダーのアイコンをクリックし、ファイルメニューを開く。\n",
        "\n",
        "1. マウントアイコンをクリックし Google Driveをマウントする。\n",
        "\n",
        "1. drive の中の「MyDrive」が Google Drive のマイドライブとなる。\n",
        "\n",
        "1. 目的のファイルにマウスを合わせ、ファイル名の右にある縦3つの「・」部分をクリックして「パスをコピー」を選択する。\n",
        "\n",
        "1. 以下のPythonコードの 3行目を先ほどコピーしたパスに変更する。ctrl+v でペーストされる。"
      ],
      "metadata": {
        "id": "ALpz2K-GYwzo"
      }
    },
    {
      "cell_type": "code",
      "source": [
        "import pandas\n",
        "\n",
        "# 以下の行を変更する\n",
        "file_name = '/content/drive/MyDrive/データアップロード/商品金額.xlsx'\n",
        "data= pandas.read_excel(file_name)\n",
        "\n",
        "#データの行数と列数を表示\n",
        "print( data.shape )"
      ],
      "metadata": {
        "colab": {
          "base_uri": "https://localhost:8080/"
        },
        "id": "nbQH_JnZeHAt",
        "outputId": "5dfcdc1f-5fc0-41bd-b6d4-f2d0d3eed18e"
      },
      "execution_count": null,
      "outputs": [
        {
          "output_type": "stream",
          "name": "stdout",
          "text": [
            "(3, 2)\n"
          ]
        }
      ]
    },
    {
      "cell_type": "code",
      "source": [
        "# 先頭部分のデータを表示\n",
        "data.head()"
      ],
      "metadata": {
        "colab": {
          "base_uri": "https://localhost:8080/",
          "height": 143
        },
        "id": "nHhU9cUvzCZJ",
        "outputId": "df06e7aa-7722-4fca-8a1f-b2a2277af815"
      },
      "execution_count": null,
      "outputs": [
        {
          "output_type": "execute_result",
          "data": {
            "text/plain": [
              "    商品    金額\n",
              "0  リンゴ   300\n",
              "1  みかん   200\n",
              "2  スイカ  1000"
            ],
            "text/html": [
              "\n",
              "  <div id=\"df-15de4bc7-5007-46f3-9ca2-4c68dc96d073\" class=\"colab-df-container\">\n",
              "    <div>\n",
              "<style scoped>\n",
              "    .dataframe tbody tr th:only-of-type {\n",
              "        vertical-align: middle;\n",
              "    }\n",
              "\n",
              "    .dataframe tbody tr th {\n",
              "        vertical-align: top;\n",
              "    }\n",
              "\n",
              "    .dataframe thead th {\n",
              "        text-align: right;\n",
              "    }\n",
              "</style>\n",
              "<table border=\"1\" class=\"dataframe\">\n",
              "  <thead>\n",
              "    <tr style=\"text-align: right;\">\n",
              "      <th></th>\n",
              "      <th>商品</th>\n",
              "      <th>金額</th>\n",
              "    </tr>\n",
              "  </thead>\n",
              "  <tbody>\n",
              "    <tr>\n",
              "      <th>0</th>\n",
              "      <td>リンゴ</td>\n",
              "      <td>300</td>\n",
              "    </tr>\n",
              "    <tr>\n",
              "      <th>1</th>\n",
              "      <td>みかん</td>\n",
              "      <td>200</td>\n",
              "    </tr>\n",
              "    <tr>\n",
              "      <th>2</th>\n",
              "      <td>スイカ</td>\n",
              "      <td>1000</td>\n",
              "    </tr>\n",
              "  </tbody>\n",
              "</table>\n",
              "</div>\n",
              "    <div class=\"colab-df-buttons\">\n",
              "\n",
              "  <div class=\"colab-df-container\">\n",
              "    <button class=\"colab-df-convert\" onclick=\"convertToInteractive('df-15de4bc7-5007-46f3-9ca2-4c68dc96d073')\"\n",
              "            title=\"Convert this dataframe to an interactive table.\"\n",
              "            style=\"display:none;\">\n",
              "\n",
              "  <svg xmlns=\"http://www.w3.org/2000/svg\" height=\"24px\" viewBox=\"0 -960 960 960\">\n",
              "    <path d=\"M120-120v-720h720v720H120Zm60-500h600v-160H180v160Zm220 220h160v-160H400v160Zm0 220h160v-160H400v160ZM180-400h160v-160H180v160Zm440 0h160v-160H620v160ZM180-180h160v-160H180v160Zm440 0h160v-160H620v160Z\"/>\n",
              "  </svg>\n",
              "    </button>\n",
              "\n",
              "  <style>\n",
              "    .colab-df-container {\n",
              "      display:flex;\n",
              "      gap: 12px;\n",
              "    }\n",
              "\n",
              "    .colab-df-convert {\n",
              "      background-color: #E8F0FE;\n",
              "      border: none;\n",
              "      border-radius: 50%;\n",
              "      cursor: pointer;\n",
              "      display: none;\n",
              "      fill: #1967D2;\n",
              "      height: 32px;\n",
              "      padding: 0 0 0 0;\n",
              "      width: 32px;\n",
              "    }\n",
              "\n",
              "    .colab-df-convert:hover {\n",
              "      background-color: #E2EBFA;\n",
              "      box-shadow: 0px 1px 2px rgba(60, 64, 67, 0.3), 0px 1px 3px 1px rgba(60, 64, 67, 0.15);\n",
              "      fill: #174EA6;\n",
              "    }\n",
              "\n",
              "    .colab-df-buttons div {\n",
              "      margin-bottom: 4px;\n",
              "    }\n",
              "\n",
              "    [theme=dark] .colab-df-convert {\n",
              "      background-color: #3B4455;\n",
              "      fill: #D2E3FC;\n",
              "    }\n",
              "\n",
              "    [theme=dark] .colab-df-convert:hover {\n",
              "      background-color: #434B5C;\n",
              "      box-shadow: 0px 1px 3px 1px rgba(0, 0, 0, 0.15);\n",
              "      filter: drop-shadow(0px 1px 2px rgba(0, 0, 0, 0.3));\n",
              "      fill: #FFFFFF;\n",
              "    }\n",
              "  </style>\n",
              "\n",
              "    <script>\n",
              "      const buttonEl =\n",
              "        document.querySelector('#df-15de4bc7-5007-46f3-9ca2-4c68dc96d073 button.colab-df-convert');\n",
              "      buttonEl.style.display =\n",
              "        google.colab.kernel.accessAllowed ? 'block' : 'none';\n",
              "\n",
              "      async function convertToInteractive(key) {\n",
              "        const element = document.querySelector('#df-15de4bc7-5007-46f3-9ca2-4c68dc96d073');\n",
              "        const dataTable =\n",
              "          await google.colab.kernel.invokeFunction('convertToInteractive',\n",
              "                                                    [key], {});\n",
              "        if (!dataTable) return;\n",
              "\n",
              "        const docLinkHtml = 'Like what you see? Visit the ' +\n",
              "          '<a target=\"_blank\" href=https://colab.research.google.com/notebooks/data_table.ipynb>data table notebook</a>'\n",
              "          + ' to learn more about interactive tables.';\n",
              "        element.innerHTML = '';\n",
              "        dataTable['output_type'] = 'display_data';\n",
              "        await google.colab.output.renderOutput(dataTable, element);\n",
              "        const docLink = document.createElement('div');\n",
              "        docLink.innerHTML = docLinkHtml;\n",
              "        element.appendChild(docLink);\n",
              "      }\n",
              "    </script>\n",
              "  </div>\n",
              "\n",
              "\n",
              "<div id=\"df-f871847e-79ff-4b53-a70a-b31563d906d2\">\n",
              "  <button class=\"colab-df-quickchart\" onclick=\"quickchart('df-f871847e-79ff-4b53-a70a-b31563d906d2')\"\n",
              "            title=\"Suggest charts.\"\n",
              "            style=\"display:none;\">\n",
              "\n",
              "<svg xmlns=\"http://www.w3.org/2000/svg\" height=\"24px\"viewBox=\"0 0 24 24\"\n",
              "     width=\"24px\">\n",
              "    <g>\n",
              "        <path d=\"M19 3H5c-1.1 0-2 .9-2 2v14c0 1.1.9 2 2 2h14c1.1 0 2-.9 2-2V5c0-1.1-.9-2-2-2zM9 17H7v-7h2v7zm4 0h-2V7h2v10zm4 0h-2v-4h2v4z\"/>\n",
              "    </g>\n",
              "</svg>\n",
              "  </button>\n",
              "\n",
              "<style>\n",
              "  .colab-df-quickchart {\n",
              "      --bg-color: #E8F0FE;\n",
              "      --fill-color: #1967D2;\n",
              "      --hover-bg-color: #E2EBFA;\n",
              "      --hover-fill-color: #174EA6;\n",
              "      --disabled-fill-color: #AAA;\n",
              "      --disabled-bg-color: #DDD;\n",
              "  }\n",
              "\n",
              "  [theme=dark] .colab-df-quickchart {\n",
              "      --bg-color: #3B4455;\n",
              "      --fill-color: #D2E3FC;\n",
              "      --hover-bg-color: #434B5C;\n",
              "      --hover-fill-color: #FFFFFF;\n",
              "      --disabled-bg-color: #3B4455;\n",
              "      --disabled-fill-color: #666;\n",
              "  }\n",
              "\n",
              "  .colab-df-quickchart {\n",
              "    background-color: var(--bg-color);\n",
              "    border: none;\n",
              "    border-radius: 50%;\n",
              "    cursor: pointer;\n",
              "    display: none;\n",
              "    fill: var(--fill-color);\n",
              "    height: 32px;\n",
              "    padding: 0;\n",
              "    width: 32px;\n",
              "  }\n",
              "\n",
              "  .colab-df-quickchart:hover {\n",
              "    background-color: var(--hover-bg-color);\n",
              "    box-shadow: 0 1px 2px rgba(60, 64, 67, 0.3), 0 1px 3px 1px rgba(60, 64, 67, 0.15);\n",
              "    fill: var(--button-hover-fill-color);\n",
              "  }\n",
              "\n",
              "  .colab-df-quickchart-complete:disabled,\n",
              "  .colab-df-quickchart-complete:disabled:hover {\n",
              "    background-color: var(--disabled-bg-color);\n",
              "    fill: var(--disabled-fill-color);\n",
              "    box-shadow: none;\n",
              "  }\n",
              "\n",
              "  .colab-df-spinner {\n",
              "    border: 2px solid var(--fill-color);\n",
              "    border-color: transparent;\n",
              "    border-bottom-color: var(--fill-color);\n",
              "    animation:\n",
              "      spin 1s steps(1) infinite;\n",
              "  }\n",
              "\n",
              "  @keyframes spin {\n",
              "    0% {\n",
              "      border-color: transparent;\n",
              "      border-bottom-color: var(--fill-color);\n",
              "      border-left-color: var(--fill-color);\n",
              "    }\n",
              "    20% {\n",
              "      border-color: transparent;\n",
              "      border-left-color: var(--fill-color);\n",
              "      border-top-color: var(--fill-color);\n",
              "    }\n",
              "    30% {\n",
              "      border-color: transparent;\n",
              "      border-left-color: var(--fill-color);\n",
              "      border-top-color: var(--fill-color);\n",
              "      border-right-color: var(--fill-color);\n",
              "    }\n",
              "    40% {\n",
              "      border-color: transparent;\n",
              "      border-right-color: var(--fill-color);\n",
              "      border-top-color: var(--fill-color);\n",
              "    }\n",
              "    60% {\n",
              "      border-color: transparent;\n",
              "      border-right-color: var(--fill-color);\n",
              "    }\n",
              "    80% {\n",
              "      border-color: transparent;\n",
              "      border-right-color: var(--fill-color);\n",
              "      border-bottom-color: var(--fill-color);\n",
              "    }\n",
              "    90% {\n",
              "      border-color: transparent;\n",
              "      border-bottom-color: var(--fill-color);\n",
              "    }\n",
              "  }\n",
              "</style>\n",
              "\n",
              "  <script>\n",
              "    async function quickchart(key) {\n",
              "      const quickchartButtonEl =\n",
              "        document.querySelector('#' + key + ' button');\n",
              "      quickchartButtonEl.disabled = true;  // To prevent multiple clicks.\n",
              "      quickchartButtonEl.classList.add('colab-df-spinner');\n",
              "      try {\n",
              "        const charts = await google.colab.kernel.invokeFunction(\n",
              "            'suggestCharts', [key], {});\n",
              "      } catch (error) {\n",
              "        console.error('Error during call to suggestCharts:', error);\n",
              "      }\n",
              "      quickchartButtonEl.classList.remove('colab-df-spinner');\n",
              "      quickchartButtonEl.classList.add('colab-df-quickchart-complete');\n",
              "    }\n",
              "    (() => {\n",
              "      let quickchartButtonEl =\n",
              "        document.querySelector('#df-f871847e-79ff-4b53-a70a-b31563d906d2 button');\n",
              "      quickchartButtonEl.style.display =\n",
              "        google.colab.kernel.accessAllowed ? 'block' : 'none';\n",
              "    })();\n",
              "  </script>\n",
              "</div>\n",
              "    </div>\n",
              "  </div>\n"
            ]
          },
          "metadata": {},
          "execution_count": 10
        }
      ]
    },
    {
      "cell_type": "markdown",
      "source": [
        "### CSVファイルの読み込み"
      ],
      "metadata": {
        "id": "BZ8V-tkH5skT"
      }
    },
    {
      "cell_type": "code",
      "source": [
        "import pandas\n",
        "\n",
        "data= pandas.read_csv('/content/drive/MyDrive/周南公立大学/Python/test - シート1.csv')\n",
        "print( data.size )"
      ],
      "metadata": {
        "id": "cXc0-Hm1yRe7",
        "colab": {
          "base_uri": "https://localhost:8080/"
        },
        "outputId": "a6836829-2aab-43e0-cbd7-121324747474"
      },
      "execution_count": null,
      "outputs": [
        {
          "output_type": "stream",
          "name": "stdout",
          "text": [
            "3\n"
          ]
        }
      ]
    },
    {
      "cell_type": "code",
      "source": [
        "import pandas as pd\n",
        "data= pd.read_csv('/content/drive/MyDrive/周南公立大学/Python/test - シート1.csv')\n",
        "data.head()"
      ],
      "metadata": {
        "colab": {
          "base_uri": "https://localhost:8080/",
          "height": 80
        },
        "id": "M1TYe7eKwvSO",
        "outputId": "2f68dff8-b432-4dde-954b-aa24c9fe1a9f"
      },
      "execution_count": null,
      "outputs": [
        {
          "output_type": "execute_result",
          "data": {
            "text/plain": [
              "   a  b    c\n",
              "0  1  3  AAA"
            ],
            "text/html": [
              "\n",
              "  <div id=\"df-3e0c0f37-4013-46bc-9fff-3701e0513e12\" class=\"colab-df-container\">\n",
              "    <div>\n",
              "<style scoped>\n",
              "    .dataframe tbody tr th:only-of-type {\n",
              "        vertical-align: middle;\n",
              "    }\n",
              "\n",
              "    .dataframe tbody tr th {\n",
              "        vertical-align: top;\n",
              "    }\n",
              "\n",
              "    .dataframe thead th {\n",
              "        text-align: right;\n",
              "    }\n",
              "</style>\n",
              "<table border=\"1\" class=\"dataframe\">\n",
              "  <thead>\n",
              "    <tr style=\"text-align: right;\">\n",
              "      <th></th>\n",
              "      <th>a</th>\n",
              "      <th>b</th>\n",
              "      <th>c</th>\n",
              "    </tr>\n",
              "  </thead>\n",
              "  <tbody>\n",
              "    <tr>\n",
              "      <th>0</th>\n",
              "      <td>1</td>\n",
              "      <td>3</td>\n",
              "      <td>AAA</td>\n",
              "    </tr>\n",
              "  </tbody>\n",
              "</table>\n",
              "</div>\n",
              "    <div class=\"colab-df-buttons\">\n",
              "\n",
              "  <div class=\"colab-df-container\">\n",
              "    <button class=\"colab-df-convert\" onclick=\"convertToInteractive('df-3e0c0f37-4013-46bc-9fff-3701e0513e12')\"\n",
              "            title=\"Convert this dataframe to an interactive table.\"\n",
              "            style=\"display:none;\">\n",
              "\n",
              "  <svg xmlns=\"http://www.w3.org/2000/svg\" height=\"24px\" viewBox=\"0 -960 960 960\">\n",
              "    <path d=\"M120-120v-720h720v720H120Zm60-500h600v-160H180v160Zm220 220h160v-160H400v160Zm0 220h160v-160H400v160ZM180-400h160v-160H180v160Zm440 0h160v-160H620v160ZM180-180h160v-160H180v160Zm440 0h160v-160H620v160Z\"/>\n",
              "  </svg>\n",
              "    </button>\n",
              "\n",
              "  <style>\n",
              "    .colab-df-container {\n",
              "      display:flex;\n",
              "      gap: 12px;\n",
              "    }\n",
              "\n",
              "    .colab-df-convert {\n",
              "      background-color: #E8F0FE;\n",
              "      border: none;\n",
              "      border-radius: 50%;\n",
              "      cursor: pointer;\n",
              "      display: none;\n",
              "      fill: #1967D2;\n",
              "      height: 32px;\n",
              "      padding: 0 0 0 0;\n",
              "      width: 32px;\n",
              "    }\n",
              "\n",
              "    .colab-df-convert:hover {\n",
              "      background-color: #E2EBFA;\n",
              "      box-shadow: 0px 1px 2px rgba(60, 64, 67, 0.3), 0px 1px 3px 1px rgba(60, 64, 67, 0.15);\n",
              "      fill: #174EA6;\n",
              "    }\n",
              "\n",
              "    .colab-df-buttons div {\n",
              "      margin-bottom: 4px;\n",
              "    }\n",
              "\n",
              "    [theme=dark] .colab-df-convert {\n",
              "      background-color: #3B4455;\n",
              "      fill: #D2E3FC;\n",
              "    }\n",
              "\n",
              "    [theme=dark] .colab-df-convert:hover {\n",
              "      background-color: #434B5C;\n",
              "      box-shadow: 0px 1px 3px 1px rgba(0, 0, 0, 0.15);\n",
              "      filter: drop-shadow(0px 1px 2px rgba(0, 0, 0, 0.3));\n",
              "      fill: #FFFFFF;\n",
              "    }\n",
              "  </style>\n",
              "\n",
              "    <script>\n",
              "      const buttonEl =\n",
              "        document.querySelector('#df-3e0c0f37-4013-46bc-9fff-3701e0513e12 button.colab-df-convert');\n",
              "      buttonEl.style.display =\n",
              "        google.colab.kernel.accessAllowed ? 'block' : 'none';\n",
              "\n",
              "      async function convertToInteractive(key) {\n",
              "        const element = document.querySelector('#df-3e0c0f37-4013-46bc-9fff-3701e0513e12');\n",
              "        const dataTable =\n",
              "          await google.colab.kernel.invokeFunction('convertToInteractive',\n",
              "                                                    [key], {});\n",
              "        if (!dataTable) return;\n",
              "\n",
              "        const docLinkHtml = 'Like what you see? Visit the ' +\n",
              "          '<a target=\"_blank\" href=https://colab.research.google.com/notebooks/data_table.ipynb>data table notebook</a>'\n",
              "          + ' to learn more about interactive tables.';\n",
              "        element.innerHTML = '';\n",
              "        dataTable['output_type'] = 'display_data';\n",
              "        await google.colab.output.renderOutput(dataTable, element);\n",
              "        const docLink = document.createElement('div');\n",
              "        docLink.innerHTML = docLinkHtml;\n",
              "        element.appendChild(docLink);\n",
              "      }\n",
              "    </script>\n",
              "  </div>\n",
              "\n",
              "    </div>\n",
              "  </div>\n"
            ]
          },
          "metadata": {},
          "execution_count": 15
        }
      ]
    },
    {
      "cell_type": "markdown",
      "source": [],
      "metadata": {
        "id": "EbB33LpagmFB"
      }
    },
    {
      "cell_type": "markdown",
      "source": [
        "# 参考サイト\n",
        "- Google Colaboratory のWebページ\n",
        " - https://colab.research.google.com/\n",
        "\n",
        "\n",
        "- 授業の資料保管場所\n",
        " - https://github.com/yajima-yasutoshi/DataMinig\n"
      ],
      "metadata": {
        "id": "SpNdfz6mzUZK"
      }
    }
  ]
}